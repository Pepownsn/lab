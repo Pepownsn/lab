{
 "cells": [
  {
   "cell_type": "markdown",
   "metadata": {},
   "source": [
    "|  **ลำดับ** | **เครื่องใช้ไฟฟ้า** | **รุ่น/ขนาด** |\n",
    "|  :------: | :------: | :------: |\n",
    "|  1 | เครื่องปรับอากาศ | 9000btu |                                      :::::::  TYPE 2 \" TURN ON EVERYDAY//ONCE TIME  \n",
    "|  2 | พัดลม | พัดลมตั้งพื้น 16 นิ้ว |                                      :::::::  TYPE 3 \" TURN ON EVERYDAY//1-3 TIMES  \n",
    "|  3 | โทรทัศน์ | LCD ขนาด 49 นิ้ว |                                     :::::::  TYPE 3 \" TURN ON EVERYDAY//1-3 TIMES  \n",
    "|  4 | คอมพิวเตอร์ ตั้งโต๊ะ | psu 600W + LED 23\"  |                  :::::::  TYPE 2 \" TURN ON EVERYDAY//ONCE TIME  \n",
    "|  5 | เครื่องทำน้ำอุ่น | 4500 watt |                                        :::::::  TYPE 5 \" TURN ON SOMEDAY//1-3 TIMES  \n",
    "|  6 | ตู้เย็น | 2 ประตูขนาด 17 คิว |                                      :::::::  TYPE 1 \" ALWAY TURN ON (1)\n",
    "|  7 | เครื่องซักผ้า | ฝาบนขนาด ... ลิตร |                                 :::::::  TYPE 4 \" TURN ON SOMEDAY//ONCE TIME \n",
    "|  8 | กระติกน้ำร้อน | ขนาด 2.8 ลิตร |                                    :::::::  TYPE 2 \" TURN ON EVERYDAY//ONCE TIME  \n",
    "|  9 | เตารีด | .... watt |                                             :::::::  TYPE 4 \" TURN ON SOMEDAY//ONCE TIME \n",
    "|  10 | หม้อหุงข้าว | .... ลิตร|                                          :::::::  TYPE 4 \" TURN ON SOMEDAY//ONCE TIME \n",
    "|  11 | ไดร์เป่าผม | 1200watt  |                                         :::::::  TYPE 2 \" TURN ON EVERYDAY//ONCE TIME  \n",
    "|  12 | เตาไมโครเวฟ | 4000w |                                          :::::::  TYPE 2 \" TURN ON EVERYDAY//ONCE TIME  \n",
    "|  13 | ที่ชาร์ตแบตโทรศัพท์มือถือ | ipad 9.7 นิ้ว  |                          :::::::  TYPE 2 \" TURN ON EVERYDAY//ONCE TIME  \n",
    "|  14 | ไวร์เลสเร้าเตอร์ | ONU fiber 4 lan |                               :::::::  TYPE 1 \" ALWAY TURN ON (1)\n",
    "|  15 | หลอดไฟส่องสว่าง | LED 7 watt  |                                 :::::::  TYPE 3 \" TURN ON EVERYDAY//1-3 TIMES      (ใช้ df เก็บค่าทุกๆ 15 วินาที 2//4//4//2"
   ]
  },
  {
   "cell_type": "markdown",
   "metadata": {},
   "source": [
    "## NO. 1 (เครื่องปรับอากาศ) \n",
    "* **เวลาเปิด 19:00 - 09:00 **\n",
    "* Datasests : 3277\n",
    "![image](https://raw.githubusercontent.com/skyfighter/iHEMS/master/Device/pic/air-1.png)"
   ]
  },
  {
   "cell_type": "markdown",
   "metadata": {},
   "source": [
    "## NO. 2 (พัดลม) \n",
    "![image](https://raw.githubusercontent.com/skyfighter/iHEMS/master/Device/pic/fan.png)"
   ]
  },
  {
   "cell_type": "markdown",
   "metadata": {},
   "source": [
    "## NO. 3 (โทรทัศน์) \n",
    "![image](https://raw.githubusercontent.com/skyfighter/iHEMS/master/Device/pic/TV.png)"
   ]
  },
  {
   "cell_type": "markdown",
   "metadata": {},
   "source": [
    "## NO. 4 (คอมพิวเตอร์) \n",
    "![image](https://raw.githubusercontent.com/skyfighter/iHEMS/master/Device/pic/PC-1.png)\n",
    "\n",
    "![image](https://raw.githubusercontent.com/skyfighter/iHEMS/master/Device/pic/PC-all.png)"
   ]
  },
  {
   "cell_type": "markdown",
   "metadata": {},
   "source": [
    "## NO. 5 (เครื่องทำน้ำอุ่น) \n",
    "* **ที่วัดเปิดใช้งานที่ 50%**\n",
    "* len 40 (10 นาที่)\n",
    "![image](https://raw.githubusercontent.com/skyfighter/iHEMS/master/Device/pic/Heaters.png)\n",
    "\n",
    "* len 1000 \n",
    "![image](https://raw.githubusercontent.com/skyfighter/iHEMS/master/Device/pic/Heaters-2.png)"
   ]
  },
  {
   "cell_type": "markdown",
   "metadata": {},
   "source": [
    "## NO. 6 (คอมพิวเตอร์) \n",
    "![image](https://raw.githubusercontent.com/skyfighter/iHEMS/master/Device/pic/Refrigerators-1.png)\n",
    "\n",
    "![image](https://raw.githubusercontent.com/skyfighter/iHEMS/master/Device/pic/Refrigerators-2.png)"
   ]
  },
  {
   "cell_type": "markdown",
   "metadata": {},
   "source": [
    "## NO. 7 (เครื่องซักผ้า)\n",
    "* **ต่อการซักหนึ่งครั้ง 1.15 ชม.**\n",
    "+ 1.15 ชม. (len : 294)\n",
    "![image](https://raw.githubusercontent.com/skyfighter/iHEMS/master/Device/pic/Washing.png)"
   ]
  },
  {
   "cell_type": "markdown",
   "metadata": {},
   "source": [
    "## NO. 8 (กระติกน้ำร้อน)\n",
    "![image](https://raw.githubusercontent.com/skyfighter/iHEMS/master/Device/pic/Boiler.png)"
   ]
  },
  {
   "cell_type": "markdown",
   "metadata": {},
   "source": [
    "## NO. 9 (เตารีด)\n",
    "* **อันนี้คือรีดจริงๆ ทั้งวัน (ที่เห็นบางช่วง 0 watt เพราะตรงกับเที่ยง และเย็นพักๆ)**\n",
    "+ len 3000 data (9)\n",
    "![image](https://raw.githubusercontent.com/skyfighter/iHEMS/master/Device/pic/iron9.png)\n",
    "\n",
    "\n",
    "* **อันนี้ตัดช่วงพักออกให้ (ชื่อ table : 9_1 )**\n",
    "+ len 1500 data (9_1)\n",
    "\n",
    "![image](https://raw.githubusercontent.com/skyfighter/iHEMS/master/Device/pic/Iron%209_1.png)"
   ]
  },
  {
   "cell_type": "markdown",
   "metadata": {},
   "source": [
    "## NO. 10 (หม้อหุงข้าว)\n",
    "* **ช่วงแรกที่กินไฟ 600+ watt คือตอนหุงใหม่ หลังจากนั้นที่ประมาณ 64w คือมันอัตโนมัติ**\n",
    "* len: 1200\n",
    "![image](https://raw.githubusercontent.com/skyfighter/iHEMS/master/Device/pic/rice-cookers-2.png)"
   ]
  },
  {
   "cell_type": "markdown",
   "metadata": {},
   "source": [
    "## NO. 11 (ไดร์เป่าผม)\n",
    "* **เปิดเบอร์ 2 จาก 4 เบอร์(เบอร์ 1 มีลมอย่างเดียวไม่ร้อน)**\n",
    "![image](https://raw.githubusercontent.com/skyfighter/iHEMS/master/Device/pic/hairdryers.png)\n"
   ]
  },
  {
   "cell_type": "markdown",
   "metadata": {},
   "source": [
    "## NO. 12 (เตาไมโครเวฟ)\n",
    "* **รูปบนคิอที่วัดจริงได้ รูปล่างคือเอารูปบนไปทำซ่ำให้ได้ datasests = 1000 ค่า (ข้อมูลที่เก็บอยู่ใน MySQL คือรูปล่าง)**\n",
    "![image](https://raw.githubusercontent.com/skyfighter/iHEMS/master/Device/pic/microwave%20oven_2.png)\n",
    "![image](https://raw.githubusercontent.com/skyfighter/iHEMS/master/Device/pic/microwave%20oven_3.png)"
   ]
  },
  {
   "cell_type": "markdown",
   "metadata": {},
   "source": [
    "## NO. 13 (เชาร์ตแบตโทรศัพท์มือถือ)\n",
    "* ** iPad 9.7 **\n",
    "![image](https://raw.githubusercontent.com/skyfighter/iHEMS/master/Device/pic/ipad.png)\n"
   ]
  },
  {
   "cell_type": "markdown",
   "metadata": {},
   "source": [
    "## NO. 14 (ไวร์เลสเร้าเตอร์)\n",
    "![image](https://raw.githubusercontent.com/skyfighter/iHEMS/master/Device/pic/router.png)\n"
   ]
  },
  {
   "cell_type": "markdown",
   "metadata": {},
   "source": [
    "## NO. 15 (หลอดไฟส่องสว่าง)\n",
    "* ** LED 7 Watt **\n",
    "![image](https://raw.githubusercontent.com/skyfighter/iHEMS/master/Device/pic/led.png)\n"
   ]
  }
 ],
 "metadata": {
  "kernelspec": {
   "display_name": "Python 2",
   "language": "python",
   "name": "python2"
  },
  "language_info": {
   "codemirror_mode": {
    "name": "ipython",
    "version": 2
   },
   "file_extension": ".py",
   "mimetype": "text/x-python",
   "name": "python",
   "nbconvert_exporter": "python",
   "pygments_lexer": "ipython2",
   "version": "2.7.6"
  }
 },
 "nbformat": 4,
 "nbformat_minor": 1
}

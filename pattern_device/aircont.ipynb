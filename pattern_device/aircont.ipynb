{
 "cells": [
  {
   "cell_type": "markdown",
   "metadata": {},
   "source": [
    "### เครื่องปรับอากาศ | 9000btu |                                          \n",
    "##### TYPE 2 \" TURN ON EVERYDAY//ONCE TIME\n"
   ]
  },
  {
   "cell_type": "markdown",
   "metadata": {},
   "source": [
    "## NO. 1 (เครื่องปรับอากาศ) เวลาเปิด 22:00 - 06:00 **\n",
    "![image](https://raw.githubusercontent.com/skyfighter/iHEMS/master/Device/pic/air-1.png)"
   ]
  },
  {
   "cell_type": "code",
   "execution_count": 12,
   "metadata": {},
   "outputs": [
    {
     "name": "stdout",
     "output_type": "stream",
     "text": [
      "device.aircont are Empty!!! \n",
      "\n",
      "time to turn-on appliacne on 19 : 46 : 36 equal to 4746 items\n",
      "consuming the appliance 8 hours 25 minutes 43 seconds that equal to 30343 seconds or 2022 items\n",
      "time to turn-on appliacne on 21 : 10 : 45 equal to 5082 items\n",
      "consuming the appliance 6 hours 44 minutes 16 seconds that equal to 24256 seconds or 1617 items\n",
      "time to turn-on appliacne on 20 : 52 : 41 equal to 5010 items\n",
      "consuming the appliance 7 hours 57 minutes 25 seconds that equal to 28645 seconds or 1909 items\n",
      "time to turn-on appliacne on 21 : 35 : 35 equal to 5182 items\n",
      "consuming the appliance 7 hours 12 minutes 37 seconds that equal to 25957 seconds or 1730 items\n",
      "DONE!\n"
     ]
    }
   ],
   "source": [
    "import pandas as pd\n",
    "import MySQLdb\n",
    "import numpy as np\n",
    "import time\n",
    "import datetime \n",
    "import random\n",
    "\n",
    "\n",
    "d = 3    \n",
    "time_a = pd.date_range('2016-09-01 00:00:00', periods=5760*(d+1), freq='15S')\n",
    "# print time_a\n",
    "time_b = pd.date_range('2016-09-01 00:00:14', periods=5760*(d+1), freq='15S')\n",
    "# print time_b\n",
    "\n",
    "conn= MySQLdb.connect(\"localhost\",\"conn\",\"hems\",\"collected_info\")\n",
    "c = conn.cursor()\n",
    "\n",
    "conn1= MySQLdb.connect(\"localhost\",\"conn\",\"hems\",\"device\")\n",
    "c1 = conn1.cursor()\n",
    "\n",
    "####### set databases to empty #########\n",
    "query_empty = \"\"\"truncate table device.aircont\"\"\" \n",
    "c1.execute(query_empty)\n",
    "print \"device.aircont are Empty!!! \\n\"\n",
    "\n",
    "query = \"SELECT watt FROM collected_info.1_aircont WHERE no >= '%s'   AND no <= '%s'; \"% (0,3276)\n",
    "df = pd.read_sql(query, conn)\n",
    "# print df.watt[5]\n",
    "\n",
    "\n",
    "#### Random the turning-on time appliances\n",
    "def rand_turnon():\n",
    "    duration_sec =  random.randint(10, 60)\n",
    "    duration_min =  random.randint(10, 60)\n",
    "    duration_hour1 = ['19'] * 5 + ['20'] * 50 + ['21'] * 40 +['22'] * 5     #SET Start 7-10 pm.\n",
    "    duration_hour = random.choice(duration_hour1)     \n",
    "    if 0 < duration_sec <= 15:\n",
    "        k = 0\n",
    "    elif 15 < duration_sec <= 30:\n",
    "        k = 1\n",
    "    elif 30 < duration_sec <= 45:\n",
    "        k = 2\n",
    "    else:\n",
    "        k = 3\n",
    "    off_item = (int(duration_hour)*240) + (int(duration_min)*4)+ k \n",
    "    print \"time to turn-on appliacne on\",duration_hour,\":\",duration_min,\":\",duration_sec,\"equal to\",off_item,\"items\"\n",
    "    return off_item\n",
    "\n",
    " \n",
    "#### Random the off-duration appliances \n",
    "def rand_duration():\n",
    "    duration_sec =  random.randint(10, 60)\n",
    "    duration_min =  random.randint(10, 60)\n",
    "    duration_hour =  random.randint(6, 8)     #SET 6-8 Hours\n",
    "    seconds = (duration_hour*3600)+(duration_min*60)+duration_sec\n",
    "    no_item = seconds/15\n",
    "    print \"consuming the appliance\", duration_hour,\"hours\",duration_min,\"minutes\",duration_sec,\"seconds that equal to\",seconds,\"seconds or\",no_item,\"items\"\n",
    "    return no_item\n",
    "\n",
    "days = 1\n",
    "j = 0\n",
    "i = 0\n",
    "off_item = rand_turnon()  \n",
    "no_item = rand_duration()  \n",
    "\n",
    "while (j <= (5760*d)-1):    \n",
    "    c1.execute(\"INSERT INTO device.aircont (Timestamp, watt) VALUES (%s, %s)\",(time_b[j],0))\n",
    "    conn1.commit()\n",
    "    j += 1\n",
    "    while (off_item+(5760*(days-1)) <= j <= (no_item+off_item)+(5760*(days-1))):\n",
    "        c1.execute(\"INSERT INTO device.aircont (Timestamp, watt) VALUES (%s, %s)\",(time_b[j],df.watt[i]))\n",
    "        conn1.commit()\n",
    "        i += 1 \n",
    "        j += 1\n",
    "        if (j == (no_item+off_item)+(5760*(days-1))):\n",
    "            days +=1\n",
    "            off_item = rand_turnon()  \n",
    "            no_item = rand_duration() \n",
    "            i= 0\n",
    "\n",
    "print \"DONE!\"\n"
   ]
  },
  {
   "cell_type": "code",
   "execution_count": 16,
   "metadata": {},
   "outputs": [
    {
     "ename": "DatabaseError",
     "evalue": "Execution failed on sql: SELECT Timestamp,watt FROM device.TV WHERE Timestamp >= '2016-09-01 00:00:00'   AND Timestamp <= '2016-09-02 23:59:59'; \n(2006, 'MySQL server has gone away')\nunable to rollback",
     "output_type": "error",
     "traceback": [
      "\u001b[0;31m\u001b[0m",
      "\u001b[0;31mDatabaseError\u001b[0mTraceback (most recent call last)",
      "\u001b[0;32m<ipython-input-16-1ed8046915e6>\u001b[0m in \u001b[0;36m<module>\u001b[0;34m()\u001b[0m\n\u001b[1;32m     13\u001b[0m \u001b[0mquery\u001b[0m \u001b[0;34m=\u001b[0m \u001b[0;34m\"SELECT Timestamp,watt FROM device.TV WHERE Timestamp >= '%s'   AND Timestamp <= '%s'; \"\u001b[0m\u001b[0;34m%\u001b[0m \u001b[0;34m(\u001b[0m\u001b[0mtime_a\u001b[0m\u001b[0;34m[\u001b[0m\u001b[0;36m0\u001b[0m\u001b[0;34m]\u001b[0m\u001b[0;34m,\u001b[0m\u001b[0mtime_b\u001b[0m\u001b[0;34m[\u001b[0m\u001b[0mlen\u001b[0m\u001b[0;34m(\u001b[0m\u001b[0mtime_b\u001b[0m\u001b[0;34m)\u001b[0m\u001b[0;34m-\u001b[0m\u001b[0;36m1\u001b[0m\u001b[0;34m]\u001b[0m\u001b[0;34m)\u001b[0m\u001b[0;34m\u001b[0m\u001b[0m\n\u001b[1;32m     14\u001b[0m \u001b[0;31m# query = \"SELECT Timestamp,watt FROM device.aircont WHERE Timestamp >= '%s'   AND Timestamp <= '%s'; \"% (time_a[0],'2016-09-04 23:59:59')\u001b[0m\u001b[0;34m\u001b[0m\u001b[0;34m\u001b[0m\u001b[0m\n\u001b[0;32m---> 15\u001b[0;31m \u001b[0mdf\u001b[0m \u001b[0;34m=\u001b[0m \u001b[0mpd\u001b[0m\u001b[0;34m.\u001b[0m\u001b[0mread_sql\u001b[0m\u001b[0;34m(\u001b[0m\u001b[0mquery\u001b[0m\u001b[0;34m,\u001b[0m \u001b[0mconn\u001b[0m\u001b[0;34m,\u001b[0m \u001b[0mindex_col\u001b[0m\u001b[0;34m=\u001b[0m\u001b[0;34m[\u001b[0m\u001b[0;34m'Timestamp'\u001b[0m\u001b[0;34m]\u001b[0m\u001b[0;34m)\u001b[0m\u001b[0;34m\u001b[0m\u001b[0m\n\u001b[0m\u001b[1;32m     16\u001b[0m \u001b[0;34m\u001b[0m\u001b[0m\n\u001b[1;32m     17\u001b[0m \u001b[0mfig\u001b[0m\u001b[0;34m,\u001b[0m \u001b[0max\u001b[0m \u001b[0;34m=\u001b[0m \u001b[0mplt\u001b[0m\u001b[0;34m.\u001b[0m\u001b[0msubplots\u001b[0m\u001b[0;34m(\u001b[0m\u001b[0;34m)\u001b[0m\u001b[0;34m\u001b[0m\u001b[0m\n",
      "\u001b[0;32m/usr/local/lib/python2.7/dist-packages/pandas/io/sql.pyc\u001b[0m in \u001b[0;36mread_sql\u001b[0;34m(sql, con, index_col, coerce_float, params, parse_dates, columns, chunksize)\u001b[0m\n\u001b[1;32m    397\u001b[0m             \u001b[0msql\u001b[0m\u001b[0;34m,\u001b[0m \u001b[0mindex_col\u001b[0m\u001b[0;34m=\u001b[0m\u001b[0mindex_col\u001b[0m\u001b[0;34m,\u001b[0m \u001b[0mparams\u001b[0m\u001b[0;34m=\u001b[0m\u001b[0mparams\u001b[0m\u001b[0;34m,\u001b[0m\u001b[0;34m\u001b[0m\u001b[0m\n\u001b[1;32m    398\u001b[0m             \u001b[0mcoerce_float\u001b[0m\u001b[0;34m=\u001b[0m\u001b[0mcoerce_float\u001b[0m\u001b[0;34m,\u001b[0m \u001b[0mparse_dates\u001b[0m\u001b[0;34m=\u001b[0m\u001b[0mparse_dates\u001b[0m\u001b[0;34m,\u001b[0m\u001b[0;34m\u001b[0m\u001b[0m\n\u001b[0;32m--> 399\u001b[0;31m             chunksize=chunksize)\n\u001b[0m\u001b[1;32m    400\u001b[0m \u001b[0;34m\u001b[0m\u001b[0m\n\u001b[1;32m    401\u001b[0m     \u001b[0;32mtry\u001b[0m\u001b[0;34m:\u001b[0m\u001b[0;34m\u001b[0m\u001b[0m\n",
      "\u001b[0;32m/usr/local/lib/python2.7/dist-packages/pandas/io/sql.pyc\u001b[0m in \u001b[0;36mread_query\u001b[0;34m(self, sql, index_col, coerce_float, params, parse_dates, chunksize)\u001b[0m\n\u001b[1;32m   1434\u001b[0m \u001b[0;34m\u001b[0m\u001b[0m\n\u001b[1;32m   1435\u001b[0m         \u001b[0margs\u001b[0m \u001b[0;34m=\u001b[0m \u001b[0m_convert_params\u001b[0m\u001b[0;34m(\u001b[0m\u001b[0msql\u001b[0m\u001b[0;34m,\u001b[0m \u001b[0mparams\u001b[0m\u001b[0;34m)\u001b[0m\u001b[0;34m\u001b[0m\u001b[0m\n\u001b[0;32m-> 1436\u001b[0;31m         \u001b[0mcursor\u001b[0m \u001b[0;34m=\u001b[0m \u001b[0mself\u001b[0m\u001b[0;34m.\u001b[0m\u001b[0mexecute\u001b[0m\u001b[0;34m(\u001b[0m\u001b[0;34m*\u001b[0m\u001b[0margs\u001b[0m\u001b[0;34m)\u001b[0m\u001b[0;34m\u001b[0m\u001b[0m\n\u001b[0m\u001b[1;32m   1437\u001b[0m         \u001b[0mcolumns\u001b[0m \u001b[0;34m=\u001b[0m \u001b[0;34m[\u001b[0m\u001b[0mcol_desc\u001b[0m\u001b[0;34m[\u001b[0m\u001b[0;36m0\u001b[0m\u001b[0;34m]\u001b[0m \u001b[0;32mfor\u001b[0m \u001b[0mcol_desc\u001b[0m \u001b[0;32min\u001b[0m \u001b[0mcursor\u001b[0m\u001b[0;34m.\u001b[0m\u001b[0mdescription\u001b[0m\u001b[0;34m]\u001b[0m\u001b[0;34m\u001b[0m\u001b[0m\n\u001b[1;32m   1438\u001b[0m \u001b[0;34m\u001b[0m\u001b[0m\n",
      "\u001b[0;32m/usr/local/lib/python2.7/dist-packages/pandas/io/sql.pyc\u001b[0m in \u001b[0;36mexecute\u001b[0;34m(self, *args, **kwargs)\u001b[0m\n\u001b[1;32m   1407\u001b[0m                 ex = DatabaseError(\"Execution failed on sql: %s\\n%s\\nunable\"\n\u001b[1;32m   1408\u001b[0m                                    \" to rollback\" % (args[0], exc))\n\u001b[0;32m-> 1409\u001b[0;31m                 \u001b[0mraise_with_traceback\u001b[0m\u001b[0;34m(\u001b[0m\u001b[0mex\u001b[0m\u001b[0;34m)\u001b[0m\u001b[0;34m\u001b[0m\u001b[0m\n\u001b[0m\u001b[1;32m   1410\u001b[0m \u001b[0;34m\u001b[0m\u001b[0m\n\u001b[1;32m   1411\u001b[0m             ex = DatabaseError(\n",
      "\u001b[0;32m/usr/local/lib/python2.7/dist-packages/pandas/io/sql.pyc\u001b[0m in \u001b[0;36mexecute\u001b[0;34m(self, *args, **kwargs)\u001b[0m\n\u001b[1;32m   1403\u001b[0m         \u001b[0;32mexcept\u001b[0m \u001b[0mException\u001b[0m \u001b[0;32mas\u001b[0m \u001b[0mexc\u001b[0m\u001b[0;34m:\u001b[0m\u001b[0;34m\u001b[0m\u001b[0m\n\u001b[1;32m   1404\u001b[0m             \u001b[0;32mtry\u001b[0m\u001b[0;34m:\u001b[0m\u001b[0;34m\u001b[0m\u001b[0m\n\u001b[0;32m-> 1405\u001b[0;31m                 \u001b[0mself\u001b[0m\u001b[0;34m.\u001b[0m\u001b[0mcon\u001b[0m\u001b[0;34m.\u001b[0m\u001b[0mrollback\u001b[0m\u001b[0;34m(\u001b[0m\u001b[0;34m)\u001b[0m\u001b[0;34m\u001b[0m\u001b[0m\n\u001b[0m\u001b[1;32m   1406\u001b[0m             \u001b[0;32mexcept\u001b[0m \u001b[0mException\u001b[0m\u001b[0;34m:\u001b[0m  \u001b[0;31m# pragma: no cover\u001b[0m\u001b[0;34m\u001b[0m\u001b[0m\n\u001b[1;32m   1407\u001b[0m                 ex = DatabaseError(\"Execution failed on sql: %s\\n%s\\nunable\"\n",
      "\u001b[0;31mDatabaseError\u001b[0m: Execution failed on sql: SELECT Timestamp,watt FROM device.TV WHERE Timestamp >= '2016-09-01 00:00:00'   AND Timestamp <= '2016-09-02 23:59:59'; \n(2006, 'MySQL server has gone away')\nunable to rollback"
     ]
    }
   ],
   "source": [
    "import pandas as pd\n",
    "import MySQLdb\n",
    "import numpy as np\n",
    "import time\n",
    "import datetime \n",
    "import random\n",
    "import matplotlib.pyplot as plt\n",
    "%matplotlib inline  \n",
    "\n",
    "\n",
    "\n",
    "# query = \"SELECT watt FROM device.aircont WHERE Timestamp >= '%s'   AND Timestamp <= '%s'; \"% (time_a[0],time_b[j-1])\n",
    "query = \"SELECT Timestamp,watt FROM device.TV WHERE Timestamp >= '%s'   AND Timestamp <= '%s'; \"% ('2016-09-01 00:00:14',2016-09-02 23:59:59)\n",
    "# query = \"SELECT Timestamp,watt FROM device.aircont WHERE Timestamp >= '%s'   AND Timestamp <= '%s'; \"% (time_a[0],'2016-09-04 23:59:59')\n",
    "df = pd.read_sql(query, conn, index_col=['Timestamp'])\n",
    "\n",
    "fig, ax = plt.subplots()\n",
    "ax.set_title('device.TV')\n",
    "df.plot(ax=ax )\n",
    "plt.show()\n",
    "df.to_csv('file.csv')\n",
    "len(time_b)"
   ]
  }
 ],
 "metadata": {
  "kernelspec": {
   "display_name": "Python 2",
   "language": "python",
   "name": "python2"
  },
  "language_info": {
   "codemirror_mode": {
    "name": "ipython",
    "version": 2
   },
   "file_extension": ".py",
   "mimetype": "text/x-python",
   "name": "python",
   "nbconvert_exporter": "python",
   "pygments_lexer": "ipython2",
   "version": "2.7.6"
  }
 },
 "nbformat": 4,
 "nbformat_minor": 1
}

{
 "cells": [
  {
   "cell_type": "markdown",
   "metadata": {},
   "source": [
    "### เครื่องปรับอากาศ | 9000btu |                                          \n",
    "##### TYPE 2 \" TURN ON EVERYDAY//ONCE TIME\n"
   ]
  },
  {
   "cell_type": "markdown",
   "metadata": {},
   "source": [
    "## NO. 1 (เครื่องปรับอากาศ) เวลาเปิด 22:00 - 06:00 **\n",
    "![image](https://raw.githubusercontent.com/skyfighter/iHEMS/master/Device/pic/air-1.png)"
   ]
  },
  {
   "cell_type": "code",
   "execution_count": 37,
   "metadata": {},
   "outputs": [
    {
     "name": "stdout",
     "output_type": "stream",
     "text": [
      "device.aircont are Empty!!! \n",
      "\n",
      "time to turn-on appliacne on 19 : 43 : 31 equal to 4734 items\n",
      "consuming the appliance 7 hours 17 minutes 31 seconds that equal to 26251 seconds or 1750 items\n",
      "6484\n",
      "time to turn-on appliacne on 20 : 17 : 36 equal to 4870 items\n",
      "consuming the appliance 8 hours 22 minutes 36 seconds that equal to 30156 seconds or 2010 items\n",
      "12640\n",
      "time to turn-on appliacne on 21 : 43 : 18 equal to 5213 items\n",
      "consuming the appliance 7 hours 56 minutes 56 seconds that equal to 28616 seconds or 1907 items\n",
      "18640\n",
      "time to turn-on appliacne on 21 : 49 : 59 equal to 5239 items\n",
      "consuming the appliance 6 hours 20 minutes 19 seconds that equal to 22819 seconds or 1521 items\n",
      "DONE!\n"
     ]
    }
   ],
   "source": [
    "import pandas as pd\n",
    "import MySQLdb\n",
    "import numpy as np\n",
    "import time\n",
    "import datetime \n",
    "import random\n",
    "\n",
    "\n",
    "d = 3\n",
    "\n",
    "time_a = pd.date_range('2016-09-01 00:00:00', periods=5760*(d+1), freq='15S')\n",
    "# print time_a\n",
    "time_b = pd.date_range('2016-09-01 00:00:14', periods=5760*(d+1), freq='15S')\n",
    "# print time_b\n",
    "\n",
    "conn= MySQLdb.connect(\"localhost\",\"conn\",\"hems\",\"collected_info\")\n",
    "c = conn.cursor()\n",
    "\n",
    "conn1= MySQLdb.connect(\"localhost\",\"conn\",\"hems\",\"device\")\n",
    "c1 = conn1.cursor()\n",
    "\n",
    "####### set databases to empty #########\n",
    "query_empty = \"\"\"truncate table device.aircont\"\"\" \n",
    "c1.execute(query_empty)\n",
    "print \"device.aircont are Empty!!! \\n\"\n",
    "\n",
    "query = \"SELECT watt FROM collected_info.1_aircont WHERE no >= '%s'   AND no <= '%s'; \"% (0,3276)\n",
    "df = pd.read_sql(query, conn)\n",
    "# print df.watt[5]\n",
    "\n",
    "\n",
    "#### Random the turning-on time appliances\n",
    "def rand_turnon():\n",
    "    duration_sec =  random.randint(10, 60)\n",
    "    duration_min =  random.randint(10, 60)\n",
    "    duration_hour1 = ['19'] * 5 + ['20'] * 50 + ['21'] * 40 +['22'] * 5     #SET Start 7-10 pm.\n",
    "    duration_hour = random.choice(duration_hour1)     \n",
    "    if 0 < duration_sec <= 15:\n",
    "        k = 0\n",
    "    elif 15 < duration_sec <= 30:\n",
    "        k = 1\n",
    "    elif 30 < duration_sec <= 45:\n",
    "        k = 2\n",
    "    else:\n",
    "        k = 3\n",
    "    off_item = (int(duration_hour)*240) + (int(duration_min)*4)+ k \n",
    "    print \"time to turn-on appliacne on\",duration_hour,\":\",duration_min,\":\",duration_sec,\"equal to\",off_item,\"items\"\n",
    "    return off_item\n",
    "\n",
    " \n",
    "#### Random the off-duration appliances \n",
    "def rand_duration():\n",
    "    duration_sec =  random.randint(10, 60)\n",
    "    duration_min =  random.randint(10, 60)\n",
    "    duration_hour =  random.randint(6, 8)     #SET 6-8 Hours\n",
    "    seconds = (duration_hour*3600)+(duration_min*60)+duration_sec\n",
    "    no_item = seconds/15\n",
    "    print \"consuming the appliance\", duration_hour,\"hours\",duration_min,\"minutes\",duration_sec,\"seconds that equal to\",seconds,\"seconds or\",no_item,\"items\"\n",
    "    return no_item\n",
    "\n",
    "days = 1\n",
    "j = 0\n",
    "i = 0\n",
    "off_item = rand_turnon()  \n",
    "no_item = rand_duration()  \n",
    "\n",
    "while (j <= (5760*d)-1):    \n",
    "    c1.execute(\"INSERT INTO device.aircont (Timestamp, watt) VALUES (%s, %s)\",(time_b[j],0))\n",
    "    conn1.commit()\n",
    "    j += 1\n",
    "    while (off_item+(5760*(days-1)) <= j <= (no_item+off_item)+(5760*(days-1))):\n",
    "        c1.execute(\"INSERT INTO device.aircont (Timestamp, watt) VALUES (%s, %s)\",(time_b[j],df.watt[i]))\n",
    "        conn1.commit()\n",
    "        i += 1    \n",
    "        j += 1\n",
    "        if (j == (no_item+off_item)+(5760*(days-1))):\n",
    "            print j\n",
    "            days +=1\n",
    "            off_item = rand_turnon()  \n",
    "            no_item = rand_duration() \n",
    "            i= 0\n",
    "print \"DONE!\"\n"
   ]
  },
  {
   "cell_type": "code",
   "execution_count": 45,
   "metadata": {},
   "outputs": [
    {
     "data": {
      "image/png": "[encoded data removed]",
      "text/plain": [
       "<matplotlib.figure.Figure at 0x7f46f9243e10>"
      ]
     },
     "metadata": {},
     "output_type": "display_data"
    },
    {
     "data": {
      "text/plain": [
       "18640"
      ]
     },
     "execution_count": 45,
     "metadata": {},
     "output_type": "execute_result"
    }
   ],
   "source": [
    "import pandas as pd\n",
    "import MySQLdb\n",
    "import numpy as np\n",
    "import time\n",
    "import datetime \n",
    "import random\n",
    "import matplotlib.pyplot as plt\n",
    "%matplotlib inline  \n",
    "\n",
    "time_a = pd.date_range('2016-09-01 00:00:00', periods=5760*(d+1), freq='15S')\n",
    "# print time_a\n",
    "time_b = pd.date_range('2016-09-01 00:00:14', periods=5760*(d+1), freq='15S')\n",
    "# print time_b\n",
    "\n",
    "conn1= MySQLdb.connect(\"localhost\",\"conn\",\"hems\",\"device\")\n",
    "c1 = conn1.cursor()\n",
    "\n",
    "# query = \"SELECT watt FROM device.aircont WHERE Timestamp >= '%s'   AND Timestamp <= '%s'; \"% (time_a[0],time_b[j-1])\n",
    "query = \"SELECT Timestamp,watt FROM device.aircont WHERE Timestamp >= '%s'   AND Timestamp <= '%s'; \"% (time_a[0],time_b[(5760*(d+1))-1])\n",
    "# query = \"SELECT Timestamp,watt FROM device.aircont WHERE Timestamp >= '%s'   AND Timestamp <= '%s'; \"% (time_a[0],'2016-09-04 23:59:59')\n",
    "\n",
    "df = pd.read_sql(query, conn1, index_col=['Timestamp'])\n",
    "\n",
    "fig, ax = plt.subplots()\n",
    "ax.set_title('device.aircont')\n",
    "df.plot(ax=ax )\n",
    "plt.show()\n",
    "df.to_csv('file.csv')\n",
    "len(df)"
   ]
  },
  {
   "cell_type": "code",
   "execution_count": 11,
   "metadata": {},
   "outputs": [
    {
     "data": {
      "image/png": "[encoded data removed]",
      "text/plain": [
       "<matplotlib.figure.Figure at 0x7f46f8fa7c90>"
      ]
     },
     "metadata": {},
     "output_type": "display_data"
    }
   ],
   "source": [
    "import pandas as pd\n",
    "import MySQLdb\n",
    "import numpy as np\n",
    "import time\n",
    "import datetime \n",
    "import random\n",
    "import matplotlib.pyplot as plt\n",
    "%matplotlib inline  \n",
    "d =2\n",
    "time_a = pd.date_range('2016-09-01 00:00:00', periods=5760*d, freq='15S')\n",
    "# print time_a\n",
    "time_b = pd.date_range('2016-09-01 00:00:14', periods=5760*d, freq='15S')\n",
    "# print time_b\n",
    "\n",
    "conn1= MySQLdb.connect(\"localhost\",\"conn\",\"hems\",\"device\")\n",
    "c1 = conn1.cursor()\n",
    "\n",
    "# query = \"SELECT watt FROM device.aircont WHERE Timestamp >= '%s'   AND Timestamp <= '%s'; \"% (time_a[0],time_b[j-1])\n",
    "query = \"SELECT Timestamp,watt FROM device.aircont WHERE Timestamp >= '%s'   AND Timestamp <= '%s'; \"% (time_a[0],time_b[11519])\n",
    "df = pd.read_sql(query, conn1, index_col=['Timestamp'])\n",
    "\n",
    "fig, ax = plt.subplots()\n",
    "ax.set_title('device.aircont')\n",
    "df.plot(ax=ax )\n",
    "plt.show()\n",
    "df.to_csv('file.csv')"
   ]
  },
  {
   "cell_type": "code",
   "execution_count": 10,
   "metadata": {},
   "outputs": [
    {
     "name": "stdout",
     "output_type": "stream",
     "text": [
      "8 : 20 : 47\n",
      "<type 'str'>\n",
      "<type 'str'>\n"
     ]
    }
   ],
   "source": [
    "clock = time_b[1].strftime(\"%H:%M:%S\")\n",
    "turnon = str(rand_turnon())\n",
    "print type(clock)\n",
    "print type(turnon)"
   ]
  },
  {
   "cell_type": "code",
   "execution_count": 43,
   "metadata": {},
   "outputs": [
    {
     "data": {
      "text/plain": [
       "Timestamp('2016-09-04 23:59:59', freq='15S')"
      ]
     },
     "execution_count": 43,
     "metadata": {},
     "output_type": "execute_result"
    }
   ],
   "source": [
    "time_b[(5760*(3+1))-1]"
   ]
  }
 ],
 "metadata": {
  "kernelspec": {
   "display_name": "Python 2",
   "language": "python",
   "name": "python2"
  },
  "language_info": {
   "codemirror_mode": {
    "name": "ipython",
    "version": 2
   },
   "file_extension": ".py",
   "mimetype": "text/x-python",
   "name": "python",
   "nbconvert_exporter": "python",
   "pygments_lexer": "ipython2",
   "version": "2.7.6"
  }
 },
 "nbformat": 4,
 "nbformat_minor": 1
}

{
 "cells": [
  {
   "cell_type": "markdown",
   "metadata": {},
   "source": [
    "### ตู้เย็น | 2 ประตูขนาด 17 คิว |                                      \n",
    "##### TYPE 1 \" ALWAY TURN ON \n"
   ]
  },
  {
   "cell_type": "markdown",
   "metadata": {},
   "source": [
    "## NO. 6 (ตู้เย็น) \n",
    "![image](https://raw.githubusercontent.com/skyfighter/iHEMS/master/Device/pic/Refrigerators-1.png)\n",
    "\n",
    "![image](https://raw.githubusercontent.com/skyfighter/iHEMS/master/Device/pic/Refrigerators-2.png)"
   ]
  },
  {
   "cell_type": "code",
   "execution_count": 3,
   "metadata": {},
   "outputs": [
    {
     "name": "stdout",
     "output_type": "stream",
     "text": [
      "device.refrigurator are Empty!!! \n",
      "\n",
      ". . . . . . . . . . . . . . . . . . . . . . . . . . . . . . . . . . . . . . . . . . . . . . . . . . . . . . . . . . . . . . . . . . . . . . . . . . . . . . . . . . . . . . . . . . . . . . . . . . . . . . . . . . . . . . . . . . . . . . . . . . . . . . . . . . . . . . . . . . . . . . . . . . . . . . . . . . . . . . . . . . . . . . . . . . . . . . . . . . . . . . . . . . . . . . . . . . . . . . . . . . . . . . . . . . . . . . . . . . . . . . . . . . . . . . . . . . . . . . . . . . . . . . . . . . . . . . . . . . . . . . . . . .\n"
     ]
    }
   ],
   "source": [
    "import pandas as pd\n",
    "import MySQLdb\n",
    "import numpy as np\n",
    "import time\n",
    "import datetime \n",
    "import random\n",
    "\n",
    "\n",
    "d = 60\n",
    "time_a = pd.date_range('2016-09-01 00:00:00', periods=5760*d, freq='15S')\n",
    "# print time_a\n",
    "time_b = pd.date_range('2016-09-01 00:00:14', periods=5760*d, freq='15S')\n",
    "# print time_b\n",
    "\n",
    "conn= MySQLdb.connect(\"localhost\",\"conn\",\"hems\",\"device\")\n",
    "c = conn.cursor()\n",
    "\n",
    "####### set databases to empty #########\n",
    "query_empty = \"\"\"truncate table device.refrigurator\"\"\" \n",
    "c.execute(query_empty)\n",
    "print \"device.refrigurator are Empty!!! \\n\"\n",
    "\n",
    "\n",
    "query = \"SELECT watt FROM device.6 WHERE no >= '%s'   AND no <= '%s'; \"% (0,1297)\n",
    "df = pd.read_sql(query, conn)\n",
    "# print df.watt[5]\n",
    "i = 0\n",
    "j = 0\n",
    "while (j <= (5760*d)-1): \n",
    "    c.execute(\"INSERT INTO device.refrigurator (Timestamp, watt) VALUES ( %s, %s)\",(time_b[j],df.watt[i]))\n",
    "    conn.commit()\n",
    "    i+=1\n",
    "    j+=1\n",
    "\n",
    "    if (i >= len(df)):\n",
    "        i = 0    \n",
    "        print \".\",\n",
    "        \n",
    "\n"
   ]
  },
  {
   "cell_type": "code",
   "execution_count": 4,
   "metadata": {},
   "outputs": [
    {
     "data": {
      "image/png": "[encoded data removed]",
      "text/plain": [
       "<matplotlib.figure.Figure at 0x7f32e4044f10>"
      ]
     },
     "metadata": {},
     "output_type": "display_data"
    }
   ],
   "source": [
    "import matplotlib.pyplot as plt\n",
    "%matplotlib inline  \n",
    "\n",
    "\n",
    "query = \"SELECT watt FROM device.refrigurator WHERE Timestamp >= '%s'   AND Timestamp <= '%s'; \"% (time_a[0],time_b[j-1])\n",
    "df = pd.read_sql(query, conn)\n",
    "\n",
    "fig, ax = plt.subplots()\n",
    "ax.set_title('device.refrigurator')\n",
    "df.plot(ax=ax)\n",
    "plt.show()\n"
   ]
  }
 ],
 "metadata": {
  "kernelspec": {
   "display_name": "Python 2",
   "language": "python",
   "name": "python2"
  },
  "language_info": {
   "codemirror_mode": {
    "name": "ipython",
    "version": 2
   },
   "file_extension": ".py",
   "mimetype": "text/x-python",
   "name": "python",
   "nbconvert_exporter": "python",
   "pygments_lexer": "ipython2",
   "version": "2.7.6"
  }
 },
 "nbformat": 4,
 "nbformat_minor": 1
}

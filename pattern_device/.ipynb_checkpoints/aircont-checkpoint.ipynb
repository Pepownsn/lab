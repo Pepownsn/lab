{
 "cells": [
  {
   "cell_type": "markdown",
   "metadata": {},
   "source": [
    "### เครื่องปรับอากาศ | 9000btu |                                          \n",
    "##### TYPE 2 \" TURN ON EVERYDAY//ONCE TIME\n"
   ]
  },
  {
   "cell_type": "markdown",
   "metadata": {},
   "source": [
    "## NO. 1 (เครื่องปรับอากาศ) เวลาเปิด 22:00 - 06:00 **\n",
    "![image](https://raw.githubusercontent.com/skyfighter/iHEMS/master/Device/pic/air-1.png)"
   ]
  },
  {
   "cell_type": "code",
   "execution_count": 12,
   "metadata": {},
   "outputs": [
    {
     "name": "stdout",
     "output_type": "stream",
     "text": [
      "device.aircont are Empty!!! \n",
      "\n",
      "time to turn-on appliacne on 19 : 46 : 36 equal to 4746 items\n",
      "consuming the appliance 8 hours 25 minutes 43 seconds that equal to 30343 seconds or 2022 items\n",
      "time to turn-on appliacne on 21 : 10 : 45 equal to 5082 items\n",
      "consuming the appliance 6 hours 44 minutes 16 seconds that equal to 24256 seconds or 1617 items\n",
      "time to turn-on appliacne on 20 : 52 : 41 equal to 5010 items\n",
      "consuming the appliance 7 hours 57 minutes 25 seconds that equal to 28645 seconds or 1909 items\n",
      "time to turn-on appliacne on 21 : 35 : 35 equal to 5182 items\n",
      "consuming the appliance 7 hours 12 minutes 37 seconds that equal to 25957 seconds or 1730 items\n",
      "DONE!\n"
     ]
    }
   ],
   "source": [
    "import pandas as pd\n",
    "import MySQLdb\n",
    "import numpy as np\n",
    "import time\n",
    "import datetime \n",
    "import random\n",
    "\n",
    "\n",
    "d = 3    \n",
    "time_a = pd.date_range('2016-09-01 00:00:00', periods=5760*(d+1), freq='15S')\n",
    "# print time_a\n",
    "time_b = pd.date_range('2016-09-01 00:00:14', periods=5760*(d+1), freq='15S')\n",
    "# print time_b\n",
    "\n",
    "conn= MySQLdb.connect(\"localhost\",\"conn\",\"hems\",\"collected_info\")\n",
    "c = conn.cursor()\n",
    "\n",
    "conn1= MySQLdb.connect(\"localhost\",\"conn\",\"hems\",\"device\")\n",
    "c1 = conn1.cursor()\n",
    "\n",
    "####### set databases to empty #########\n",
    "query_empty = \"\"\"truncate table device.aircont\"\"\" \n",
    "c1.execute(query_empty)\n",
    "print \"device.aircont are Empty!!! \\n\"\n",
    "\n",
    "query = \"SELECT watt FROM collected_info.1_aircont WHERE no >= '%s'   AND no <= '%s'; \"% (0,3276)\n",
    "df = pd.read_sql(query, conn)\n",
    "# print df.watt[5]\n",
    "\n",
    "\n",
    "#### Random the turning-on time appliances\n",
    "def rand_turnon():\n",
    "    duration_sec =  random.randint(10, 60)\n",
    "    duration_min =  random.randint(10, 60)\n",
    "    duration_hour1 = ['19'] * 5 + ['20'] * 50 + ['21'] * 40 +['22'] * 5     #SET Start 7-10 pm.\n",
    "    duration_hour = random.choice(duration_hour1)     \n",
    "    if 0 < duration_sec <= 15:\n",
    "        k = 0\n",
    "    elif 15 < duration_sec <= 30:\n",
    "        k = 1\n",
    "    elif 30 < duration_sec <= 45:\n",
    "        k = 2\n",
    "    else:\n",
    "        k = 3\n",
    "    off_item = (int(duration_hour)*240) + (int(duration_min)*4)+ k \n",
    "    print \"time to turn-on appliacne on\",duration_hour,\":\",duration_min,\":\",duration_sec,\"equal to\",off_item,\"items\"\n",
    "    return off_item\n",
    "\n",
    " \n",
    "#### Random the off-duration appliances \n",
    "def rand_duration():\n",
    "    duration_sec =  random.randint(10, 60)\n",
    "    duration_min =  random.randint(10, 60)\n",
    "    duration_hour =  random.randint(6, 8)     #SET 6-8 Hours\n",
    "    seconds = (duration_hour*3600)+(duration_min*60)+duration_sec\n",
    "    no_item = seconds/15\n",
    "    print \"consuming the appliance\", duration_hour,\"hours\",duration_min,\"minutes\",duration_sec,\"seconds that equal to\",seconds,\"seconds or\",no_item,\"items\"\n",
    "    return no_item\n",
    "\n",
    "days = 1\n",
    "j = 0\n",
    "i = 0\n",
    "off_item = rand_turnon()  \n",
    "no_item = rand_duration()  \n",
    "\n",
    "while (j <= (5760*d)-1):    \n",
    "    c1.execute(\"INSERT INTO device.aircont (Timestamp, watt) VALUES (%s, %s)\",(time_b[j],0))\n",
    "    conn1.commit()\n",
    "    j += 1\n",
    "    while (off_item+(5760*(days-1)) <= j <= (no_item+off_item)+(5760*(days-1))):\n",
    "        c1.execute(\"INSERT INTO device.aircont (Timestamp, watt) VALUES (%s, %s)\",(time_b[j],df.watt[i]))\n",
    "        conn1.commit()\n",
    "        i += 1 \n",
    "        j += 1\n",
    "        if (j == (no_item+off_item)+(5760*(days-1))):\n",
    "            days +=1\n",
    "            off_item = rand_turnon()  \n",
    "            no_item = rand_duration() \n",
    "            i= 0\n",
    "\n",
    "print \"DONE!\"\n"
   ]
  },
  {
   "cell_type": "code",
   "execution_count": 9,
   "metadata": {},
   "outputs": [
    {
     "data": {
      "image/png": "[encoded data removed]",
      "text/plain": [
       "<matplotlib.figure.Figure at 0x7fc001fe1c50>"
      ]
     },
     "metadata": {},
     "output_type": "display_data"
    },
    {
     "data": {
      "text/plain": [
       "28800"
      ]
     },
     "execution_count": 9,
     "metadata": {},
     "output_type": "execute_result"
    }
   ],
   "source": [
    "import pandas as pd\n",
    "import MySQLdb\n",
    "import numpy as np\n",
    "import time\n",
    "import datetime \n",
    "import random\n",
    "import matplotlib.pyplot as plt\n",
    "%matplotlib inline  \n",
    "\n",
    "\n",
    "\n",
    "# query = \"SELECT watt FROM device.aircont WHERE Timestamp >= '%s'   AND Timestamp <= '%s'; \"% (time_a[0],time_b[j-1])\n",
    "query = \"SELECT Timestamp,watt FROM device.aircont WHERE Timestamp >= '%s'   AND Timestamp <= '%s'; \"% (time_a[0],time_b[(5760*(d+1))-1])\n",
    "# query = \"SELECT Timestamp,watt FROM device.aircont WHERE Timestamp >= '%s'   AND Timestamp <= '%s'; \"% (time_a[0],'2016-09-04 23:59:59')\n",
    "\n",
    "df = pd.read_sql(query, conn1, index_col=['Timestamp'])\n",
    "\n",
    "fig, ax = plt.subplots()\n",
    "ax.set_title('device.aircont')\n",
    "df.plot(ax=ax )\n",
    "plt.show()\n",
    "df.to_csv('file.csv')\n",
    "len(time_b)"
   ]
  }
 ],
 "metadata": {
  "kernelspec": {
   "display_name": "Python 2",
   "language": "python",
   "name": "python2"
  },
  "language_info": {
   "codemirror_mode": {
    "name": "ipython",
    "version": 2
   },
   "file_extension": ".py",
   "mimetype": "text/x-python",
   "name": "python",
   "nbconvert_exporter": "python",
   "pygments_lexer": "ipython2",
   "version": "2.7.6"
  }
 },
 "nbformat": 4,
 "nbformat_minor": 1
}

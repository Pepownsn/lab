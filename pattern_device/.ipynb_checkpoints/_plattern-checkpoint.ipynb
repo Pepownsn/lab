{
 "cells": [
  {
   "cell_type": "code",
   "execution_count": 414,
   "metadata": {},
   "outputs": [],
   "source": [
    "from random import randrange\n",
    "import random\n",
    "import pandas as pd\n",
    "import MySQLdb\n",
    "import time\n",
    "import datetime\n",
    "import sys\n",
    "import calendar\n",
    "import numpy as np"
   ]
  },
  {
   "cell_type": "code",
   "execution_count": 8,
   "metadata": {},
   "outputs": [
    {
     "name": "stdout",
     "output_type": "stream",
     "text": [
      "29/11/16 14:01:58\n",
      "60 : 40\n",
      "29/11/16 15:02:38\n"
     ]
    }
   ],
   "source": [
    "d = int(time.strftime(\"%d\"))\n",
    "m = int(time.strftime(\"%m\"))\n",
    "y = int(time.strftime(\"%Y\"))\n",
    "H = int(time.strftime(\"%H\"))\n",
    "M = int(time.strftime(\"%M\"))\n",
    "S = int(time.strftime(\"%S\"))\n",
    "start = datetime.datetime(y,m,d,H,M,S)\n",
    "current = start\n",
    "curr = current + datetime.timedelta(minutes=randrange(120))\n",
    "print curr.strftime(\"%d/%m/%y %H:%M:%S\")        \n",
    "\n",
    "# duration =  random.random()*100  \n",
    "# print duration\n",
    "\n",
    "duration_sec =  random.randint(10, 60)\n",
    "duration_min =  random.randint(10, 60)\n",
    "print duration_min,\":\",duration_sec     ######### นับข้อมูลตัว 15 ตัว ดังนั้นต้องแปลงเป็น 15 วินาที \n",
    "curr2 = curr + datetime.timedelta(minutes=duration_min, seconds=duration_sec)\n",
    "print curr2.strftime(\"%d/%m/%y %H:%M:%S\")    \n",
    "\n"
   ]
  },
  {
   "cell_type": "code",
   "execution_count": 3,
   "metadata": {},
   "outputs": [
    {
     "name": "stdout",
     "output_type": "stream",
     "text": [
      "5 31\n"
     ]
    }
   ],
   "source": [
    "## How many week & date in month \n",
    "x,y= calendar.monthrange(2016,10)     \n",
    "print x,y"
   ]
  },
  {
   "cell_type": "code",
   "execution_count": 256,
   "metadata": {},
   "outputs": [
    {
     "name": "stdout",
     "output_type": "stream",
     "text": [
      "the starting day to collect load profile data on 2016-11-22 21:37:48\n",
      "the ending day of collecting load profile within 8 day, end of November ( 30 days)\n"
     ]
    }
   ],
   "source": [
    "## SET starting date for collecting data in monthly \n",
    "\n",
    "# create function accepting a single parameter, the year as a four digit number\n",
    "def get_random_date(year):\n",
    "    # try to get a date\n",
    "    try:\n",
    "        return datetime.datetime.strptime('{} {}'.format(random.randint(1, 366), year), '%j %Y')\n",
    "    # if the value happens to be in the leap year range, try again\n",
    "    except ValueError:\n",
    "        get_random_date(year)\n",
    "      \n",
    "Y = int(time.strftime(\"%Y\"))    \n",
    "curr = get_random_date(Y)\n",
    "#print curr\n",
    "\n",
    "## SET starting time for collecting data in date\n",
    "duration_sec =  random.randint(10, 60)\n",
    "duration_min =  random.randint(10, 60)\n",
    "duration_hour =  random.randint(0, 23)\n",
    "#print  duration_hour,\":\",duration_min,\":\",duration_sec    \n",
    "curr2 = curr + datetime.timedelta(hours= duration_hour,minutes=duration_min, seconds=duration_sec)\n",
    "print \"the starting day to collect load profile data on\",curr2.strftime(\"%Y-%m-%d %H:%M:%S\") \n",
    "# print type(curr2)\n",
    "\n",
    "\n",
    "## Find the last day in those month \n",
    "day = int(curr2.strftime(\"%d\"))\n",
    "month = int(curr2.strftime(\"%m\"))\n",
    "month1 = curr2.strftime(\"%B\")\n",
    "x,end = calendar.monthrange(Y,month)  \n",
    "turn = end-day\n",
    "print \"the ending day of collecting load profile within\",turn,\"day, end of\",month1,\"(\",end,\"days)\" \n",
    "\n"
   ]
  },
  {
   "cell_type": "code",
   "execution_count": 482,
   "metadata": {},
   "outputs": [
    {
     "name": "stdout",
     "output_type": "stream",
     "text": [
      "[1 0 0 0 0 0 1 1]\n",
      "0\n",
      "1\n",
      "2\n",
      "3\n",
      "4\n",
      "5\n",
      "6\n",
      "7\n"
     ]
    }
   ],
   "source": [
    "## Random the number of opening-appliances day\n",
    "# int(round(random.random()))\n",
    "print tim\n",
    "for i in range (turn):\n",
    "    print i"
   ]
  }
 ],
 "metadata": {
  "kernelspec": {
   "display_name": "Python 2",
   "language": "python",
   "name": "python2"
  },
  "language_info": {
   "codemirror_mode": {
    "name": "ipython",
    "version": 2
   },
   "file_extension": ".py",
   "mimetype": "text/x-python",
   "name": "python",
   "nbconvert_exporter": "python",
   "pygments_lexer": "ipython2",
   "version": "2.7.6"
  }
 },
 "nbformat": 4,
 "nbformat_minor": 1
}

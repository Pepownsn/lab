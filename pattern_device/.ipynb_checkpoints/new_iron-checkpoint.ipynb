{
 "cells": [
  {
   "cell_type": "code",
   "execution_count": 24,
   "metadata": {},
   "outputs": [
    {
     "name": "stdout",
     "output_type": "stream",
     "text": [
      "device.IRON are Empty!!! \n",
      "\n",
      "| use iron in next week on | ...  Sunday\n",
      "time to turn-on appliacne on 10 : 27 : 55 equal to 2511 items\n",
      "consuming the appliance 2 hours 49 minutes 37 seconds that equal to 10177 seconds or 678 items\n",
      "\n",
      "Days : 0 : Thu\n",
      "\n",
      "Days : 1 : Fri\n",
      "\n",
      "Days : 2 : Sat\n",
      "\n",
      "Days : 3 : Sun\n",
      "| 19792 | 19793 | 19794 | 19795 | 19796 | 19797 | 19798 | 19799 | 19800 | 19801 | 19802 | 19803 | 19804 | 19805 | 19806 | 19807 | 19808 | 19809 | 19810 | 19811 | 19812 | 19813 | 19814 | 19815 | 19816 | 19817 | 19818 | 19819 | 19820 | 19821 | 19822 | 19823 | 19824 | 19825 | 19826 | 19827 | 19828 | 19829 | 19830 | 19831 | 19832 | 19833 | 19834 | 19835 | 19836 | 19837 | 19838 | 19839 | 19840 | 19841 | 19842 | 19843 | 19844 | 19845 | 19846 | 19847 | 19848 | 19849 | 19850 | 19851 | 19852 | 19853 | 19854 | 19855 | 19856 | 19857 | 19858 | 19859 | 19860 | 19861 | 19862 | 19863 | 19864 | 19865 | 19866 | 19867 | 19868 | 19869 | 19870 | 19871 | 19872 | 19873 | 19874 | 19875 | 19876 | 19877 | 19878 | 19879 | 19880 | 19881 | 19882 | 19883 | 19884 | 19885 | 19886 | 19887 | 19888 | 19889 | 19890 | 19891 | 19892 | 19893 | 19894 | 19895 | 19896 | 19897 | 19898 | 19899 | 19900 | 19901 | 19902 | 19903 | 19904 | 19905 | 19906 | 19907 | 19908 | 19909 | 19910 | 19911 | 19912 | 19913 | 19914 | 19915 | 19916 | 19917 | 19918 | 19919 | 19920 | 19921 | 19922 | 19923 | 19924 | 19925 | 19926 | 19927 | 19928 | 19929 | 19930 | 19931 | 19932 | 19933 | 19934 | 19935 | 19936 | 19937 | 19938 | 19939 | 19940 | 19941 | 19942 | 19943 | 19944 | 19945 | 19946 | 19947 | 19948 | 19949 | 19950 | 19951 | 19952 | 19953 | 19954 | 19955 | 19956 | 19957 | 19958 | 19959 | 19960 | 19961 | 19962 | 19963 | 19964 | 19965 | 19966 | 19967 | 19968 | 19969 | 19970 | 19971 | 19972 | 19973 | 19974 | 19975 | 19976 | 19977 | 19978 | 19979 | 19980 | 19981 | 19982 | 19983 | 19984 | 19985 | 19986 | 19987 | 19988 | 19989 | 19990 | 19991 | 19992 | 19993 | 19994 | 19995 | 19996 | 19997 | 19998 | 19999 | 20000 | 20001 | 20002 | 20003 | 20004 | 20005 | 20006 | 20007 | 20008 | 20009 | 20010 | 20011 | 20012 | 20013 | 20014 | 20015 | 20016 | 20017 | 20018 | 20019 | 20020 | 20021 | 20022 | 20023 | 20024 | 20025 | 20026 | 20027 | 20028 | 20029 | 20030 | 20031 | 20032 | 20033 | 20034 | 20035 | 20036 | 20037 | 20038 | 20039 | 20040 | 20041 | 20042 | 20043 | 20044 | 20045 | 20046 | 20047 | 20048 | 20049 | 20050 | 20051 | 20052 | 20053 | 20054 | 20055 | 20056 | 20057 | 20058 | 20059 | 20060 | 20061 | 20062 | 20063 | 20064 | 20065 | 20066 | 20067 | 20068 | 20069 | 20070 | 20071 | 20072 | 20073 | 20074 | 20075 | 20076 | 20077 | 20078 | 20079 | 20080 | 20081 | 20082 | 20083 | 20084 | 20085 | 20086 | 20087 | 20088 | 20089 | 20090 | 20091 | 20092 | 20093 | 20094 | 20095 | 20096 | 20097 | 20098 | 20099 | 20100 | 20101 | 20102 | 20103 | 20104 | 20105 | 20106 | 20107 | 20108 | 20109 | 20110 | 20111 | 20112 | 20113 | 20114 | 20115 | 20116 | 20117 | 20118 | 20119 | 20120 | 20121 | 20122 | 20123 | 20124 | 20125 | 20126 | 20127 | 20128 | 20129 | 20130 | 20131 | 20132 | 20133 | 20134 | 20135 | 20136 | 20137 | 20138 | 20139 | 20140 | 20141 | 20142 | 20143 | 20144 | 20145 | 20146 | 20147 | 20148 | 20149 | 20150 | 20151 | 20152 | 20153 | 20154 | 20155 | 20156 | 20157 | 20158 | 20159 | 20160 | 20161 | 20162 | 20163 | 20164 | 20165 | 20166 | 20167 | 20168 | 20169 | 20170 | 20171 | 20172 | 20173 | 20174 | 20175 | 20176 | 20177 | 20178 | 20179 | 20180 | 20181 | 20182 | 20183 | 20184 | 20185 | 20186 | 20187 | 20188 | 20189 | 20190 | 20191 | 20192 | 20193 | 20194 | 20195 | 20196 | 20197 | 20198 | 20199 | 20200 | 20201 | 20202 | 20203 | 20204 | 20205 | 20206 | 20207 | 20208 | 20209 | 20210 | 20211 | 20212 | 20213 | 20214 | 20215 | 20216 | 20217 | 20218 | 20219 | 20220 | 20221 | 20222 | 20223 | 20224 | 20225 | 20226 | 20227 | 20228 | 20229 | 20230 | 20231 | 20232 | 20233 | 20234 | 20235 | 20236 | 20237 | 20238 | 20239 | 20240 | 20241 | 20242 | 20243 | 20244 | 20245 | 20246 | 20247 | 20248 | 20249 | 20250 | 20251 | 20252 | 20253 | 20254 | 20255 | 20256 | 20257 | 20258 | 20259 | 20260 | 20261 | 20262 | 20263 | 20264 | 20265 | 20266 | 20267 | 20268 | 20269 | 20270 | 20271 | 20272 | 20273 | 20274 | 20275 | 20276 | 20277 | 20278 | 20279 | 20280 | 20281 | 20282 | 20283 | 20284 | 20285 | 20286 | 20287 | 20288 | 20289 | 20290 | 20291 | 20292 | 20293 | 20294 | 20295 | 20296 | 20297 | 20298 | 20299 | 20300 | 20301 | 20302 | 20303 | 20304 | 20305 | 20306 | 20307 | 20308 | 20309 | 20310 | 20311 | 20312 | 20313 | 20314 | 20315 | 20316 | 20317 | 20318 | 20319 | 20320 | 20321 | 20322 | 20323 | 20324 | 20325 | 20326 | 20327 | 20328 | 20329 | 20330 | 20331 | 20332 | 20333 | 20334 | 20335 | 20336 | 20337 | 20338 | 20339 | 20340 | 20341 | 20342 | 20343 | 20344 | 20345 | 20346 | 20347 | 20348 | 20349 | 20350 | 20351 | 20352 | 20353 | 20354 | 20355 | 20356 | 20357 | 20358 | 20359 | 20360 | 20361 | 20362 | 20363 | 20364 | 20365 | 20366 | 20367 | 20368 | 20369 | 20370 | 20371 | 20372 | 20373 | 20374 | 20375 | 20376 | 20377 | 20378 | 20379 | 20380 | 20381 | 20382 | 20383 | 20384 | 20385 | 20386 | 20387 | 20388 | 20389 | 20390 | 20391 | 20392 | 20393 | 20394 | 20395 | 20396 | 20397 | 20398 | 20399 | 20400 | 20401 | 20402 | 20403 | 20404 | 20405 | 20406 | 20407 | 20408 | 20409 | 20410 | 20411 | 20412 | 20413 | 20414 | 20415 | 20416 | 20417 | 20418 | 20419 | 20420 | 20421 | 20422 | 20423 | 20424 | 20425 | 20426 | 20427 | 20428 | 20429 | 20430 | 20431 | 20432 | 20433 | 20434 | 20435 | 20436 | 20437 | 20438 | 20439 | 20440 | 20441 | 20442 | 20443 | 20444 | 20445 | 20446 | 20447 | 20448 | 20449 | 20450 | 20451 | 20452 | 20453 | 20454 | 20455 | 20456 | 20457 | 20458 | 20459 | 20460 | 20461 | 20462 | 20463 | 20464 | 20465 | 20466 | 20467 | 20468 | 20469 | 20470 \n",
      "| use iron in next week on | ...  Saturday\n",
      "time to turn-on appliacne on 13 : 50 : 22 equal to 3321 items\n",
      "consuming the appliance 2 hours 14 minutes 41 seconds that equal to 8081 seconds or 538 items\n",
      "\n",
      "Days : 4 : Mon\n",
      "\n",
      "Days : 5 : Tue\n",
      "\n",
      "Days : 6 : Wed\n",
      "\n",
      "Days : 7 : Thu\n",
      "\n",
      "Days : 8 : Fri\n",
      "\n",
      "Days : 9 : Sat\n",
      "| 55162 | 55163 | 55164 | 55165 | 55166 | 55167 | 55168 | 55169 | 55170 | 55171 | 55172 | 55173 | 55174 | 55175 | 55176 | 55177 | 55178 | 55179 | 55180 | 55181 | 55182 | 55183 | 55184 | 55185 | 55186 | 55187 | 55188 | 55189 | 55190 | 55191 | 55192 | 55193 | 55194 | 55195 | 55196 | 55197 | 55198 | 55199 | 55200 | 55201 | 55202 | 55203 | 55204 | 55205 | 55206 | 55207 | 55208 | 55209 | 55210 | 55211 | 55212 | 55213 | 55214 | 55215 | 55216 | 55217 | 55218 | 55219 | 55220 | 55221 | 55222 | 55223 | 55224 | 55225 | 55226 | 55227 | 55228 | 55229 | 55230 | 55231 | 55232 | 55233 | 55234 | 55235 | 55236 | 55237 | 55238 | 55239 | 55240 | 55241 | 55242 | 55243 | 55244 | 55245 | 55246 | 55247 | 55248 | 55249 | 55250 | 55251 | 55252 | 55253 | 55254 | 55255 | 55256 | 55257 | 55258 | 55259 | 55260 | 55261 | 55262 | 55263 | 55264 | 55265 | 55266 | 55267 | 55268 | 55269 | 55270 | 55271 | 55272 | 55273 | 55274 | 55275 | 55276 | 55277 | 55278 | 55279 | 55280 | 55281 | 55282 | 55283 | 55284 | 55285 | 55286 | 55287 | 55288 | 55289 | 55290 | 55291 | 55292 | 55293 | 55294 | 55295 | 55296 | 55297 | 55298 | 55299 | 55300 | 55301 | 55302 | 55303 | 55304 | 55305 | 55306 | 55307 | 55308 | 55309 | 55310 | 55311 | 55312 | 55313 | 55314 | 55315 | 55316 | 55317 | 55318 | 55319 | 55320 | 55321 | 55322 | 55323 | 55324 | 55325 | 55326 | 55327 | 55328 | 55329 | 55330 | 55331 | 55332 | 55333 | 55334 | 55335 | 55336 | 55337 | 55338 | 55339 | 55340 | 55341 | 55342 | 55343 | 55344 | 55345 | 55346 | 55347 | 55348 | 55349 | 55350 | 55351 | 55352 | 55353 | 55354 | 55355 | 55356 | 55357 | 55358 | 55359 | 55360 | 55361 | 55362 | 55363 | 55364 | 55365 | 55366 | 55367 | 55368 | 55369 | 55370 | 55371 | 55372 | 55373 | 55374 | 55375 | 55376 | 55377 | 55378 | 55379 | 55380 | 55381 | 55382 | 55383 | 55384 | 55385 | 55386 | 55387 | 55388 | 55389 | 55390 | 55391 | 55392 | 55393 | 55394 | 55395 | 55396 | 55397 | 55398 | 55399 | 55400 | 55401 | 55402 | 55403 | 55404 | 55405 | 55406 | 55407 | 55408 | 55409 | 55410 | 55411 | 55412 | 55413 | 55414 | 55415 | 55416 | 55417 | 55418 | 55419 | 55420 | 55421 | 55422 | 55423 | 55424 | 55425 | 55426 | 55427 | 55428 | 55429 | 55430 | 55431 | 55432 | 55433 | 55434 | 55435 | 55436 | 55437 | 55438 | 55439 | 55440 | 55441 | 55442 | 55443 | 55444 | 55445 | 55446 | 55447 | 55448 | 55449 | 55450 | 55451 | 55452 | 55453 | 55454 | 55455 | 55456 | 55457 | 55458 | 55459 | 55460 | 55461 | 55462 | 55463 | 55464 | 55465 | 55466 | 55467 | 55468 | 55469 | 55470 | 55471 | 55472 | 55473 | 55474 | 55475 | 55476 | 55477 | 55478 | 55479 | 55480 | 55481 | 55482 | 55483 | 55484 | 55485 | 55486 | 55487 | 55488 | 55489 | 55490 | 55491 | 55492 | 55493 | 55494 | 55495 | 55496 | 55497 | 55498 | 55499 | 55500 | 55501 | 55502 | 55503 | 55504 | 55505 | 55506 | 55507 | 55508 | 55509 | 55510 | 55511 | 55512 | 55513 | 55514 | 55515 | 55516 | 55517 | 55518 | 55519 | 55520 | 55521 | 55522 | 55523 | 55524 | 55525 | 55526 | 55527 | 55528 | 55529 | 55530 | 55531 | 55532 | 55533 | 55534 | 55535 | 55536 | 55537 | 55538 | 55539 | 55540 | 55541 | 55542 | 55543 | 55544 | 55545 | 55546 | 55547 | 55548 | 55549 | 55550 | 55551 | 55552 | 55553 | 55554 | 55555 | 55556 | 55557 | 55558 | 55559 | 55560 | 55561 | 55562 | 55563 | 55564 | 55565 | 55566 | 55567 | 55568 | 55569 | 55570 | 55571 | 55572 | 55573 | 55574 | 55575 | 55576 | 55577 | 55578 | 55579 | 55580 | 55581 | 55582 | 55583 | 55584 | 55585 | 55586 | 55587 | 55588 | 55589 | 55590 | 55591 | 55592 | 55593 | 55594 | 55595 | 55596 | 55597 | 55598 | 55599 | 55600 | 55601 | 55602 | 55603 | 55604 | 55605 | 55606 | 55607 | 55608 | 55609 | 55610 | 55611 | 55612 | 55613 | 55614 | 55615 | 55616 | 55617 | 55618 | 55619 | 55620 | 55621 | 55622 | 55623 | 55624 | 55625 | 55626 | 55627 | 55628 | 55629 | 55630 | 55631 | 55632 | 55633 | 55634 | 55635 | 55636 | 55637 | 55638 | 55639 | 55640 | 55641 | 55642 | 55643 | 55644 | 55645 | 55646 | 55647 | 55648 | 55649 | 55650 | 55651 | 55652 | 55653 | 55654 | 55655 | 55656 | 55657 | 55658 | 55659 | 55660 | 55661 | 55662 | 55663 | 55664 | 55665 | 55666 | 55667 | 55668 | 55669 | 55670 | 55671 | 55672 | 55673 | 55674 | 55675 | 55676 | 55677 | 55678 | 55679 | 55680 | 55681 | 55682 | 55683 | 55684 | 55685 | 55686 | 55687 | 55688 | 55689 | 55690 | 55691 | 55692 | 55693 | 55694 | 55695 | 55696 | 55697 | 55698 | 55699 | 55700 \n",
      "Days : 10 : Sun\n",
      "\n",
      "| use iron in next week on | ...  Saturday\n",
      "time to turn-on appliacne on 16 : 12 : 58 equal to 3891 items\n",
      "consuming the appliance 4 hours 0 minutes 3 seconds that equal to 14403 seconds or 960 items\n",
      "\n",
      "Days : 11 : Mon\n",
      "\n",
      "Days : 12 : Tue\n",
      "\n",
      "Days : 13 : Wed\n",
      "DONE!\n"
     ]
    }
   ],
   "source": [
    "import pandas as pd\n",
    "import MySQLdb\n",
    "import numpy as np\n",
    "import time\n",
    "import datetime \n",
    "import random\n",
    "\n",
    "\n",
    "d =14\n",
    "time_a = pd.date_range('2016-09-01 00:00:00', periods=5760*(d+1), freq='15S')\n",
    "# print time_a\n",
    "time_b = pd.date_range('2016-09-01 00:00:14', periods=5760*(d+1), freq='15S')\n",
    "# print time_b\n",
    "\n",
    "clock1 = time_b.strftime(\"%H:%M:%S\")\n",
    "\n",
    "conn= MySQLdb.connect(\"localhost\",\"conn\",\"hems\",\"collected_info\")\n",
    "c = conn.cursor()\n",
    "\n",
    "conn1= MySQLdb.connect(\"localhost\",\"conn\",\"hems\",\"device\")\n",
    "c1 = conn1.cursor()\n",
    "\n",
    "####### set databases to empty #########\n",
    "query_empty = \"\"\"truncate table device.IRON\"\"\" \n",
    "c1.execute(query_empty)\n",
    "print \"device.IRON are Empty!!! \\n\"\n",
    "\n",
    "query = \"SELECT watt FROM collected_info.9_IRON WHERE no >= '%s'   AND no <= '%s'; \"% (0,1539)\n",
    "df = pd.read_sql(query, conn)\n",
    "# print df.watt[5]\n",
    "\n",
    "\n",
    "#### Random the turning-on time appliances\n",
    "def rand_turnon():\n",
    "    duration_sec =  random.randint(0, 59)\n",
    "    duration_min =  random.randint(0, 59)\n",
    "    duration_hour1 = ['10'] * 2 +  ['11'] * 3 + ['12'] * 5 + ['13'] * 50 + ['14'] * 20 + ['15'] * 10 +['16'] * 5 +['17'] * 5    #SET Start between 10-17 o'clock.\n",
    "    duration_hour = random.choice(duration_hour1)     \n",
    "    if 0 < duration_sec <= 15:\n",
    "        k = 0\n",
    "    elif 15 < duration_sec <= 30:\n",
    "        k = 1\n",
    "    elif 30 < duration_sec <= 45:\n",
    "        k = 2\n",
    "    else:\n",
    "        k = 3\n",
    "    off_item = (int(duration_hour)*240) + (int(duration_min)*4)+ k \n",
    "    print \"time to turn-on appliacne on\",duration_hour,\":\",duration_min,\":\",duration_sec,\"equal to\",off_item,\"items\"\n",
    "    return off_item\n",
    "\n",
    " \n",
    "#### Random the off-duration appliances \n",
    "def rand_duration():\n",
    "    duration_sec =  random.randint(0, 59)\n",
    "    duration_min =  random.randint(0, 59)\n",
    "    duration_hour =  random.randint(2, 5)     \n",
    "    seconds = (duration_hour*3600)+(duration_min*60)+duration_sec\n",
    "    no_item = seconds/15\n",
    "    print \"consuming the appliance\", duration_hour,\"hours\",duration_min,\"minutes\",duration_sec,\"seconds that equal to\",seconds,\"seconds or\",no_item,\"items\"\n",
    "    return no_item\n",
    "\n",
    "\n",
    "a = 0\n",
    "days = 0\n",
    "j = 0\n",
    "i = 0\n",
    "do_days1 = ['5'] * 33 + ['6'] * 33 + ['0'] * 34 \n",
    "do_days = random.choice(do_days1)\n",
    "dict = {'5': 'Friday', '6': 'Saturday', '0': 'Sunday'}\n",
    "print \"| use iron in next week on | ... \",dict[do_days]\n",
    "off_item = rand_turnon()  \n",
    "no_item = rand_duration()\n",
    "\n",
    "\n",
    "while (j <= (5760*d)-1):\n",
    "    no_days = int(time_b[j].strftime('%w'))  # find 0-6 of no_days\n",
    "\n",
    "    \n",
    "    if (no_days == 0 and clock1[j] == u'23:59:59'):    #if no_day is SUNDAY at 23:59:59 check d0_days in week \n",
    "        do_days1 = ['5'] * 33 + ['6'] * 33 + ['0'] * 34     #fri-sat-sun\n",
    "        do_days = random.choice(do_days1) \n",
    "        dict = {'5': 'Friday', '6': 'Saturday', '0': 'Sunday'}\n",
    "        print \"\\n| use iron in next week on | ... \",dict[do_days]\n",
    "        off_item = rand_turnon()  \n",
    "        no_item = rand_duration()\n",
    "\n",
    "\n",
    "    if (int(do_days) == no_days):\n",
    "        i= 0  \n",
    "        c1.execute(\"INSERT INTO device.IRON (Timestamp, watt) VALUES (%s, %s)\",(time_b[j],0))\n",
    "        while (off_item+(5760*(days-1))<= j <= (no_item+off_item)+(5760*(days-1))):\n",
    "            c1.execute(\"INSERT INTO device.IRON (Timestamp, watt) VALUES (%s, %s)\",(time_b[j],df.watt[i]))\n",
    "            conn1.commit()\n",
    "            i += 1 \n",
    "            j += 1     \n",
    "            print \"|\",j,\n",
    "    else : \n",
    "        c1.execute(\"INSERT INTO device.IRON (Timestamp, watt) VALUES (%s, %s)\",(time_b[j],0))\n",
    "        \n",
    "    if (j%5760 == 0):\n",
    "        print \"\\nDays :\",days ,\":\",time_b[j].strftime('%a')\n",
    "        days +=1        \n",
    "    j += 1\n",
    "    conn1.commit()\n",
    "print \"DONE!\"\n",
    "\n",
    " \n"
   ]
  },
  {
   "cell_type": "code",
   "execution_count": 21,
   "metadata": {},
   "outputs": [
    {
     "name": "stdout",
     "output_type": "stream",
     "text": [
      "4\n"
     ]
    }
   ],
   "source": [
    "no_days = int(time_b[j].strftime('%w'))\n",
    "print no_days"
   ]
  },
  {
   "cell_type": "code",
   "execution_count": 3,
   "metadata": {},
   "outputs": [
    {
     "data": {
      "image/png": "[encoded data removed]",
      "text/plain": [
       "<matplotlib.figure.Figure at 0x7f25c097ec90>"
      ]
     },
     "metadata": {},
     "output_type": "display_data"
    },
    {
     "name": "stdout",
     "output_type": "stream",
     "text": [
      "80640\n"
     ]
    }
   ],
   "source": [
    "import matplotlib.pyplot as plt\n",
    "%matplotlib inline  \n",
    "\n",
    "\n",
    "# query = \"SELECT watt FROM device.aircont WHERE Timestamp >= '%s'   AND Timestamp <= '%s'; \"% (time_a[0],time_b[j-1])\n",
    "query = \"SELECT Timestamp,watt FROM device.IRON WHERE Timestamp >= '%s'   AND Timestamp <= '%s'; \"% (time_a[0],time_b[j-1])\n",
    "df = pd.read_sql(query, conn1, index_col=['Timestamp'])\n",
    "fig, ax = plt.subplots()\n",
    "ax.set_title('device.IRON')\n",
    "df.plot(ax=ax )\n",
    "plt.show()\n",
    "df.to_csv('file.csv')\n",
    "print len(df)\n"
   ]
  }
 ],
 "metadata": {
  "kernelspec": {
   "display_name": "Python 2",
   "language": "python",
   "name": "python2"
  },
  "language_info": {
   "codemirror_mode": {
    "name": "ipython",
    "version": 2
   },
   "file_extension": ".py",
   "mimetype": "text/x-python",
   "name": "python",
   "nbconvert_exporter": "python",
   "pygments_lexer": "ipython2",
   "version": "2.7.6"
  }
 },
 "nbformat": 4,
 "nbformat_minor": 1
}

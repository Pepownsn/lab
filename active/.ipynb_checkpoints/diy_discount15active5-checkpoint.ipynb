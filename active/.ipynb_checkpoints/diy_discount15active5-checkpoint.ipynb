{
 "cells": [
  {
   "cell_type": "code",
   "execution_count": null,
   "metadata": {},
   "outputs": [],
   "source": [
    "import pandas as pd\n",
    "import MySQLdb\n",
    "import time\n",
    "import sys\n",
    "import numpy as np\n",
    "import time\n",
    "import datetime \n",
    "import random\n",
    "import matplotlib.pyplot as plt"
   ]
  },
  {
   "cell_type": "code",
   "execution_count": null,
   "metadata": {},
   "outputs": [],
   "source": [
    "d = 30\n",
    "time_a = pd.date_range('2016-10-01 00:00:00', periods=5760*d, freq='15S')\n",
    "# print time_a\n",
    "time_b = pd.date_range('2016-10-01 00:00:14', periods=5760*d, freq='15S')\n",
    "# print time_b\n",
    "\n",
    "conn = MySQLdb.connect(\"localhost\",\"conn\",\"hems\")\n",
    "c = conn.cursor()\n",
    "\n",
    "# query_empty = \"\"\"truncate table active.discount15active5\"\"\" \n",
    "# c.execute(query_empty)\n",
    "# print \"ctive.discount15active5 are Empty!!! \\n\"\n",
    "\n",
    "\n",
    "j  =(779*60)+60\n",
    "end =(790*60)+59\n",
    "    \n",
    "\n",
    "query2= \"SELECT * FROM data_timeline.load_MONTH_1 WHERE  Timestamp >= '%s'   AND Timestamp <= '%s'; \" % (time_a[0],time_b[(5760*d)-1])\n",
    "df2= pd.read_sql(query2, conn)\n",
    "df2['watt'] = df2['watt'].astype(float)\n",
    "\n",
    "# query3= \"SELECT * FROM collected_info.1_aircont26 WHERE no >= '%s'   AND no<= '%s'; \"% ( 0 ,3026)\n",
    "# df3= pd.read_sql(query3, conn)\n",
    "\n",
    "while (j <= end):   \n",
    "    if df2.watt[j] <= 500:\n",
    "        df2watt = df2.watt[j]\n",
    "    else:\n",
    "        df2watt = df2.watt[j]-(random.uniform(60,80))\n",
    "    c.execute(\"INSERT INTO active.discount15active5 (Timestamp,no,wattnow15sec) VALUES ( %s,%s,%s)\",(time_b[j],j,df2watt/240))\n",
    "    conn.commit()\n",
    "    j+=1\n",
    "print \"DONE !!\"\n"
   ]
  },
  {
   "cell_type": "code",
   "execution_count": null,
   "metadata": {},
   "outputs": [],
   "source": [
    "import pandas as pd\n",
    "import MySQLdb\n",
    "import time\n",
    "import sys\n",
    "import numpy as np\n",
    "import time\n",
    "import datetime \n",
    "import random\n",
    "import matplotlib.pyplot as plt\n",
    "\n",
    "d = 30\n",
    "\n",
    "time_a = pd.date_range('2016-10-01 00:00:00', periods=5760*d, freq='15S')\n",
    "# print time_a\n",
    "time_b = pd.date_range('2016-10-01 00:00:14', periods=5760*d, freq='15S')\n",
    "# print time_b\n",
    "\n",
    "conn = MySQLdb.connect(\"localhost\",\"conn\",\"hems\")\n",
    "c = conn.cursor()\n",
    "\n",
    "\n",
    "time_b1 = pd.date_range('2016-10-01 00:14:59', periods=96*d, freq='15T')\n",
    "print time_b1[766]"
   ]
  },
  {
   "cell_type": "code",
   "execution_count": null,
   "metadata": {},
   "outputs": [],
   "source": [
    "2016-10-08 23:48:44"
   ]
  },
  {
   "cell_type": "code",
   "execution_count": null,
   "metadata": {},
   "outputs": [],
   "source": [
    "d=30\n",
    "time_bbb = pd.date_range('2016-10-01 00:00:14', periods=5760*d, freq='15S')\n",
    "\n",
    "print time_bbb[(815*60)+59]\n",
    "print time_bbb[ (779*60)+60]"
   ]
  }
 ],
 "metadata": {
  "kernelspec": {
   "display_name": "Python 2",
   "language": "python",
   "name": "python2"
  },
  "language_info": {
   "codemirror_mode": {
    "name": "ipython",
    "version": 2
   },
   "file_extension": ".py",
   "mimetype": "text/x-python",
   "name": "python",
   "nbconvert_exporter": "python",
   "pygments_lexer": "ipython2",
   "version": "2.7.6"
  }
 },
 "nbformat": 4,
 "nbformat_minor": 1
}

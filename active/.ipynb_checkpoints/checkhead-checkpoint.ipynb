{
 "cells": [
  {
   "cell_type": "code",
   "execution_count": 14,
   "metadata": {},
   "outputs": [
    {
     "name": "stdout",
     "output_type": "stream",
     "text": [
      "DONE!!!!!!!!!!!!!!!!\n",
      "425\n"
     ]
    }
   ],
   "source": [
    "import pandas as pd\n",
    "import MySQLdb\n",
    "import time\n",
    "import sys\n",
    "import numpy as np\n",
    "import time\n",
    "import datetime \n",
    "import random\n",
    "import matplotlib.pyplot as plt\n",
    "from sklearn.metrics import mean_absolute_error,mean_squared_error\n",
    "import statistics \n",
    "%matplotlib inline \n",
    "\n",
    "\n",
    "conn = MySQLdb.connect(\"localhost\",\"conn\",\"hems\")\n",
    "c = conn.cursor()\n",
    "\n",
    "query1 = \"SELECT *  FROM check_event.active WHERE no >= '%s'   AND no <= '%s'; \" % (0,2700)\n",
    "df = pd.read_sql(query1, conn)\n",
    "count = 0\n",
    "j = 0\n",
    "n =2694\n",
    "while ( j<=n):\n",
    "    if df.active15[j]==1:\n",
    "        count +=1\n",
    "#     print \".\",\n",
    "    j+=1 \n",
    "print \"DONE!!!!!!!!!!!!!!!!\"\n",
    "print count\n",
    "    \n",
    "        \n"
   ]
  }
 ],
 "metadata": {
  "kernelspec": {
   "display_name": "Python 2",
   "language": "python",
   "name": "python2"
  },
  "language_info": {
   "codemirror_mode": {
    "name": "ipython",
    "version": 2
   },
   "file_extension": ".py",
   "mimetype": "text/x-python",
   "name": "python",
   "nbconvert_exporter": "python",
   "pygments_lexer": "ipython2",
   "version": "2.7.6"
  }
 },
 "nbformat": 4,
 "nbformat_minor": 1
}

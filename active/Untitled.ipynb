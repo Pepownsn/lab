{
 "cells": [
  {
   "cell_type": "code",
   "execution_count": null,
   "metadata": {},
   "outputs": [],
   "source": [
    "    if sum_sub < 0:\n",
    "        print \"\\n______________________________ CHECK SUM_SUB ______________________________  \"\n",
    "        m = end(j)\n",
    "        m1= m[0]\n",
    "        m1 -= 1\n",
    "        m2= m[1]\n",
    "        m2 -= 1\n",
    "        m3= m[2]\n",
    "        m3 -= 1\n",
    "        m4= m[3]\n",
    "        m4 -= 1\n",
    "        m5= m[4]\n",
    "        m5 -= 1\n",
    "        m6= m[5]\n",
    "        m6 -= 1\n",
    "        m7= m[6]\n",
    "        m7 -= 1 \n",
    "        m8= m[7]\n",
    "        m8 -= 1\n",
    "        m9= m[8]\n",
    "        m9 -= 1\n",
    "        j += 1\n",
    "        k = state(j,m1,m2,m3,m4,m5,m6,m7,m8,m9)\n",
    "        else:\n",
    "            print \" |||||||| TAIL OCCUR = USER NONACTIVE for GUIDANCE |||||||| \"\n",
    "            j +=1\n",
    "            k = state(j,m1,m2,m3,m4,m5,m6,m7,m8,m9)\n",
    "                       \n",
    "    else:\n",
    "        print \"______________________________ sum_substract is still POSITIVE______________________________ \"\n",
    "        j += 1\n",
    "        k = state(j,m1,m2,m3,m4,m5,m6,m7,m8,m9)\n",
    "    \n",
    "          \n",
    "    \n",
    "print \"...............................................End..................................................\""
   ]
  }
 ],
 "metadata": {
  "kernelspec": {
   "display_name": "Python 2",
   "language": "python",
   "name": "python2"
  },
  "language_info": {
   "codemirror_mode": {
    "name": "ipython",
    "version": 2
   },
   "file_extension": ".py",
   "mimetype": "text/x-python",
   "name": "python",
   "nbconvert_exporter": "python",
   "pygments_lexer": "ipython2",
   "version": "2.7.6"
  }
 },
 "nbformat": 4,
 "nbformat_minor": 1
}

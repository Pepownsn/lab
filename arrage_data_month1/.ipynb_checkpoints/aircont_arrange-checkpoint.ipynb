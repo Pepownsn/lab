{
 "cells": [
  {
   "cell_type": "code",
   "execution_count": 1,
   "metadata": {},
   "outputs": [
    {
     "name": "stdout",
     "output_type": "stream",
     "text": [
      " table arrage_data.aircont are Empty!!! \n",
      "\n",
      ".DONE!\n"
     ]
    }
   ],
   "source": [
    "import pandas as pd\n",
    "import matplotlib.pyplot as plt\n",
    "import MySQLdb\n",
    "import time\n",
    "\n",
    "from sympy import *\n",
    "from sympy.solvers import solve\n",
    "from sympy.parsing.sympy_parser import parse_expr\n",
    "\n",
    "# Set parameters\n",
    "j = 0\n",
    "d = 1 #Day\n",
    "\n",
    "# CONNECT TO MYSQL\n",
    "conn= MySQLdb.connect(\"localhost\",\"conn\",\"hems\",\"power\")\n",
    "c = conn.cursor()\n",
    "\n",
    "# set table thesis.measure_15devices to empty \n",
    "query_empty = \"\"\"truncate table arrage_data.aircont\"\"\" \n",
    "c.execute(query_empty)\n",
    "print \" table arrage_data.aircont are Empty!!! \\n\"\n",
    "\n",
    "# set 15 mins periods \n",
    "time_a = pd.date_range('2016-10-01', periods=96*d, freq='15T')\n",
    "time_b = pd.date_range('2016-10-01 00:14:59', periods=96*d, freq='15T')\n",
    "\n",
    "\n",
    "while (j <= (96*d)-1):    \n",
    "    # device3\n",
    "    query_aircont = \"SELECT watt FROM device.aircont WHERE Timestamp >= '%s' AND TimeStamp <= '%s'; \"% (time_a[j],time_b[j])\n",
    "    df_aircont = pd.read_sql(query_aircont, conn)\n",
    "    power3 = df_aircont.sum()/len(df_aircont)/4\n",
    "    c.execute(\"INSERT INTO  arrage_data.aircont (Timestamp,watt) VALUES ( %s, %s)\",(time_b[j],power3[0]))\n",
    "    conn.commit()\n",
    "    j += 1 \n",
    "    \n",
    "print(\".DONE!\")"
   ]
  },
  {
   "cell_type": "code",
   "execution_count": null,
   "metadata": {},
   "outputs": [],
   "source": []
  }
 ],
 "metadata": {
  "kernelspec": {
   "display_name": "Python 2",
   "language": "python",
   "name": "python2"
  },
  "language_info": {
   "codemirror_mode": {
    "name": "ipython",
    "version": 2
   },
   "file_extension": ".py",
   "mimetype": "text/x-python",
   "name": "python",
   "nbconvert_exporter": "python",
   "pygments_lexer": "ipython2",
   "version": "2.7.6"
  }
 },
 "nbformat": 4,
 "nbformat_minor": 1
}

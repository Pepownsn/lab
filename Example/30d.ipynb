{
 "cells": [
  {
   "cell_type": "code",
   "execution_count": 1,
   "metadata": {},
   "outputs": [
    {
     "ename": "NameError",
     "evalue": "name 'time_a' is not defined",
     "output_type": "error",
     "traceback": [
      "\u001b[0;31m\u001b[0m",
      "\u001b[0;31mNameError\u001b[0mTraceback (most recent call last)",
      "\u001b[0;32m<ipython-input-1-e0fce7bb8aa6>\u001b[0m in \u001b[0;36m<module>\u001b[0;34m()\u001b[0m\n\u001b[1;32m     31\u001b[0m \u001b[0;34m\u001b[0m\u001b[0m\n\u001b[1;32m     32\u001b[0m         \u001b[0;31m#df.to_csv('out.csv')         ################################blug command โหลดไฟล์ลงexcel\u001b[0m\u001b[0;34m\u001b[0m\u001b[0;34m\u001b[0m\u001b[0m\n\u001b[0;32m---> 33\u001b[0;31m \u001b[0mc\u001b[0m\u001b[0;34m.\u001b[0m\u001b[0mexecute\u001b[0m\u001b[0;34m(\u001b[0m\u001b[0;34m\"INSERT INTO power.watt_15T (Timestamp, watt) VALUES ( %s, %s)\"\u001b[0m\u001b[0;34m,\u001b[0m\u001b[0;34m(\u001b[0m\u001b[0mtime_a\u001b[0m\u001b[0;34m[\u001b[0m\u001b[0mj\u001b[0m\u001b[0;34m]\u001b[0m\u001b[0;34m,\u001b[0m\u001b[0mmin_p\u001b[0m\u001b[0;34m)\u001b[0m\u001b[0;34m)\u001b[0m\u001b[0;34m\u001b[0m\u001b[0m\n\u001b[0m\u001b[1;32m     34\u001b[0m \u001b[0;32mprint\u001b[0m \u001b[0;34m\"-->\"\u001b[0m \u001b[0;34m,\u001b[0m\u001b[0mmin_p\u001b[0m \u001b[0;34m,\u001b[0m\u001b[0;34m\" W/15min\"\u001b[0m\u001b[0;34m\u001b[0m\u001b[0m\n\u001b[1;32m     35\u001b[0m     \u001b[0;31m#print \"|\",\u001b[0m\u001b[0;34m\u001b[0m\u001b[0;34m\u001b[0m\u001b[0m\n",
      "\u001b[0;31mNameError\u001b[0m: name 'time_a' is not defined"
     ]
    }
   ],
   "source": [
    "import pandas as pd\n",
    "import MySQLdb\n",
    "import numpy as np\n",
    "import time\n",
    "import sys\n",
    "import datetime\n",
    "\n",
    "min_p = 0\n",
    "d = 1 #Day\n",
    "\n",
    "query = \"\"\"\n",
    "SELECT s11\n",
    "FROM power.enegate_bkk\n",
    "WHERE TimeStamp >= \"2016-09-01 00:00:00\"\n",
    "  AND TimeStamp < \"2016-10-01 00:00:00\";\n",
    "\"\"\"\n",
    "conn= MySQLdb.connect(\"127.0.0.1\",\"conn\",\"hems\",\"power\") # One Pi 1 @192.168.1.25 namal localhost\n",
    "c = conn.cursor()\n",
    "\n",
    "df = pd.read_sql(query, conn)\n",
    "\n",
    "df = df[df.s11 != \"----\"]\n",
    "df = df.reset_index(drop=True)\n",
    "df['s11'] = df['s11'].astype(float)\n",
    "\n",
    "#print df\n",
    "for i in range(len(df.s11)):  \n",
    "    \n",
    "    min_p += df.s11[i]\n",
    "    min_p = min_p/len(df)/24\n",
    "   \n",
    "        #df.to_csv('out.csv')         ################################blug command โหลดไฟล์ลงexcel\n",
    "c.execute(\"INSERT INTO power.watt_15T (Timestamp, watt) VALUES ( %s, %s)\",(time_a[j],min_p))\n",
    "print \"-->\" ,min_p ,\" W/15min\"\n",
    "    #print \"|\",\n",
    "conn.commit()\n",
    "    #min_p = 0\n",
    "  \n",
    "    \n",
    "    #printProgress(j, 96*d, prefix = 'Progress:', suffix = 'Complete', barLength = 50)\n",
    "    #sys.stdout.write('.')\n",
    "    #sys.stdout.flush()\n",
    "    \n",
    "    #print \".\",\n",
    "#     print min_p\n",
    "print(\".DONE!\")\n"
   ]
  },
  {
   "cell_type": "code",
   "execution_count": null,
   "metadata": {},
   "outputs": [],
   "source": []
  }
 ],
 "metadata": {
  "kernelspec": {
   "display_name": "Python 2",
   "language": "python",
   "name": "python2"
  },
  "language_info": {
   "codemirror_mode": {
    "name": "ipython",
    "version": 2
   },
   "file_extension": ".py",
   "mimetype": "text/x-python",
   "name": "python",
   "nbconvert_exporter": "python",
   "pygments_lexer": "ipython2",
   "version": "2.7.6"
  }
 },
 "nbformat": 4,
 "nbformat_minor": 1
}

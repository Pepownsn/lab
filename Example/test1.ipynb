{
 "cells": [
  {
   "cell_type": "code",
   "execution_count": 1,
   "metadata": {},
   "outputs": [],
   "source": [
    "# # Sockets\n",
    "# import socket\n",
    "# import sys"
   ]
  },
  {
   "cell_type": "code",
   "execution_count": 2,
   "metadata": {},
   "outputs": [],
   "source": [
    "# s = socket._socket(socket.AF_INET, socket.SOCK_STREAM)\n",
    "# print s "
   ]
  },
  {
   "cell_type": "code",
   "execution_count": 3,
   "metadata": {},
   "outputs": [],
   "source": [
    "# server = 'www.hotmail.com'\n",
    "# port = 80\n",
    "# server_ip = socket.gethostbyname(server)\n",
    "# print(server_ip)"
   ]
  },
  {
   "cell_type": "code",
   "execution_count": 4,
   "metadata": {},
   "outputs": [],
   "source": [
    "# # request = \"GET / HTTP/1.1\\nHost: \"+server+\"\\n\\n\"\n",
    "# # s = socket.socket(\n",
    "#       socket.AF_INET, socket.SOCK_STREAM)\n",
    "# # s.connect((server,port))\n",
    "# # s.send(request.encode())\n",
    "# # result = s.recv(4096)\n",
    "# # print result"
   ]
  },
  {
   "cell_type": "code",
   "execution_count": 5,
   "metadata": {},
   "outputs": [],
   "source": [
    "# while (len(result) > 0):\n",
    "#     print(result)\n",
    "#     result = s.recv(4096)"
   ]
  },
  {
   "cell_type": "code",
   "execution_count": 11,
   "metadata": {},
   "outputs": [
    {
     "name": "stdout",
     "output_type": "stream",
     "text": [
      "check\n",
      "('Port', 10, 'is close')\n",
      "('Port', 11, 'is close')\n",
      "('Port', 12, 'is close')\n",
      "('Port', 13, 'is close')\n",
      "('Port', 14, 'is close')\n",
      "('Port', 15, 'is close')\n",
      "('Port', 16, 'is close')\n",
      "('Port', 17, 'is close')\n",
      "('Port', 18, 'is close')\n",
      "('Port', 19, 'is close')\n",
      "('Port', 20, 'is close')\n",
      "('Port', 21, 'is close')\n",
      "('Port', 22, 'is open !!!!')\n",
      "('Port', 23, 'is close')\n",
      "('Port', 24, 'is close')\n",
      "('Port', 25, 'is close')\n",
      "('Port', 26, 'is close')\n",
      "('Port', 27, 'is close')\n",
      "('Port', 28, 'is close')\n",
      "('Port', 29, 'is close')\n",
      "('Port', 30, 'is close')\n",
      "('Port', 31, 'is close')\n",
      "('Port', 32, 'is close')\n",
      "('Port', 33, 'is close')\n",
      "('Port', 34, 'is close')\n",
      "('Port', 35, 'is close')\n",
      "('Port', 36, 'is close')\n",
      "('Port', 37, 'is close')\n",
      "('Port', 38, 'is close')\n",
      "('Port', 39, 'is close')\n",
      "('Port', 40, 'is close')\n",
      "('Port', 41, 'is close')\n",
      "('Port', 42, 'is close')\n",
      "('Port', 43, 'is close')\n",
      "('Port', 44, 'is close')\n",
      "('Port', 45, 'is close')\n",
      "('Port', 46, 'is close')\n",
      "('Port', 47, 'is close')\n",
      "('Port', 48, 'is close')\n",
      "('Port', 49, 'is close')\n",
      "('Port', 50, 'is close')\n",
      "('Port', 51, 'is close')\n",
      "('Port', 52, 'is close')\n",
      "('Port', 53, 'is close')\n",
      "('Port', 54, 'is close')\n",
      "('Port', 55, 'is close')\n",
      "('Port', 56, 'is close')\n",
      "('Port', 57, 'is close')\n",
      "('Port', 58, 'is close')\n",
      "('Port', 59, 'is close')\n",
      "('Port', 60, 'is close')\n",
      "('Port', 61, 'is close')\n",
      "('Port', 62, 'is close')\n",
      "('Port', 63, 'is close')\n",
      "('Port', 64, 'is close')\n",
      "('Port', 65, 'is close')\n",
      "('Port', 66, 'is close')\n",
      "('Port', 67, 'is close')\n",
      "('Port', 68, 'is close')\n",
      "('Port', 69, 'is close')\n",
      "('Port', 70, 'is close')\n",
      "('Port', 71, 'is close')\n",
      "('Port', 72, 'is close')\n",
      "('Port', 73, 'is close')\n",
      "('Port', 74, 'is close')\n",
      "('Port', 75, 'is close')\n",
      "('Port', 76, 'is close')\n",
      "('Port', 77, 'is close')\n",
      "('Port', 78, 'is close')\n",
      "('Port', 79, 'is close')\n",
      "('Port', 80, 'is close')\n",
      "('Port', 81, 'is close')\n",
      "('Port', 82, 'is close')\n",
      "('Port', 83, 'is close')\n",
      "('Port', 84, 'is close')\n",
      "('Port', 85, 'is close')\n",
      "('Port', 86, 'is close')\n",
      "('Port', 87, 'is close')\n",
      "('Port', 88, 'is close')\n",
      "('Port', 89, 'is close')\n",
      "('Port', 90, 'is close')\n",
      "('Port', 91, 'is close')\n",
      "('Port', 92, 'is close')\n",
      "('Port', 93, 'is close')\n",
      "('Port', 94, 'is close')\n",
      "('Port', 95, 'is close')\n",
      "('Port', 96, 'is close')\n",
      "('Port', 97, 'is close')\n",
      "('Port', 98, 'is close')\n",
      "('Port', 99, 'is close')\n"
     ]
    }
   ],
   "source": [
    "import socket\n",
    "s = socket.socket(\n",
    "    socket.AF_INET, socket.SOCK_STREAM)\n",
    "#server = 'www.google.co.th'\n",
    "server = 'localhost'\n",
    "print ('check')\n",
    "def pscan(port):\n",
    "    try:\n",
    "        s.connect((server,port))\n",
    "        return True\n",
    "    except:\n",
    "        return False\n",
    "\n",
    "for x in range(10,100):\n",
    "    if pscan(x):\n",
    "        print('Port',x,'is open !!!!')\n",
    "    else:\n",
    "        print('Port',x,'is close')\n",
    "       "
   ]
  },
  {
   "cell_type": "code",
   "execution_count": null,
   "metadata": {},
   "outputs": [],
   "source": []
  }
 ],
 "metadata": {
  "kernelspec": {
   "display_name": "Python 2",
   "language": "python",
   "name": "python2"
  },
  "language_info": {
   "codemirror_mode": {
    "name": "ipython",
    "version": 2
   },
   "file_extension": ".py",
   "mimetype": "text/x-python",
   "name": "python",
   "nbconvert_exporter": "python",
   "pygments_lexer": "ipython2",
   "version": "2.7.6"
  }
 },
 "nbformat": 4,
 "nbformat_minor": 1
}

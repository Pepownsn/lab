{
 "cells": [
  {
   "cell_type": "markdown",
   "metadata": {},
   "source": [
    "#### \"\" IMPORT DATA TO MYSQL \"\""
   ]
  },
  {
   "cell_type": "code",
   "execution_count": null,
   "metadata": {},
   "outputs": [],
   "source": [
    "import pandas as pd\n",
    "import MySQLdb\n",
    "import numpy as np\n",
    "import time\n",
    "import sys\n",
    "import datetime \n",
    "from datetime import datetime\n",
    "from sympy import *\n",
    "from sympy.solvers import solve\n",
    "from sympy.parsing.sympy_parser import parse_expr"
   ]
  },
  {
   "cell_type": "code",
   "execution_count": null,
   "metadata": {},
   "outputs": [],
   "source": [
    "from datetime import datetime\n",
    "\n",
    "watt = open(\"power.txt\").read().split('\\n' )\n",
    "rows = len(watt)\n",
    "# time_a = pd.date_range('16/12/2006 17:24:00', periods=rows, freq='1T')\n",
    "conn= MySQLdb.connect(\"localhost\",\"conn\",\"hems\")\n",
    "c = conn.cursor()\n",
    "query_empty = \"\"\"truncate table prediction.data\"\"\" \n",
    "c.execute(query_empty)\n",
    "print \"prediction.data are Empty!!! \\n\"\n",
    "\n",
    "i = 0\n",
    "while (i<=rows):\n",
    "    watt_spit = watt[i].split(';')\n",
    "    print watt_spit\n",
    "    ans =  \"%s %s\"% (watt_spit[0] ,watt_spit[1])\n",
    "    dt_obj = datetime.strptime(ans, '%d/%m/%Y %H:%M:%S')\n",
    "    if  watt_spit[2] == '?':\n",
    "        watt_spit[2] = float(0)\n",
    "        \n",
    "    if watt_spit[6] == '?':\n",
    "        watt_spit[6] = float(0)\n",
    "        \n",
    "    if watt_spit[7] == '?':\n",
    "        watt_spit[7] = float(0)\n",
    "        \n",
    "    if watt_spit[8] == '?' or  watt_spit[8] == '\\r':\n",
    "        watt_spit[8] = float(0)  \n",
    " \n",
    "        \n",
    "    c.execute(\"INSERT INTO prediction.data(Timestamp,Global_active_power,active_power,Sub_metering_1,Sub_metering_2,Sub_metering_3,Sub_metering_4) VALUES ( %s, %s, %s, %s, %s, %s, %s)\",\n",
    "              (dt_obj,watt_spit[2],(float(watt_spit[2])*1000/60),watt_spit[6],watt_spit[7],watt_spit[8],((float(watt_spit[2])*1000/60)-(float(watt_spit[6])+float(watt_spit[7])+float(watt_spit[8])))))\n",
    "    conn.commit()\n",
    "    i += 1"
   ]
  },
  {
   "cell_type": "code",
   "execution_count": null,
   "metadata": {},
   "outputs": [],
   "source": [
    "watt_spit[2] == '?'"
   ]
  }
 ],
 "metadata": {
  "kernelspec": {
   "display_name": "Python 2",
   "language": "python",
   "name": "python2"
  },
  "language_info": {
   "codemirror_mode": {
    "name": "ipython",
    "version": 2
   },
   "file_extension": ".py",
   "mimetype": "text/x-python",
   "name": "python",
   "nbconvert_exporter": "python",
   "pygments_lexer": "ipython2",
   "version": "2.7.6"
  }
 },
 "nbformat": 4,
 "nbformat_minor": 1
}

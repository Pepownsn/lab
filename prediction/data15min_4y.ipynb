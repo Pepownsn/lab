{
 "cells": [
  {
   "cell_type": "markdown",
   "metadata": {},
   "source": [
    "#### \"\" IMPORT DATA TO MYSQL >> 15 min * ALL YEAR\"\""
   ]
  },
  {
   "cell_type": "code",
   "execution_count": 3,
   "metadata": {},
   "outputs": [],
   "source": [
    "import pandas as pd\n",
    "import MySQLdb\n",
    "import numpy as np\n",
    "import time\n",
    "import sys\n",
    "import datetime \n",
    "from datetime import datetime\n",
    "from sympy import *\n",
    "from sympy.solvers import solve\n",
    "from sympy.parsing.sympy_parser import parse_expr"
   ]
  },
  {
   "cell_type": "code",
   "execution_count": 4,
   "metadata": {},
   "outputs": [
    {
     "name": "stdout",
     "output_type": "stream",
     "text": [
      "prediction.data15min_4y  are Empty!!! \n",
      "\n",
      ".DONE!\n"
     ]
    }
   ],
   "source": [
    "conn= MySQLdb.connect(\"localhost\",\"conn\",\"hems\")\n",
    "c = conn.cursor()\n",
    "\n",
    "query_empty = \"\"\"truncate table prediction.data15min_4y \"\"\" \n",
    "c.execute(query_empty)\n",
    "print \"prediction.data15min_4y  are Empty!!! \\n\"\n",
    "\n",
    "j = 0\n",
    "sum_p = 0\n",
    "sum_meter1 = 0\n",
    "sum_meter2 = 0\n",
    "sum_meter3 = 0\n",
    "sum_meter4 = 0\n",
    "d = 1425   #2007-01-01  to 2010-11-26\n",
    "\n",
    "time_a = pd.date_range('2007-01-01 00:00:00', periods=96*d, freq='15T')\n",
    "time_b = pd.date_range('2007-01-01 00:14:59', periods=96*d, freq='15T')\n",
    "\n",
    "while (j<= (96*d)-1):\n",
    "    query = \"SELECT * FROM prediction.data1min WHERE Timestamp >= '%s'   AND  Timestamp <= '%s'; \" % (time_a[j],time_b[j])\n",
    "    df = pd.read_sql(query, conn)\n",
    "#     print len(df.active_power)\n",
    "    if len(df.active_power) == 0 :\n",
    "        min_p = 0\n",
    "    else :\n",
    "        for i in range(len(df.active_power)):\n",
    "            sum_p += df.active_power[i]   \n",
    "            sum_meter1  += df.Sub_metering_1[i]\n",
    "            sum_meter2  += df.Sub_metering_2[i]\n",
    "            sum_meter3  += df.Sub_metering_3[i]\n",
    "            sum_meter4  += df.Sub_metering_4[i]\n",
    "    c.execute(\"INSERT INTO prediction.data15min_4y (Timestamp, active_power,Sub_metering_1,Sub_metering_2,Sub_metering_3,Sub_metering_4) VALUES ( %s, %s, %s, %s, %s, %s)\",(time_b[j],sum_p,sum_meter1 ,sum_meter2 ,sum_meter3, sum_meter4 ))\n",
    "    conn.commit()\n",
    "    sum_p = 0\n",
    "    sum_meter1  = 0\n",
    "    sum_meter2  = 0\n",
    "    sum_meter3  = 0\n",
    "    sum_meter4  = 0\n",
    "    j += 1\n",
    "      \n",
    "print(\".DONE!\")        \n"
   ]
  },
  {
   "cell_type": "code",
   "execution_count": null,
   "metadata": {},
   "outputs": [],
   "source": []
  }
 ],
 "metadata": {
  "kernelspec": {
   "display_name": "Python 2",
   "language": "python",
   "name": "python2"
  },
  "language_info": {
   "codemirror_mode": {
    "name": "ipython",
    "version": 2
   },
   "file_extension": ".py",
   "mimetype": "text/x-python",
   "name": "python",
   "nbconvert_exporter": "python",
   "pygments_lexer": "ipython2",
   "version": "2.7.6"
  }
 },
 "nbformat": 4,
 "nbformat_minor": 1
}

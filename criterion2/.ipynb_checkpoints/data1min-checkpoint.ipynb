{
 "cells": [
  {
   "cell_type": "markdown",
   "metadata": {},
   "source": [
    "#### \"\" IMPORT DATA TO MYSQL \"\""
   ]
  },
  {
   "cell_type": "code",
   "execution_count": 1,
   "metadata": {},
   "outputs": [],
   "source": [
    "import pandas as pd\n",
    "import MySQLdb\n",
    "import numpy as np\n",
    "import time\n",
    "import sys\n",
    "import datetime \n",
    "\n",
    "from sympy import *\n",
    "from sympy.solvers import solve\n",
    "from sympy.parsing.sympy_parser import parse_expr"
   ]
  },
  {
   "cell_type": "code",
   "execution_count": 26,
   "metadata": {},
   "outputs": [
    {
     "name": "stdout",
     "output_type": "stream",
     "text": [
      "prediction.data are Empty!!! \n",
      "\n"
     ]
    },
    {
     "ename": "IndexError",
     "evalue": "list index out of range",
     "output_type": "error",
     "traceback": [
      "\u001b[0;31m\u001b[0m",
      "\u001b[0;31mIndexError\u001b[0mTraceback (most recent call last)",
      "\u001b[0;32m<ipython-input-26-a36ca5c76a28>\u001b[0m in \u001b[0;36m<module>\u001b[0;34m()\u001b[0m\n\u001b[1;32m     13\u001b[0m \u001b[0;32mwhile\u001b[0m \u001b[0;34m(\u001b[0m\u001b[0mi\u001b[0m\u001b[0;34m<=\u001b[0m\u001b[0mrows\u001b[0m\u001b[0;34m)\u001b[0m\u001b[0;34m:\u001b[0m\u001b[0;34m\u001b[0m\u001b[0m\n\u001b[1;32m     14\u001b[0m     \u001b[0mwatt_spit\u001b[0m \u001b[0;34m=\u001b[0m \u001b[0mwatt\u001b[0m\u001b[0;34m[\u001b[0m\u001b[0mi\u001b[0m\u001b[0;34m]\u001b[0m\u001b[0;34m.\u001b[0m\u001b[0msplit\u001b[0m\u001b[0;34m(\u001b[0m\u001b[0;34m';'\u001b[0m\u001b[0;34m)\u001b[0m\u001b[0;34m\u001b[0m\u001b[0m\n\u001b[0;32m---> 15\u001b[0;31m     \u001b[0mans\u001b[0m \u001b[0;34m=\u001b[0m  \u001b[0;34m\"%s %s\"\u001b[0m\u001b[0;34m%\u001b[0m \u001b[0;34m(\u001b[0m\u001b[0mwatt_spit\u001b[0m\u001b[0;34m[\u001b[0m\u001b[0;36m0\u001b[0m\u001b[0;34m]\u001b[0m \u001b[0;34m,\u001b[0m\u001b[0mwatt_spit\u001b[0m\u001b[0;34m[\u001b[0m\u001b[0;36m1\u001b[0m\u001b[0;34m]\u001b[0m\u001b[0;34m)\u001b[0m\u001b[0;34m\u001b[0m\u001b[0m\n\u001b[0m\u001b[1;32m     16\u001b[0m     \u001b[0mdt_obj\u001b[0m \u001b[0;34m=\u001b[0m \u001b[0mdatetime\u001b[0m\u001b[0;34m.\u001b[0m\u001b[0mstrptime\u001b[0m\u001b[0;34m(\u001b[0m\u001b[0mans\u001b[0m\u001b[0;34m,\u001b[0m \u001b[0;34m'%d/%m/%Y %H:%M:%S'\u001b[0m\u001b[0;34m)\u001b[0m\u001b[0;34m\u001b[0m\u001b[0m\n\u001b[1;32m     17\u001b[0m     c.execute(\"INSERT INTO prediction.data(Timestamp,Global_active_power,active_power,Sub_metering_1,Sub_metering_2,Sub_metering_3,Sub_metering_4) VALUES ( %s, %s, %s, %s, %s, %s, %s)\",\n",
      "\u001b[0;31mIndexError\u001b[0m: list index out of range"
     ]
    }
   ],
   "source": [
    "from datetime import datetime\n",
    "\n",
    "watt = open(\"watt.txt\").read().split('\\n' )\n",
    "rows = len(watt)\n",
    "# time_a = pd.date_range('16/12/2006 17:24:00', periods=rows, freq='1T')\n",
    "conn= MySQLdb.connect(\"localhost\",\"conn\",\"hems\")\n",
    "c = conn.cursor()\n",
    "query_empty = \"\"\"truncate table prediction.data\"\"\" \n",
    "c.execute(query_empty)\n",
    "print \"prediction.data are Empty!!! \\n\"\n",
    "\n",
    "i = 0\n",
    "while (i<=rows):\n",
    "    watt_spit = watt[i].split(';')\n",
    "    ans =  \"%s %s\"% (watt_spit[0] ,watt_spit[1])\n",
    "    dt_obj = datetime.strptime(ans, '%d/%m/%Y %H:%M:%S')\n",
    "    c.execute(\"INSERT INTO prediction.data(Timestamp,Global_active_power,active_power,Sub_metering_1,Sub_metering_2,Sub_metering_3,Sub_metering_4) VALUES ( %s, %s, %s, %s, %s, %s, %s)\",\n",
    "              (dt_obj,watt_spit[2],(float(watt_spit[2])*1000/60),watt_spit[6],watt_spit[7],watt_spit[8],((float(watt_spit[2])*1000/60)-(float(watt_spit[6])+float(watt_spit[7])+float(watt_spit[8])))))\n",
    "    conn.commit()\n",
    "    i += 1\n",
    "    \n",
    "\n",
    "        \n"
   ]
  },
  {
   "cell_type": "code",
   "execution_count": null,
   "metadata": {},
   "outputs": [],
   "source": [
    "type(dd)"
   ]
  },
  {
   "cell_type": "code",
   "execution_count": null,
   "metadata": {},
   "outputs": [],
   "source": [
    "from datetime import datetime\n",
    "dt_str = '9/24/2010 5:03:29'\n",
    "dt_obj = datetime.strptime(dt_str, '%m/%d/%Y %I:%M:%S')\n",
    "print type(dt_obj)\n",
    "print dt_obj"
   ]
  },
  {
   "cell_type": "code",
   "execution_count": null,
   "metadata": {},
   "outputs": [],
   "source": [
    "from datetime import datetime\n",
    "import datetime\n",
    "import time\n",
    "import datetime\n",
    "import sys\n",
    "from datetime import datetime\n",
    "\n",
    "watt = open(\"watt.txt\").read().split('\\n' )\n",
    "print watt[1]\n",
    "watt1 = watt[1].split(';')\n",
    "print watt1[0]\n",
    "print watt1[1]\n",
    "\n",
    "dd = datetime.strptime(watt1[0] , '%d/%m/%Y')\n",
    "tt = datetime.strptime(watt1[1] , '%H:%M:%S')\n",
    "dd = dd.strftime('%d-%m-%Y') \n",
    "tt = tt.strftime('%H:%M:%S') \n",
    "ans =  \"%s %s \"% (dd,tt)\n",
    "ans\n",
    "\n",
    "\n",
    "\n",
    "typ"
   ]
  }
 ],
 "metadata": {
  "kernelspec": {
   "display_name": "Python 2",
   "language": "python",
   "name": "python2"
  },
  "language_info": {
   "codemirror_mode": {
    "name": "ipython",
    "version": 2
   },
   "file_extension": ".py",
   "mimetype": "text/x-python",
   "name": "python",
   "nbconvert_exporter": "python",
   "pygments_lexer": "ipython2",
   "version": "2.7.6"
  }
 },
 "nbformat": 4,
 "nbformat_minor": 1
}

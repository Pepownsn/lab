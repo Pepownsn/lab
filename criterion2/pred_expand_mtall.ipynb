{
 "cells": [
  {
   "cell_type": "markdown",
   "metadata": {},
   "source": [
    "## PREDICTION EXPANDING MTALL"
   ]
  },
  {
   "cell_type": "code",
   "execution_count": 1,
   "metadata": {},
   "outputs": [],
   "source": [
    "#http://stackoverflow.com/questions/11845055/predicting-from-previous-datevalue-data\n",
    "import matplotlib.pyplot as plt\n",
    "import pandas as pd # v. 1.7\n",
    "import MySQLdb\n",
    "import matplotlib.pyplot as plt\n",
    "\n",
    "import numpy as np\n",
    "\n",
    "from sklearn.metrics import mean_absolute_error,mean_squared_error\n",
    "import statistics \n",
    "\n",
    "%matplotlib inline "
   ]
  },
  {
   "cell_type": "code",
   "execution_count": 2,
   "metadata": {},
   "outputs": [
    {
     "name": "stdout",
     "output_type": "stream",
     "text": [
      "prediction.pred_expand_mtall are Empty!!! \n",
      "\n",
      "!!!!!!!!!  DONE  !!!!!!!!!!!\n"
     ]
    }
   ],
   "source": [
    "conn= MySQLdb.connect(\"localhost\",\"conn\",\"hems\")\n",
    "c = conn.cursor()\n",
    "\n",
    "query_empty = \"\"\"truncate table prediction.pred_expand_mtall\"\"\" \n",
    "c.execute(query_empty)\n",
    "print \"prediction.pred_expand_mtall are Empty!!! \\n\"\n",
    "\n",
    "d = 90\n",
    "time_a = pd.date_range('2007-01-15 00:14:59', periods=(96*d)+1, freq='15T')\n",
    "\n",
    "query = \"SELECT * FROM prediction.pred_expand_mt1 WHERE Timestamp >= '%s'   AND TimeStamp <= '%s';\"% (\"2007-01-15 00:14:59\",\"2007-04-14 23:59:59\")\n",
    "df = pd.read_sql(query, conn , index_col=['Timestamp'])\n",
    "\n",
    "query1 = \"SELECT * FROM prediction.pred_expand_mt2 WHERE Timestamp >= '%s'   AND TimeStamp <= '%s';\"% (\"2007-01-15 00:14:59\",\"2007-04-14 23:59:59\")\n",
    "df1 = pd.read_sql(query1, conn , index_col=['Timestamp'])\n",
    "\n",
    "query2 = \"SELECT * FROM prediction.pred_expand_mt3 WHERE Timestamp >= '%s'   AND TimeStamp <= '%s';\"% (\"2007-01-15 00:14:59\",\"2007-04-14 23:59:59\")\n",
    "df2 = pd.read_sql(query2, conn , index_col=['Timestamp'])\n",
    "\n",
    "query3 = \"SELECT * FROM prediction.pred_expand_mt4 WHERE Timestamp >= '%s'   AND TimeStamp <= '%s';\"% (\"2007-01-15 00:14:59\",\"2007-04-14 23:59:59\")\n",
    "df3 = pd.read_sql(query3, conn , index_col=['Timestamp'])\n",
    "\n",
    "i = 0\n",
    "while (i<= len(df)-1):\n",
    "    sumsub = df.watt_sub1[i]+df1.watt_sub2[i]+df2.watt_sub3[i]+df3.watt_sub4[i]\n",
    "    c.execute(\"INSERT INTO prediction.pred_expand_mtall (Timestamp, watt_sub1,watt_sub2,watt_sub3,watt_sub4,watt_sumsub) VALUES ( %s, %s, %s, %s, %s, %s)\",(time_a[i],df.watt_sub1[i],df1.watt_sub2[i] ,df2.watt_sub3[i] ,df3.watt_sub4[i], sumsub ))\n",
    "    conn.commit()\n",
    "    i+=1\n",
    "           \n",
    "print \"!!!!!!!!!  DONE  !!!!!!!!!!!\""
   ]
  },
  {
   "cell_type": "code",
   "execution_count": null,
   "metadata": {},
   "outputs": [],
   "source": []
  }
 ],
 "metadata": {
  "kernelspec": {
   "display_name": "Python 2",
   "language": "python",
   "name": "python2"
  },
  "language_info": {
   "codemirror_mode": {
    "name": "ipython",
    "version": 2
   },
   "file_extension": ".py",
   "mimetype": "text/x-python",
   "name": "python",
   "nbconvert_exporter": "python",
   "pygments_lexer": "ipython2",
   "version": "2.7.6"
  }
 },
 "nbformat": 4,
 "nbformat_minor": 1
}

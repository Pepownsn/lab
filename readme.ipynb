{
 "cells": [
  {
   "cell_type": "markdown",
   "metadata": {},
   "source": [
    "# Readme\n",
    "#### phpmyadmin **ONLY HEMs**\n",
    "- http://52.220.52.25/phpmyadmin/\n",
    "- User : conn\n",
    "- Pass : hems\n",
    "\n",
    "#### phpmyadmin\n",
    "- http://52.220.52.25:580/phpmyadmin/\n",
    "- User : conn\n",
    "- Pass : hems\n",
    "\n",
    "#### Jupyter Lab\n",
    "- http://52.220.52.25:588/lab\n",
    "- Pass : hems\n",
    "- pwd : /root/\n",
    "\n",
    "#### MySQL(command line(terminal) )\n",
    "- IP : 52.220.52.25\n",
    "- Port : 506\n",
    "- User : conn\n",
    "- Pass : hems  \n",
    "- cmd : **mysql -u conn -p -h 52.220.52.25 --port 506**  (ตัวนี้ใช้สำหรับ REMOTE ตั้งแต่หน้าคอมเข้า server)\n",
    "- cmd : **mysql -u conn -p**  (ถ้าอยู่ในหน้าประตู server เจอคำว่า root@886...... หมายความอยู่ในเครื่องแล้ว ใช้คำสั่งนี้เข้าไปใน database ได้เลย)\n",
    "\n",
    "\n",
    "#### SSH (putty) window  (การ remote เข้า server ผ่านทาง window)\n",
    "- IP : 52.220.52.25 \n",
    "- Port : 522\n",
    "- User : root\n",
    "- Pass : root\n",
    "\n",
    "#### SSH (terminal VM) in VM   (การ remote เข้า server ผ่านทาง VM)\n",
    "- ssh root@52.220.52.25 -p 522\n",
    "- Pass : root\n",
    "- ตอบ yes เต็มๆ \n",
    "- วิธีออกพิมพ์ exit เต็มๆ\n",
    "\n"
   ]
  },
  {
   "cell_type": "code",
   "execution_count": null,
   "metadata": {},
   "outputs": [],
   "source": []
  }
 ],
 "metadata": {
  "kernelspec": {
   "display_name": "Python 2",
   "language": "python",
   "name": "python2"
  },
  "language_info": {
   "codemirror_mode": {
    "name": "ipython",
    "version": 2
   },
   "file_extension": ".py",
   "mimetype": "text/x-python",
   "name": "python",
   "nbconvert_exporter": "python",
   "pygments_lexer": "ipython2",
   "version": "2.7.6"
  }
 },
 "nbformat": 4,
 "nbformat_minor": 1
}

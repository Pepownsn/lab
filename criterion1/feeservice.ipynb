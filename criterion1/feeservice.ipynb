{
 "cells": [
  {
   "cell_type": "code",
   "execution_count": 15,
   "metadata": {},
   "outputs": [
    {
     "data": {
      "text/plain": [
       "823.59"
      ]
     },
     "execution_count": 15,
     "metadata": {},
     "output_type": "execute_result"
    }
   ],
   "source": [
    "\"\"\"\n",
    "ค่าไฟฟ้ารายเดือน \n",
    "\"\"\"\n",
    "\n",
    "import pandas as pd\n",
    "import matplotlib.pyplot as plt\n",
    "import MySQLdb\n",
    "import time\n",
    "\n",
    "from sympy import *\n",
    "from sympy.solvers import solve\n",
    "from sympy.parsing.sympy_parser import parse_expr\n",
    "\n",
    "\n",
    "\n",
    "dict = {'January': 31, 'February': 28, 'March': 31 ,\n",
    "        'April': 30 ,'May': 31 ,'June': 30,\n",
    "        'July': 31,'August': 31 ,'September': 30 ,\n",
    "        'October': 31 ,'November': 30 , 'December': 31}   \n",
    "turn = dict[time.strftime('%B')]\n",
    "# print turn\n",
    "\n",
    "x = raw_input('What about Ft?')\n",
    "Ft = float(x)\n",
    "t1 = 3.2484\n",
    "t2 = 4.2218\n",
    "t3 = 4.4217\n",
    "ser = 38.22\n",
    "u = symbols('u')\n",
    "\n",
    "\n",
    "def bill(allpow):    \n",
    "    ## Fundamental parameter\n",
    "    if allpow == 0:\n",
    "        bath = 0\n",
    "    elif 1 <= allpow <= 150:\n",
    "        bath = allpow*t1\n",
    "    elif  151 <= allpow <= 400:\n",
    "        power = allpow-150\n",
    "        bath_1 = 150*t1\n",
    "        bath_2 = power*t2\n",
    "        bath = bath_1+bath_2\n",
    "    else:\n",
    "        power = allpow-150\n",
    "        bath_1 = 150*t1\n",
    "        power = power-250\n",
    "        bath_2 = 250*t2\n",
    "        bath_3 = power*t3\n",
    "        bath = bath_1+bath_2+bath_3   \n",
    "    service_price = 38.22  #permonth (fixed)\n",
    "   \n",
    "    ## FT -33.2 satang/unit\n",
    "    FT_price = allpow*Ft\n",
    "\n",
    "    ## VAT 7%\n",
    "    VAT_price = ((service_price+bath)+FT_price)*0.07\n",
    "\n",
    "    bill = bath+service_price+FT_price+VAT_price\n",
    "\n",
    "    return round(bill,2)\n",
    "\n",
    "       \n",
    "\n",
    "def inbill(bath):\n",
    "    test_1 = solve(Eq((u*t1)+ser+(u*Ft)+(0.07*((u*t1)+ser))+(0.07*(u*Ft)),bath))\n",
    "#     print test_1\n",
    "    test_2 = solve(Eq((150*t1)+((u-150)*t2)+ser+(u*Ft)+(0.07*((150*t1)+((u-150)*t2)+ser))+(0.07*(u*Ft)),bath))\n",
    "#     print test_2\n",
    "    test_3 = solve(Eq((150*t1)+(250*t2)+((u-400)*t3)+ser+(u*Ft)+(0.07*((150*t1)+(250*t2)+((u-400)*t3)+ser))+(0.07*(u*Ft)),bath))\n",
    "#     print test_3\n",
    "\n",
    "    if 1 <=  test_1[0] <= 150:\n",
    "        unit = test_1[0]\n",
    "    elif 151 <=  test_2[0] <=  400:\n",
    "        unit = test_2[0]\n",
    "    else:\n",
    "        unit = test_3[0]\n",
    "    print \"all unit of this month equal to\",round(unit),\"KW/Hr\"\n",
    "    return\n",
    "    \n",
    "  \n",
    "\n",
    "bill(210.2412)\n",
    "\n"
   ]
  },
  {
   "cell_type": "code",
   "execution_count": 1,
   "metadata": {},
   "outputs": [
    {
     "ename": "SyntaxError",
     "evalue": "'return' outside function (<ipython-input-1-02d36a93f65a>, line 33)",
     "output_type": "error",
     "traceback": [
      "\u001b[0;36m  File \u001b[0;32m\"<ipython-input-1-02d36a93f65a>\"\u001b[0;36m, line \u001b[0;32m33\u001b[0m\n\u001b[0;31m    return bill\u001b[0m\n\u001b[0;31mSyntaxError\u001b[0m\u001b[0;31m:\u001b[0m 'return' outside function\n"
     ]
    }
   ],
   "source": [
    "###### TEST #################\n",
    "...\n",
    "\n",
    "...\n",
    "\n",
    "FT = -0.0480 \n",
    "allpow = 150\n",
    "## primary \n",
    "if 1 <= allpow <= 150:\n",
    "    bath = allpow*3.2484\n",
    "elif  151 <= allpow <= 400:\n",
    "    power = allpow-150\n",
    "    bath_1 = 150*3.2484\n",
    "    bath_2 = power*4.2218\n",
    "    bath = bath_1+bath_2\n",
    "else:\n",
    "    power = allpow-150\n",
    "    bath_1 = 150*3.2484\n",
    "    power = power-250\n",
    "    bath_2 = 250*4.2218\n",
    "    bath_3 = power*4.4217\n",
    "    bath = bath_1+bath_2+bath_3   \n",
    "service_price = 38.22  #permonth (fixed)\n",
    "\n",
    "## FT -33.2 satang/unit\n",
    "FT_price = allpow*FT\n",
    "\n",
    "## VAT 7%\n",
    "VAT_price = ((service_price+bath)+FT_price)*0.07\n",
    "\n",
    "bill = bath+service_price+FT_price+VAT_price\n",
    "\n",
    "return bill \n",
    "\n",
    "   "
   ]
  },
  {
   "cell_type": "code",
   "execution_count": null,
   "metadata": {},
   "outputs": [],
   "source": [
    "###### TEST #################\n",
    "...\n",
    "\n",
    "...\n",
    "\n",
    "Ft = -0.3329\n",
    "t1 = 3.2484\n",
    "t2 = 4.2218\n",
    "t3 = 4.4217\n",
    "ser = 38.22\n",
    "u = symbols('u')\n",
    "bath = 1507.50\n",
    "\n",
    "test_1 = solve(Eq((u*t1)+ser+(u*Ft)+(0.07*((u*t1)+ser))+(0.07*(u*Ft)),bath))\n",
    "print test_1\n",
    "test_2 = solve(Eq((150*t1)+((u-150)*t2)+ser+(u*Ft)+(0.07*((150*t1)+((u-150)*t2)+ser))+(0.07*(u*Ft)),bath))\n",
    "print test_2\n",
    "test_3 = solve(Eq((150*t1)+(250*t2)+((u-400)*t3)+ser+(u*Ft)+(0.07*((150*t1)+(250*t2)+((u-400)*t3)+ser))+(0.07*(u*Ft)),bath))\n",
    "print test_3\n",
    "\n",
    "if 1 <=  test_1[0] <= 150:\n",
    "    unit = test_1[0]\n",
    "elif (151 <=  test_2[0] <=  400):\n",
    "    unit = test_2[0]\n",
    "else:\n",
    "    unit = test_3[0]\n",
    "print \"all unit of this month equal to\",round(unit),\"KW/Hr\"\n"
   ]
  },
  {
   "cell_type": "code",
   "execution_count": 1,
   "metadata": {},
   "outputs": [
    {
     "ename": "NameError",
     "evalue": "name 'invbill' is not defined",
     "output_type": "error",
     "traceback": [
      "\u001b[0;31m\u001b[0m",
      "\u001b[0;31mNameError\u001b[0mTraceback (most recent call last)",
      "\u001b[0;32m<ipython-input-1-f670c73dbc09>\u001b[0m in \u001b[0;36m<module>\u001b[0;34m()\u001b[0m\n\u001b[0;32m----> 1\u001b[0;31m \u001b[0minvbill\u001b[0m\u001b[0;34m(\u001b[0m\u001b[0;36m390\u001b[0m\u001b[0;34m)\u001b[0m\u001b[0;34m\u001b[0m\u001b[0m\n\u001b[0m\u001b[1;32m      2\u001b[0m \u001b[0;32mdef\u001b[0m \u001b[0minvbill\u001b[0m\u001b[0;34m(\u001b[0m\u001b[0mbath\u001b[0m\u001b[0;34m)\u001b[0m\u001b[0;34m:\u001b[0m\u001b[0;34m\u001b[0m\u001b[0m\n\u001b[1;32m      3\u001b[0m     \u001b[0mtest_1\u001b[0m \u001b[0;34m=\u001b[0m \u001b[0msolve\u001b[0m\u001b[0;34m(\u001b[0m\u001b[0mEq\u001b[0m\u001b[0;34m(\u001b[0m\u001b[0;34m(\u001b[0m\u001b[0mu\u001b[0m\u001b[0;34m*\u001b[0m\u001b[0mt1\u001b[0m\u001b[0;34m)\u001b[0m\u001b[0;34m+\u001b[0m\u001b[0mser\u001b[0m\u001b[0;34m+\u001b[0m\u001b[0;34m(\u001b[0m\u001b[0mu\u001b[0m\u001b[0;34m*\u001b[0m\u001b[0mFt\u001b[0m\u001b[0;34m)\u001b[0m\u001b[0;34m+\u001b[0m\u001b[0;34m(\u001b[0m\u001b[0;36m0.07\u001b[0m\u001b[0;34m*\u001b[0m\u001b[0;34m(\u001b[0m\u001b[0;34m(\u001b[0m\u001b[0mu\u001b[0m\u001b[0;34m*\u001b[0m\u001b[0mt1\u001b[0m\u001b[0;34m)\u001b[0m\u001b[0;34m+\u001b[0m\u001b[0mser\u001b[0m\u001b[0;34m)\u001b[0m\u001b[0;34m)\u001b[0m\u001b[0;34m+\u001b[0m\u001b[0;34m(\u001b[0m\u001b[0;36m0.07\u001b[0m\u001b[0;34m*\u001b[0m\u001b[0;34m(\u001b[0m\u001b[0mu\u001b[0m\u001b[0;34m*\u001b[0m\u001b[0mFt\u001b[0m\u001b[0;34m)\u001b[0m\u001b[0;34m)\u001b[0m\u001b[0;34m,\u001b[0m\u001b[0mbath\u001b[0m\u001b[0;34m)\u001b[0m\u001b[0;34m)\u001b[0m\u001b[0;34m\u001b[0m\u001b[0m\n\u001b[1;32m      4\u001b[0m     \u001b[0;32mprint\u001b[0m \u001b[0mtest_1\u001b[0m\u001b[0;34m\u001b[0m\u001b[0m\n\u001b[1;32m      5\u001b[0m     \u001b[0mtest_2\u001b[0m \u001b[0;34m=\u001b[0m \u001b[0msolve\u001b[0m\u001b[0;34m(\u001b[0m\u001b[0mEq\u001b[0m\u001b[0;34m(\u001b[0m\u001b[0;34m(\u001b[0m\u001b[0;36m150\u001b[0m\u001b[0;34m*\u001b[0m\u001b[0mt1\u001b[0m\u001b[0;34m)\u001b[0m\u001b[0;34m+\u001b[0m\u001b[0;34m(\u001b[0m\u001b[0;34m(\u001b[0m\u001b[0mu\u001b[0m\u001b[0;34m-\u001b[0m\u001b[0;36m150\u001b[0m\u001b[0;34m)\u001b[0m\u001b[0;34m*\u001b[0m\u001b[0mt2\u001b[0m\u001b[0;34m)\u001b[0m\u001b[0;34m+\u001b[0m\u001b[0mser\u001b[0m\u001b[0;34m+\u001b[0m\u001b[0;34m(\u001b[0m\u001b[0mu\u001b[0m\u001b[0;34m*\u001b[0m\u001b[0mFt\u001b[0m\u001b[0;34m)\u001b[0m\u001b[0;34m+\u001b[0m\u001b[0;34m(\u001b[0m\u001b[0;36m0.07\u001b[0m\u001b[0;34m*\u001b[0m\u001b[0;34m(\u001b[0m\u001b[0;34m(\u001b[0m\u001b[0;36m150\u001b[0m\u001b[0;34m*\u001b[0m\u001b[0mt1\u001b[0m\u001b[0;34m)\u001b[0m\u001b[0;34m+\u001b[0m\u001b[0;34m(\u001b[0m\u001b[0;34m(\u001b[0m\u001b[0mu\u001b[0m\u001b[0;34m-\u001b[0m\u001b[0;36m150\u001b[0m\u001b[0;34m)\u001b[0m\u001b[0;34m*\u001b[0m\u001b[0mt2\u001b[0m\u001b[0;34m)\u001b[0m\u001b[0;34m+\u001b[0m\u001b[0mser\u001b[0m\u001b[0;34m)\u001b[0m\u001b[0;34m)\u001b[0m\u001b[0;34m+\u001b[0m\u001b[0;34m(\u001b[0m\u001b[0;36m0.07\u001b[0m\u001b[0;34m*\u001b[0m\u001b[0;34m(\u001b[0m\u001b[0mu\u001b[0m\u001b[0;34m*\u001b[0m\u001b[0mFt\u001b[0m\u001b[0;34m)\u001b[0m\u001b[0;34m)\u001b[0m\u001b[0;34m,\u001b[0m\u001b[0mbath\u001b[0m\u001b[0;34m)\u001b[0m\u001b[0;34m)\u001b[0m\u001b[0;34m\u001b[0m\u001b[0m\n",
      "\u001b[0;31mNameError\u001b[0m: name 'invbill' is not defined"
     ]
    }
   ],
   "source": [
    "def invbill(bath):\n",
    "    test_1 = solve(Eq((u*t1)+ser+(u*Ft)+(0.07*((u*t1)+ser))+(0.07*(u*Ft)),bath))\n",
    "    print test_1\n",
    "    test_2 = solve(Eq((150*t1)+((u-150)*t2)+ser+(u*Ft)+(0.07*((150*t1)+((u-150)*t2)+ser))+(0.07*(u*Ft)),bath))\n",
    "    print test_2\n",
    "    test_3 = solve(Eq((150*t1)+(250*t2)+((u-400)*t3)+ser+(u*Ft)+(0.07*((150*t1)+(250*t2)+((u-400)*t3)+ser))+(0.07*(u*Ft)),bath))\n",
    "    print test_3\n",
    "\n",
    "    if 1 <=  test_1[0] <= 150:\n",
    "        unit = test_1[0]\n",
    "    elif (151 <=  test_2[0] <=  400):\n",
    "        unit = test_2[0]\n",
    "    else:\n",
    "        unit = test_3[0]\n",
    "    print \"all unit of this month equal to\",round(unit),\"KW/Hr\"\n",
    "    return"
   ]
  },
  {
   "cell_type": "code",
   "execution_count": 15,
   "metadata": {},
   "outputs": [
    {
     "data": {
      "text/plain": [
       "True"
      ]
     },
     "execution_count": 15,
     "metadata": {},
     "output_type": "execute_result"
    }
   ],
   "source": [
    "1 <= 150 <= 150\n",
    "\n",
    "\n",
    "\n"
   ]
  }
 ],
 "metadata": {
  "kernelspec": {
   "display_name": "Python 2",
   "language": "python",
   "name": "python2"
  },
  "language_info": {
   "codemirror_mode": {
    "name": "ipython",
    "version": 2
   },
   "file_extension": ".py",
   "mimetype": "text/x-python",
   "name": "python",
   "nbconvert_exporter": "python",
   "pygments_lexer": "ipython2",
   "version": "2.7.6"
  }
 },
 "nbformat": 4,
 "nbformat_minor": 1
}

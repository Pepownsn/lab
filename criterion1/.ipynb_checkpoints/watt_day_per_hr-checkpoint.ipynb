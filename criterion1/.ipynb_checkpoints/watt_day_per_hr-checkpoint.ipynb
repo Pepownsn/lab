{
 "cells": [
  {
   "cell_type": "code",
   "execution_count": 1,
   "metadata": {},
   "outputs": [
    {
     "name": "stdout",
     "output_type": "stream",
     "text": [
      "2016-09-01 00:00:00 --> 1649.69491525  W/Hr. 1.64969491525  KW/day.\n",
      "2016-09-01 01:00:00 --> 1470.50847458  W/Hr. 3.12020338983  KW/day.\n",
      "2016-09-01 02:00:00 --> 1349.38983051  W/Hr. 4.46959322034  KW/day.\n",
      "2016-09-01 03:00:00 --> 1324.06779661  W/Hr. 5.79366101695  KW/day.\n",
      "2016-09-01 04:00:00 --> 1268.42553191  W/Hr. 7.06208654886  KW/day.\n",
      "2016-09-01 05:00:00 --> 1283.49152542  W/Hr. 8.34557807429  KW/day.\n",
      "2016-09-01 06:00:00 --> 1427.89830508  W/Hr. 9.77347637937  KW/day.\n",
      "2016-09-01 07:00:00 --> 1991.38723404  W/Hr. 11.7648636134  KW/day.\n",
      "2016-09-01 08:00:00 --> 921.86440678  W/Hr. 12.6867280202  KW/day.\n",
      "2016-09-01 09:00:00 --> 853.93220339  W/Hr. 13.5406602236  KW/day.\n",
      "2016-09-01 10:00:00 --> 729.804255319  W/Hr. 14.2704644789  KW/day.\n",
      "2016-09-01 11:00:00 --> 443.694915254  W/Hr. 14.7141593942  KW/day.\n",
      "2016-09-01 12:00:00 --> 389.796610169  W/Hr. 15.1039560043  KW/day.\n",
      "2016-09-01 13:00:00 --> 476.542372881  W/Hr. 15.5804983772  KW/day.\n",
      "2016-09-01 14:00:00 --> 464.170212766  W/Hr. 16.04466859  KW/day.\n",
      "2016-09-01 15:00:00 --> 553.423728814  W/Hr. 16.5980923188  KW/day.\n",
      "2016-09-01 16:00:00 --> 567.86440678  W/Hr. 17.1659567256  KW/day.\n",
      "2016-09-01 17:00:00 --> 862.677966102  W/Hr. 18.0286346917  KW/day.\n",
      "2016-09-01 18:00:00 --> 1811.74468085  W/Hr. 19.8403793725  KW/day.\n",
      "2016-09-01 19:00:00 --> 1900.27118644  W/Hr. 21.740650559  KW/day.\n",
      "2016-09-01 20:00:00 --> 1939.48717949  W/Hr. 23.6801377384  KW/day.\n",
      "2016-09-01 21:00:00 --> 1662.66666667  W/Hr. 25.3428044051  KW/day.\n",
      "2016-09-01 22:00:00 --> 1712.03389831  W/Hr. 27.0548383034  KW/day.\n",
      "2016-09-01 23:00:00 --> 1939.2  W/Hr. 28.9940383034  KW/day.\n",
      ".DONE!\n"
     ]
    }
   ],
   "source": [
    "import pandas as pd\n",
    "import MySQLdb\n",
    "import numpy as np\n",
    "import time\n",
    "import sys\n",
    "import datetime \n",
    "\n",
    "\n",
    "min_p = 0\n",
    "j = 0\n",
    "d = 1 #Day\n",
    "all_p= 0\n",
    "\n",
    "# Print iterations progress\n",
    "# ราย15 วินาทีเป็น 15นาที แสดงว่ามีข้อมูล 96 ค่าข้อมูลต่อหนึ่งวัน ดังนั้นถ้าต้องการข้อมูลในรายชม.ในหนึ่งวัน จะต้องได้ 24ชั่วโมง = 24 ค่าข้อมูล \n",
    "time_a = pd.date_range('2016-09-01', periods=24*d, freq='60T')\n",
    "time_b = pd.date_range('2016-09-01 00:59:59', periods=24*d, freq='60T')\n",
    "\n",
    "\n",
    "conn= MySQLdb.connect(\"localhost\",\"conn\",\"hems\",\"power\")\n",
    "c = conn.cursor()\n",
    "\n",
    "####### set databases to empty #########\n",
    "# query_empty = \"\"\"truncate table watt.watt_day_gethr\"\"\" \n",
    "# c.execute(query_empty)\n",
    "# print \"watt.watt_day_gethr are Empty!!! \\n\"\n",
    "# print \"Progress:\",\n",
    "\n",
    "while (j <= (24*d)-1) :\n",
    "    query = \"SELECT Timestamp,s11 FROM power.enegate_bkk WHERE Timestamp >= '%s'   AND TimeStamp <= '%s'; \"% (time_a[j],time_b[j])\n",
    "    df = pd.read_sql(query, conn)\n",
    "    \n",
    "#     df.cTime =  pd.Series(pd.to_datetime(df.Timestamp))    #เปลี่ยน Timestamp ใน pd เป็นรูปแบบของ datetime ที่สามารถนำมาใช้ต่อได้\n",
    "    df['s11'] = df['s11'].astype(float)\n",
    "#     print len(df)\n",
    "    \n",
    "    if len(df) == 0 :\n",
    "        min_p = 0\n",
    "    else :\n",
    "        for i in range(len(df)):\n",
    "            min_p += df.s11[i] \n",
    "        min_p = min_p/len(df)     \n",
    "    all_p += min_p\n",
    "        #df.to_csv('out.csv')\n",
    "    print time_a[j] , \"-->\" ,min_p ,\" W/Hr.\",all_p/1000 ,\" KW/day.\"\n",
    "    c.execute(\"INSERT INTO watt.watt_day_gethr (Timestamp, watt) VALUES ( %s, %s)\",(time_a[j],min_p))\n",
    "    #print \"|\",\n",
    "    conn.commit()\n",
    "    min_p = 0\n",
    "    j += 1\n",
    "       \n",
    "#     print \".\",\n",
    "print(\".DONE!\")"
   ]
  }
 ],
 "metadata": {
  "kernelspec": {
   "display_name": "Python 2",
   "language": "python",
   "name": "python2"
  },
  "language_info": {
   "codemirror_mode": {
    "name": "ipython",
    "version": 2
   },
   "file_extension": ".py",
   "mimetype": "text/x-python",
   "name": "python",
   "nbconvert_exporter": "python",
   "pygments_lexer": "ipython2",
   "version": "2.7.6"
  }
 },
 "nbformat": 4,
 "nbformat_minor": 1
}

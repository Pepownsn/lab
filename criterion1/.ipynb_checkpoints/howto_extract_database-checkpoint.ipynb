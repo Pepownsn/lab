{
 "cells": [
  {
   "cell_type": "code",
   "execution_count": 3,
   "metadata": {},
   "outputs": [],
   "source": [
    "import pandas as pd\n",
    "import MySQLdb\n",
    "import numpy as np\n",
    "import time\n",
    "import sys"
   ]
  },
  {
   "cell_type": "code",
   "execution_count": 4,
   "metadata": {},
   "outputs": [],
   "source": [
    "d = 1   #ย้อนหลัง 30 วัน\n",
    "min_p = 0\n",
    "j = 0\n",
    "\n",
    "time_a = pd.date_range('2016-10-11', periods=96*d, freq='15T')\n",
    "time_b = pd.date_range('2016-10-11 00:14:59', periods=96*d, freq='15T')"
   ]
  },
  {
   "cell_type": "code",
   "execution_count": 5,
   "metadata": {},
   "outputs": [],
   "source": [
    "# time_a\n",
    "# time_b"
   ]
  },
  {
   "cell_type": "code",
   "execution_count": 1,
   "metadata": {},
   "outputs": [
    {
     "ename": "NameError",
     "evalue": "name 'MySQLdb' is not defined",
     "output_type": "error",
     "traceback": [
      "\u001b[0;31m\u001b[0m",
      "\u001b[0;31mNameError\u001b[0mTraceback (most recent call last)",
      "\u001b[0;32m<ipython-input-1-f6e1139f2930>\u001b[0m in \u001b[0;36m<module>\u001b[0;34m()\u001b[0m\n\u001b[0;32m----> 1\u001b[0;31m \u001b[0mconn\u001b[0m\u001b[0;34m=\u001b[0m \u001b[0mMySQLdb\u001b[0m\u001b[0;34m.\u001b[0m\u001b[0mconnect\u001b[0m\u001b[0;34m(\u001b[0m\u001b[0;34m\"127.0.0.1\"\u001b[0m\u001b[0;34m,\u001b[0m\u001b[0;34m\"conn\"\u001b[0m\u001b[0;34m,\u001b[0m\u001b[0;34m\"hems\"\u001b[0m\u001b[0;34m,\u001b[0m\u001b[0;34m\"power\"\u001b[0m\u001b[0;34m)\u001b[0m\u001b[0;34m\u001b[0m\u001b[0m\n\u001b[0m\u001b[1;32m      2\u001b[0m \u001b[0mc\u001b[0m \u001b[0;34m=\u001b[0m \u001b[0mconn\u001b[0m\u001b[0;34m.\u001b[0m\u001b[0mcursor\u001b[0m\u001b[0;34m(\u001b[0m\u001b[0;34m)\u001b[0m\u001b[0;34m\u001b[0m\u001b[0m\n\u001b[1;32m      3\u001b[0m \u001b[0;31m# set databases to empty\u001b[0m\u001b[0;34m\u001b[0m\u001b[0;34m\u001b[0m\u001b[0m\n\u001b[1;32m      4\u001b[0m \u001b[0;31m#query_empty = \"\"\"truncate table watt_15T\"\"\"\u001b[0m\u001b[0;34m\u001b[0m\u001b[0;34m\u001b[0m\u001b[0m\n\u001b[1;32m      5\u001b[0m \u001b[0;31m#c.execute(query_empty)\u001b[0m\u001b[0;34m\u001b[0m\u001b[0;34m\u001b[0m\u001b[0m\n",
      "\u001b[0;31mNameError\u001b[0m: name 'MySQLdb' is not defined"
     ]
    }
   ],
   "source": [
    "conn= MySQLdb.connect(\"127.0.0.1\",\"conn\",\"hems\",\"power\") \n",
    "c = conn.cursor()\n",
    "# set databases to empty \n",
    "#query_empty = \"\"\"truncate table watt_15T\"\"\" \n",
    "#c.execute(query_empty)\n",
    "print \"watt_15T are Empty!!! \\n\"\n",
    "print \"Progress:\",\n",
    "while (j <= (96*d)-1) :\n",
    "    \n",
    "    query = \"SELECT Timestamp, s13 FROM power.enegate_bkk WHERE Timestamp >= '%s'   AND TimeStamp <= '%s'; \"% (time_a[j],time_b[j])\n",
    "    print query\n",
    "    df = pd.read_sql(query, conn)\n",
    "    df = df[df.s13 != \"----\"]\n",
    "    df = df.reset_index(drop=True)\n",
    "    df['s13'] = df['s13'].astype(float)\n",
    "    \n",
    "    df.cTime =  pd.Series(pd.to_datetime(df.Timestamp))\n",
    "    \n",
    "    if len(df) == 0 :\n",
    "        min_p = 0\n",
    "    else :\n",
    "        for i in range(len(df.cTime.df.minute)):              \n",
    "            min_p += df.s13[i]\n",
    "    \n",
    "        \n",
    "        min_p = min_p/len(df)/4   \n",
    "    c.execute(\"INSERT INTO power.watt_15T (Timestamp, watt) VALUES ( %s, %s)\",(time_a[j],min_p))\n",
    "    #print time_a[j] , \"-->\" ,min_p ,\" W/15min\"\n",
    "    #print \"|\",\n",
    "    conn.commit()\n",
    "    min_p = 0\n",
    "    j += 1\n",
    "    \n",
    "    #printProgress(j, 96*d, prefix = 'Progress:', suffix = 'Complete', barLength = 50)\n",
    "    #sys.stdout.write('.')\n",
    "    #sys.stdout.flush()\n",
    "    \n",
    "    print \".\",\n",
    "print(\".DONE!\")"
   ]
  },
  {
   "cell_type": "code",
   "execution_count": null,
   "metadata": {},
   "outputs": [],
   "source": []
  }
 ],
 "metadata": {
  "kernelspec": {
   "display_name": "Python 2",
   "language": "python",
   "name": "python2"
  },
  "language_info": {
   "codemirror_mode": {
    "name": "ipython",
    "version": 2
   },
   "file_extension": ".py",
   "mimetype": "text/x-python",
   "name": "python",
   "nbconvert_exporter": "python",
   "pygments_lexer": "ipython2",
   "version": "2.7.6"
  }
 },
 "nbformat": 4,
 "nbformat_minor": 1
}

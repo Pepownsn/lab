{
 "cells": [
  {
   "cell_type": "code",
   "execution_count": 1,
   "metadata": {},
   "outputs": [
    {
     "name": "stdout",
     "output_type": "stream",
     "text": [
      " .WAiT ! \n",
      " .WAiT ! \n",
      " .WAiT ! \n",
      " .WAiT ! \n",
      " .WAiT ! \n",
      " .WAiT ! \n",
      " .WAiT ! \n",
      " .WAiT ! \n",
      " .WAiT ! \n",
      " .WAiT ! \n",
      " .WAiT ! \n",
      " .WAiT ! \n",
      " .WAiT ! \n",
      " .WAiT ! \n",
      " .WAiT ! \n",
      " .WAiT ! \n",
      " .WAiT ! \n",
      " .WAiT ! \n",
      " .WAiT ! \n",
      " .WAiT ! \n",
      " .WAiT ! \n",
      " .WAiT ! \n",
      " .WAiT ! \n",
      " .WAiT ! \n",
      " .WAiT ! \n",
      " .WAiT ! \n",
      " .WAiT ! \n",
      " .WAiT ! \n",
      " .WAiT ! \n",
      " .WAiT ! \n",
      " .WAiT ! \n",
      " .WAiT ! \n",
      " .WAiT ! \n",
      " .WAiT ! \n",
      " .WAiT ! \n",
      " .WAiT ! \n",
      " .WAiT ! \n",
      " .WAiT ! \n",
      "\n",
      " ....... end  Timestamp('2016-11-29 12:29:59')  process ....... \n",
      "\n",
      "..////////////////////////////////////////////////////////////////////////////////////..\n",
      "2016-11-29 12:15:00 to 2016-11-29 12:29:59 --> 98.0338983051  W/15min \n",
      "\n",
      " .WAiT ! \n",
      " .WAiT ! \n",
      " .WAiT ! \n",
      " .WAiT ! \n",
      " .WAiT ! \n",
      " .WAiT ! \n",
      " .WAiT ! \n",
      " .WAiT ! \n",
      " .WAiT ! \n",
      " .WAiT ! \n",
      " .WAiT ! \n",
      " .WAiT ! \n",
      " .WAiT ! \n",
      " .WAiT ! \n",
      " .WAiT ! \n",
      " .WAiT ! \n",
      " .WAiT ! \n",
      " .WAiT ! \n",
      " .WAiT ! \n",
      " .WAiT ! \n",
      " .WAiT ! \n",
      " .WAiT ! \n",
      " .WAiT ! \n"
     ]
    },
    {
     "ename": "KeyboardInterrupt",
     "evalue": "",
     "output_type": "error",
     "traceback": [
      "\u001b[0;31m\u001b[0m",
      "\u001b[0;31mKeyboardInterrupt\u001b[0mTraceback (most recent call last)",
      "\u001b[0;32m<ipython-input-1-49c1d3a34554>\u001b[0m in \u001b[0;36m<module>\u001b[0;34m()\u001b[0m\n\u001b[1;32m     52\u001b[0m         \u001b[0mj\u001b[0m \u001b[0;34m+=\u001b[0m \u001b[0;36m1\u001b[0m\u001b[0;34m\u001b[0m\u001b[0m\n\u001b[1;32m     53\u001b[0m     \u001b[0;32mprint\u001b[0m\u001b[0;34m(\u001b[0m\u001b[0;34m\" .WAiT ! \"\u001b[0m\u001b[0;34m)\u001b[0m\u001b[0;34m\u001b[0m\u001b[0m\n\u001b[0;32m---> 54\u001b[0;31m     \u001b[0mtime\u001b[0m\u001b[0;34m.\u001b[0m\u001b[0msleep\u001b[0m\u001b[0;34m(\u001b[0m\u001b[0;36m1\u001b[0m\u001b[0;34m)\u001b[0m\u001b[0;34m\u001b[0m\u001b[0m\n\u001b[0m\u001b[1;32m     55\u001b[0m \u001b[0;34m\u001b[0m\u001b[0m\n\u001b[1;32m     56\u001b[0m \u001b[0;34m\u001b[0m\u001b[0m\n",
      "\u001b[0;31mKeyboardInterrupt\u001b[0m: "
     ]
    }
   ],
   "source": [
    "import pandas as pd\n",
    "import MySQLdb\n",
    "import time\n",
    "import datetime\n",
    "import sys\n",
    "\n",
    "time_a = pd.date_range(\"00:00:00\", \"23:45:00\", freq=\"15min\")\n",
    "cTime_a =  time_a.strftime(\"Timestamp('%Y-%m-%d %H:%M:%S')\")\n",
    "Ta = cTime_a.astype(str)\n",
    "\n",
    "time_b = pd.date_range(\"00:14:59\", \"23:59:59\", freq=\"15min\")\n",
    "cTime_b =  time_b.strftime(\"Timestamp('%Y-%m-%d %H:%M:%S')\")\n",
    "Tb = cTime_b.astype(str)\n",
    "\n",
    "conn= MySQLdb.connect(\"52.220.52.25\",\"conn\",\"hems\",\"power\")\n",
    "c = conn.cursor()\n",
    "\n",
    "# j = 0\n",
    "Hr = time.strftime('%H')\n",
    "Mn = int(time.strftime('%M'))\n",
    "\n",
    "if 0 < Mn <= 15:\n",
    "    k = 0\n",
    "elif 15 < Mn <= 30:\n",
    "    k = 1\n",
    "elif 30 < Mn <= 45:\n",
    "    k = 2\n",
    "else:\n",
    "    k = 3\n",
    "j = int(Hr)*4 + k\n",
    "\n",
    "while(True):\n",
    "    clock = time.strftime(u\"Timestamp('%Y-%m-%d %H:%M:%S')\")\n",
    "    min_p = 0\n",
    "    if (j == 96):\n",
    "        j = 0\n",
    "    if (clock == Tb [j]):\n",
    "        print \"\\n ....... end \",clock ,\" process ....... \\n\"\n",
    "        query = \"SELECT Timestamp,s11 FROM power.enegate_bkk WHERE Timestamp >= '%s'   AND TimeStamp <= '%s'; \"% (time_a[j],time_b[j])\n",
    "        df = pd.read_sql(query, conn)\n",
    "        df = df[df.s11 != \"----\"]\n",
    "        df = df.reset_index(drop=True)\n",
    "        df['s11'] = df['s11'].astype(float)\n",
    "        print \"..////////////////////////////////////////////////////////////////////////////////////..\"\n",
    "        if len(df) == 0 :\n",
    "            min_p = 0\n",
    "        else :\n",
    "            for i in range(len(df)):\n",
    "                min_p += df.s11[i]        \n",
    "            min_p = min_p/len(df)/4  \n",
    "        print  time_a[j],\"to\",time_b[j] , \"-->\" ,min_p ,\" W/15min \\n\"\n",
    "        j += 1\n",
    "    print(\" .WAiT ! \")\n",
    "    time.sleep(1)\n",
    "        \n",
    "\n",
    "    \n",
    "\n",
    "\n",
    "\n"
   ]
  },
  {
   "cell_type": "code",
   "execution_count": null,
   "metadata": {},
   "outputs": [],
   "source": [
    "clock = time.strftime(\"Timestamp('%Y-%m-%d %H:%M:%S')\")\n",
    "type(clock)"
   ]
  },
  {
   "cell_type": "code",
   "execution_count": null,
   "metadata": {},
   "outputs": [],
   "source": [
    "cTime_a =  time_a.strftime(\"Timestamp('%Y-%m-%d %H:%M:%S')\")\n",
    "cTime_a.astype(str)\n",
    "tb =cTime_b[52].astype(str)\n",
    "type(clock)==type(tb)"
   ]
  },
  {
   "cell_type": "code",
   "execution_count": null,
   "metadata": {},
   "outputs": [],
   "source": [
    "clock = time.strftime(\"Timestamp('%Y-%m-%d %H:%M:%S')\")\n",
    "clock"
   ]
  },
  {
   "cell_type": "code",
   "execution_count": null,
   "metadata": {},
   "outputs": [],
   "source": [
    "cTime_a[53]"
   ]
  },
  {
   "cell_type": "code",
   "execution_count": null,
   "metadata": {},
   "outputs": [],
   "source": [
    "cTime_b[52]"
   ]
  },
  {
   "cell_type": "code",
   "execution_count": null,
   "metadata": {},
   "outputs": [],
   "source": [
    "T[1] == \"Timestamp('2016-11-24 00:29:59')\""
   ]
  },
  {
   "cell_type": "code",
   "execution_count": null,
   "metadata": {},
   "outputs": [],
   "source": [
    "len(time_a)"
   ]
  },
  {
   "cell_type": "code",
   "execution_count": null,
   "metadata": {},
   "outputs": [],
   "source": [
    "Tb [44]"
   ]
  },
  {
   "cell_type": "code",
   "execution_count": 5,
   "metadata": {},
   "outputs": [
    {
     "name": "stdout",
     "output_type": "stream",
     "text": [
      "1\n"
     ]
    }
   ],
   "source": [
    "import time\n",
    "import datetime\n",
    "Mn = int(time.strftime('%M'))\n",
    "\n",
    "if 0 < Mn <= 15:\n",
    "    k = 0\n",
    "elif 15 < Mn <= 30:\n",
    "    k = 1\n",
    "elif 30 < Mn <= 45:\n",
    "    k = 2\n",
    "else:\n",
    "    k = 3\n",
    "print k"
   ]
  }
 ],
 "metadata": {
  "kernelspec": {
   "display_name": "Python 2",
   "language": "python",
   "name": "python2"
  },
  "language_info": {
   "codemirror_mode": {
    "name": "ipython",
    "version": 2
   },
   "file_extension": ".py",
   "mimetype": "text/x-python",
   "name": "python",
   "nbconvert_exporter": "python",
   "pygments_lexer": "ipython2",
   "version": "2.7.6"
  }
 },
 "nbformat": 4,
 "nbformat_minor": 1
}

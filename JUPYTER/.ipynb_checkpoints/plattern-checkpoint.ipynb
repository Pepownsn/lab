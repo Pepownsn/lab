{
 "cells": [
  {
   "cell_type": "code",
   "execution_count": 7,
   "metadata": {},
   "outputs": [],
   "source": [
    "from random import randrange\n",
    "import random\n",
    "import pandas as pd\n",
    "import MySQLdb\n",
    "import time\n",
    "import datetime\n",
    "import sys\n"
   ]
  },
  {
   "cell_type": "code",
   "execution_count": 8,
   "metadata": {},
   "outputs": [
    {
     "name": "stdout",
     "output_type": "stream",
     "text": [
      "29/11/16 14:01:58\n",
      "60 : 40\n",
      "29/11/16 15:02:38\n"
     ]
    }
   ],
   "source": [
    "d = int(time.strftime(\"%d\"))\n",
    "m = int(time.strftime(\"%m\"))\n",
    "y = int(time.strftime(\"%Y\"))\n",
    "H = int(time.strftime(\"%H\"))\n",
    "M = int(time.strftime(\"%M\"))\n",
    "S = int(time.strftime(\"%S\"))\n",
    "start = datetime.datetime(y,m,d,H,M,S)\n",
    "current = start\n",
    "curr = current + datetime.timedelta(minutes=randrange(120))\n",
    "print curr.strftime(\"%d/%m/%y %H:%M:%S\")        \n",
    "\n",
    "# duration =  random.random()*100  \n",
    "# print duration\n",
    "\n",
    "duration_sec =  random.randint(10, 60)\n",
    "duration_min =  random.randint(10, 60)\n",
    "print duration_min,\":\",duration_sec\n",
    "curr2 = curr + datetime.timedelta(minutes=duration_min, seconds=duration_sec)\n",
    "print curr2.strftime(\"%d/%m/%y %H:%M:%S\")    \n",
    "\n"
   ]
  }
 ],
 "metadata": {
  "kernelspec": {
   "display_name": "Python 2",
   "language": "python",
   "name": "python2"
  },
  "language_info": {
   "codemirror_mode": {
    "name": "ipython",
    "version": 2
   },
   "file_extension": ".py",
   "mimetype": "text/x-python",
   "name": "python",
   "nbconvert_exporter": "python",
   "pygments_lexer": "ipython2",
   "version": "2.7.6"
  }
 },
 "nbformat": 4,
 "nbformat_minor": 1
}

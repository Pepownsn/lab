{
 "cells": [
  {
   "cell_type": "code",
   "execution_count": 1,
   "metadata": {},
   "outputs": [
    {
     "ename": "ProgrammingError",
     "evalue": "(1146, \"Table 'watt.watt_1date' doesn't exist\")",
     "output_type": "error",
     "traceback": [
      "\u001b[0;31m\u001b[0m",
      "\u001b[0;31mProgrammingError\u001b[0mTraceback (most recent call last)",
      "\u001b[0;32m<ipython-input-1-6db24962986c>\u001b[0m in \u001b[0;36m<module>\u001b[0;34m()\u001b[0m\n\u001b[1;32m     21\u001b[0m \u001b[0;31m####### set databases to empty #########\u001b[0m\u001b[0;34m\u001b[0m\u001b[0;34m\u001b[0m\u001b[0m\n\u001b[1;32m     22\u001b[0m \u001b[0mquery_empty\u001b[0m \u001b[0;34m=\u001b[0m \u001b[0;34m\"\"\"truncate table watt.watt_1date\"\"\"\u001b[0m\u001b[0;34m\u001b[0m\u001b[0m\n\u001b[0;32m---> 23\u001b[0;31m \u001b[0mc\u001b[0m\u001b[0;34m.\u001b[0m\u001b[0mexecute\u001b[0m\u001b[0;34m(\u001b[0m\u001b[0mquery_empty\u001b[0m\u001b[0;34m)\u001b[0m\u001b[0;34m\u001b[0m\u001b[0m\n\u001b[0m\u001b[1;32m     24\u001b[0m \u001b[0;32mprint\u001b[0m \u001b[0;34m\"PV.15T are Empty!!! \\n\"\u001b[0m\u001b[0;34m\u001b[0m\u001b[0m\n\u001b[1;32m     25\u001b[0m \u001b[0;31m# print \"Progress:\",\u001b[0m\u001b[0;34m\u001b[0m\u001b[0;34m\u001b[0m\u001b[0m\n",
      "\u001b[0;32m/usr/lib/python2.7/dist-packages/MySQLdb/cursors.pyc\u001b[0m in \u001b[0;36mexecute\u001b[0;34m(self, query, args)\u001b[0m\n\u001b[1;32m    172\u001b[0m             \u001b[0;32mdel\u001b[0m \u001b[0mtb\u001b[0m\u001b[0;34m\u001b[0m\u001b[0m\n\u001b[1;32m    173\u001b[0m             \u001b[0mself\u001b[0m\u001b[0;34m.\u001b[0m\u001b[0mmessages\u001b[0m\u001b[0;34m.\u001b[0m\u001b[0mappend\u001b[0m\u001b[0;34m(\u001b[0m\u001b[0;34m(\u001b[0m\u001b[0mexc\u001b[0m\u001b[0;34m,\u001b[0m \u001b[0mvalue\u001b[0m\u001b[0;34m)\u001b[0m\u001b[0;34m)\u001b[0m\u001b[0;34m\u001b[0m\u001b[0m\n\u001b[0;32m--> 174\u001b[0;31m             \u001b[0mself\u001b[0m\u001b[0;34m.\u001b[0m\u001b[0merrorhandler\u001b[0m\u001b[0;34m(\u001b[0m\u001b[0mself\u001b[0m\u001b[0;34m,\u001b[0m \u001b[0mexc\u001b[0m\u001b[0;34m,\u001b[0m \u001b[0mvalue\u001b[0m\u001b[0;34m)\u001b[0m\u001b[0;34m\u001b[0m\u001b[0m\n\u001b[0m\u001b[1;32m    175\u001b[0m         \u001b[0mself\u001b[0m\u001b[0;34m.\u001b[0m\u001b[0m_executed\u001b[0m \u001b[0;34m=\u001b[0m \u001b[0mquery\u001b[0m\u001b[0;34m\u001b[0m\u001b[0m\n\u001b[1;32m    176\u001b[0m         \u001b[0;32mif\u001b[0m \u001b[0;32mnot\u001b[0m \u001b[0mself\u001b[0m\u001b[0;34m.\u001b[0m\u001b[0m_defer_warnings\u001b[0m\u001b[0;34m:\u001b[0m \u001b[0mself\u001b[0m\u001b[0;34m.\u001b[0m\u001b[0m_warning_check\u001b[0m\u001b[0;34m(\u001b[0m\u001b[0;34m)\u001b[0m\u001b[0;34m\u001b[0m\u001b[0m\n",
      "\u001b[0;32m/usr/lib/python2.7/dist-packages/MySQLdb/connections.pyc\u001b[0m in \u001b[0;36mdefaulterrorhandler\u001b[0;34m(***failed resolving arguments***)\u001b[0m\n\u001b[1;32m     34\u001b[0m     \u001b[0;32mdel\u001b[0m \u001b[0mcursor\u001b[0m\u001b[0;34m\u001b[0m\u001b[0m\n\u001b[1;32m     35\u001b[0m     \u001b[0;32mdel\u001b[0m \u001b[0mconnection\u001b[0m\u001b[0;34m\u001b[0m\u001b[0m\n\u001b[0;32m---> 36\u001b[0;31m     \u001b[0;32mraise\u001b[0m \u001b[0merrorclass\u001b[0m\u001b[0;34m,\u001b[0m \u001b[0merrorvalue\u001b[0m\u001b[0;34m\u001b[0m\u001b[0m\n\u001b[0m\u001b[1;32m     37\u001b[0m \u001b[0;34m\u001b[0m\u001b[0m\n\u001b[1;32m     38\u001b[0m \u001b[0mre_numeric_part\u001b[0m \u001b[0;34m=\u001b[0m \u001b[0mre\u001b[0m\u001b[0;34m.\u001b[0m\u001b[0mcompile\u001b[0m\u001b[0;34m(\u001b[0m\u001b[0;34mr\"^(\\d+)\"\u001b[0m\u001b[0;34m)\u001b[0m\u001b[0;34m\u001b[0m\u001b[0m\n",
      "\u001b[0;31mProgrammingError\u001b[0m: (1146, \"Table 'watt.watt_1date' doesn't exist\")"
     ]
    }
   ],
   "source": [
    "import pandas as pd\n",
    "import MySQLdb\n",
    "import numpy as np\n",
    "import time\n",
    "import sys\n",
    "import datetime \n",
    "\n",
    "min_p = 0\n",
    "j = 0\n",
    "d = 30 #Day\n",
    "\n",
    "# Print iterations progress\n",
    "# ราย15 วินาทีเป็น 15นาที แสดงว่ามีข้อมูล 96 ค่าข้อมูลต่อหนึ่งวัน ดังนั้นถ้าต้องการข้อมูลในรายชม.ในหนึ่งวัน จะต้องได้ 24ชั่วโมง = 24 ค่าข้อมูล \n",
    "time_a = pd.date_range('2016-09-01', periods= d, freq='D')\n",
    "time_b = pd.date_range('2016-09-01 23:59:59', periods= d, freq='D')\n",
    "\n",
    "\n",
    "conn= MySQLdb.connect(\"localhost\",\"conn\",\"hems\",\"power\")\n",
    "c = conn.cursor()\n",
    "\n",
    "####### set databases to empty #########\n",
    "query_empty = \"\"\"truncate table watt.watt_1date\"\"\" \n",
    "c.execute(query_empty)\n",
    "print \"PV.15T are Empty!!! \\n\"\n",
    "# print \"Progress:\",\n",
    "\n",
    "while (j <= (d)-1) :\n",
    "    query = \"SELECT Timestamp,s11 FROM power.enegate_bkk WHERE Timestamp >= '%s'   AND TimeStamp <= '%s'; \"% (time_a[j],time_b[j])\n",
    "    df = pd.read_sql(query, conn)\n",
    "    df = df[df.s11 != \"----\"]\n",
    "    df = df.reset_index(drop=True)\n",
    "#     df.cTime =  pd.Series(pd.to_datetime(df.Timestamp))    #เปลี่ยน Timestamp ใน pd เป็นรูปแบบของ datetime ที่สามารถนำมาใช้ต่อได้\n",
    "    df['s11'] = df['s11'].astype(float)\n",
    "    print len(df)\n",
    "    \n",
    "    if len(df) == 0 :\n",
    "        min_p = 0\n",
    "    else :\n",
    "        for i in range(len(df)):\n",
    "            min_p += df.s11[i]   \n",
    "        min_p = (min_p/len(df))*24  \n",
    "#     df.to_csv('out.csv')\n",
    "#     print min_p\n",
    "#     print len(df)\n",
    "    print time_b[j] , \"-->\" ,min_p/1000 ,\" KW/DAY.\"\n",
    "    c.execute(\"INSERT INTO watt.watt_1date (Timestamp, watt) VALUES ( %s, %s)\",(time_b[j],min_p))\n",
    "    #print \"|\",\n",
    "    conn.commit()\n",
    "    min_p = 0\n",
    "    j += 1\n",
    "       \n",
    "#     print \".\",\n",
    "print(\".DONE!\")\n",
    "print \"Power consuming between\" ,time_a[0], \"to\" ,time_b[j-1], \"equal to\"  ,all_p/1000 ,\" kW/Hr.\"   ##พลังงานรวมทั้งหมด"
   ]
  },
  {
   "cell_type": "code",
   "execution_count": 9,
   "metadata": {},
   "outputs": [
    {
     "data": {
      "text/plain": [
       "DatetimeIndex(['2016-09-01 23:59:59', '2016-09-02 23:59:59',\n",
       "               '2016-09-03 23:59:59', '2016-09-04 23:59:59',\n",
       "               '2016-09-05 23:59:59', '2016-09-06 23:59:59',\n",
       "               '2016-09-07 23:59:59', '2016-09-08 23:59:59',\n",
       "               '2016-09-09 23:59:59', '2016-09-10 23:59:59',\n",
       "               '2016-09-11 23:59:59', '2016-09-12 23:59:59',\n",
       "               '2016-09-13 23:59:59', '2016-09-14 23:59:59',\n",
       "               '2016-09-15 23:59:59', '2016-09-16 23:59:59',\n",
       "               '2016-09-17 23:59:59', '2016-09-18 23:59:59',\n",
       "               '2016-09-19 23:59:59', '2016-09-20 23:59:59',\n",
       "               '2016-09-21 23:59:59', '2016-09-22 23:59:59',\n",
       "               '2016-09-23 23:59:59', '2016-09-24 23:59:59',\n",
       "               '2016-09-25 23:59:59', '2016-09-26 23:59:59',\n",
       "               '2016-09-27 23:59:59', '2016-09-28 23:59:59',\n",
       "               '2016-09-29 23:59:59', '2016-09-30 23:59:59'],\n",
       "              dtype='datetime64[ns]', freq='D')"
      ]
     },
     "execution_count": 8,
     "metadata": {},
     "output_type": "execute_result"
    },
    {
     "data": {
      "text/plain": [
       "DatetimeIndex(['2016-09-01 23:59:59', '2016-09-02 23:59:59',\n",
       "               '2016-09-03 23:59:59', '2016-09-04 23:59:59',\n",
       "               '2016-09-05 23:59:59', '2016-09-06 23:59:59',\n",
       "               '2016-09-07 23:59:59', '2016-09-08 23:59:59',\n",
       "               '2016-09-09 23:59:59', '2016-09-10 23:59:59',\n",
       "               '2016-09-11 23:59:59', '2016-09-12 23:59:59',\n",
       "               '2016-09-13 23:59:59', '2016-09-14 23:59:59',\n",
       "               '2016-09-15 23:59:59', '2016-09-16 23:59:59',\n",
       "               '2016-09-17 23:59:59', '2016-09-18 23:59:59',\n",
       "               '2016-09-19 23:59:59', '2016-09-20 23:59:59',\n",
       "               '2016-09-21 23:59:59', '2016-09-22 23:59:59',\n",
       "               '2016-09-23 23:59:59', '2016-09-24 23:59:59',\n",
       "               '2016-09-25 23:59:59', '2016-09-26 23:59:59',\n",
       "               '2016-09-27 23:59:59', '2016-09-28 23:59:59',\n",
       "               '2016-09-29 23:59:59', '2016-09-30 23:59:59'],\n",
       "              dtype='datetime64[ns]', freq='D')"
      ]
     },
     "execution_count": 9,
     "metadata": {},
     "output_type": "execute_result"
    }
   ],
   "source": [
    "time_b"
   ]
  }
 ],
 "metadata": {
  "kernelspec": {
   "display_name": "Python 2",
   "language": "python",
   "name": "python2"
  },
  "language_info": {
   "codemirror_mode": {
    "name": "ipython",
    "version": 2
   },
   "file_extension": ".py",
   "mimetype": "text/x-python",
   "name": "python",
   "nbconvert_exporter": "python",
   "pygments_lexer": "ipython2",
   "version": "2.7.6"
  }
 },
 "nbformat": 4,
 "nbformat_minor": 1
}

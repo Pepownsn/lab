{
 "cells": [
  {
   "cell_type": "code",
   "execution_count": 24,
   "metadata": {},
   "outputs": [
    {
     "data": {
      "text/plain": [
       "\u001b[0;31mSignature:\u001b[0m \u001b[0mpandas\u001b[0m\u001b[0;34m.\u001b[0m\u001b[0mread_sql\u001b[0m\u001b[0;34m(\u001b[0m\u001b[0msql\u001b[0m\u001b[0;34m,\u001b[0m \u001b[0mcon\u001b[0m\u001b[0;34m,\u001b[0m \u001b[0mindex_col\u001b[0m\u001b[0;34m=\u001b[0m\u001b[0mNone\u001b[0m\u001b[0;34m,\u001b[0m \u001b[0mcoerce_float\u001b[0m\u001b[0;34m=\u001b[0m\u001b[0mTrue\u001b[0m\u001b[0;34m,\u001b[0m \u001b[0mparams\u001b[0m\u001b[0;34m=\u001b[0m\u001b[0mNone\u001b[0m\u001b[0;34m)\u001b[0m\u001b[0;34m\u001b[0m\u001b[0m\n",
       "\u001b[0;31mDocstring:\u001b[0m\n",
       "Returns a DataFrame corresponding to the result set of the query\n",
       "string.\n",
       "\n",
       "Optionally provide an index_col parameter to use one of the\n",
       "columns as the index. Otherwise will be 0 to len(results) - 1.\n",
       "\n",
       "Parameters\n",
       "----------\n",
       "sql: string\n",
       "    SQL query to be executed\n",
       "con: DB connection object, optional\n",
       "index_col: string, optional\n",
       "    column name to use for the returned DataFrame object.\n",
       "coerce_float : boolean, default True\n",
       "    Attempt to convert values to non-string, non-numeric objects (like\n",
       "    decimal.Decimal) to floating point, useful for SQL result sets\n",
       "params: list or tuple, optional\n",
       "    List of parameters to pass to execute method.\n",
       "\u001b[0;31mFile:\u001b[0m      /usr/lib/python2.7/dist-packages/pandas/io/sql.py\n",
       "\u001b[0;31mType:\u001b[0m      function\n"
      ]
     },
     "metadata": {},
     "output_type": "display_data"
    }
   ],
   "source": [
    "?pandas.read_sql()"
   ]
  },
  {
   "cell_type": "code",
   "execution_count": 13,
   "metadata": {},
   "outputs": [
    {
     "data": {
      "text/plain": [
       "\u001b[0;31mDocstring:\u001b[0m\n",
       "dict() -> new empty dictionary\n",
       "dict(mapping) -> new dictionary initialized from a mapping object's\n",
       "    (key, value) pairs\n",
       "dict(iterable) -> new dictionary initialized as if via:\n",
       "    d = {}\n",
       "    for k, v in iterable:\n",
       "        d[k] = v\n",
       "dict(**kwargs) -> new dictionary initialized with the name=value pairs\n",
       "    in the keyword argument list.  For example:  dict(one=1, two=2)\n",
       "\u001b[0;31mType:\u001b[0m      type\n"
      ]
     },
     "metadata": {},
     "output_type": "display_data"
    }
   ],
   "source": [
    "?dict"
   ]
  },
  {
   "cell_type": "code",
   "execution_count": 27,
   "metadata": {},
   "outputs": [
    {
     "data": {
      "text/plain": [
       "\u001b[0;31mSignature:\u001b[0m \u001b[0mplt\u001b[0m\u001b[0;34m.\u001b[0m\u001b[0msubplots\u001b[0m\u001b[0;34m(\u001b[0m\u001b[0mnrows\u001b[0m\u001b[0;34m=\u001b[0m\u001b[0;36m1\u001b[0m\u001b[0;34m,\u001b[0m \u001b[0mncols\u001b[0m\u001b[0;34m=\u001b[0m\u001b[0;36m1\u001b[0m\u001b[0;34m,\u001b[0m \u001b[0msharex\u001b[0m\u001b[0;34m=\u001b[0m\u001b[0mFalse\u001b[0m\u001b[0;34m,\u001b[0m \u001b[0msharey\u001b[0m\u001b[0;34m=\u001b[0m\u001b[0mFalse\u001b[0m\u001b[0;34m,\u001b[0m \u001b[0msqueeze\u001b[0m\u001b[0;34m=\u001b[0m\u001b[0mTrue\u001b[0m\u001b[0;34m,\u001b[0m \u001b[0msubplot_kw\u001b[0m\u001b[0;34m=\u001b[0m\u001b[0mNone\u001b[0m\u001b[0;34m,\u001b[0m \u001b[0;34m**\u001b[0m\u001b[0mfig_kw\u001b[0m\u001b[0;34m)\u001b[0m\u001b[0;34m\u001b[0m\u001b[0m\n",
       "\u001b[0;31mDocstring:\u001b[0m\n",
       "Create a figure with a set of subplots already made.\n",
       "\n",
       "This utility wrapper makes it convenient to create common layouts of\n",
       "subplots, including the enclosing figure object, in a single call.\n",
       "\n",
       "Keyword arguments:\n",
       "\n",
       "  *nrows* : int\n",
       "    Number of rows of the subplot grid.  Defaults to 1.\n",
       "\n",
       "  *ncols* : int\n",
       "    Number of columns of the subplot grid.  Defaults to 1.\n",
       "\n",
       "  *sharex* : string or bool\n",
       "    If *True*, the X axis will be shared amongst all subplots.  If\n",
       "    *True* and you have multiple rows, the x tick labels on all but\n",
       "    the last row of plots will have visible set to *False*\n",
       "    If a string must be one of \"row\", \"col\", \"all\", or \"none\".\n",
       "    \"all\" has the same effect as *True*, \"none\" has the same effect\n",
       "    as *False*.\n",
       "    If \"row\", each subplot row will share a X axis.\n",
       "    If \"col\", each subplot column will share a X axis and the x tick\n",
       "    labels on all but the last row will have visible set to *False*.\n",
       "\n",
       "  *sharey* : string or bool\n",
       "    If *True*, the Y axis will be shared amongst all subplots. If\n",
       "    *True* and you have multiple columns, the y tick labels on all but\n",
       "    the first column of plots will have visible set to *False*\n",
       "    If a string must be one of \"row\", \"col\", \"all\", or \"none\".\n",
       "    \"all\" has the same effect as *True*, \"none\" has the same effect\n",
       "    as *False*.\n",
       "    If \"row\", each subplot row will share a Y axis.\n",
       "    If \"col\", each subplot column will share a Y axis and the y tick\n",
       "    labels on all but the last row will have visible set to *False*.\n",
       "\n",
       "  *squeeze* : bool\n",
       "    If *True*, extra dimensions are squeezed out from the\n",
       "    returned axis object:\n",
       "\n",
       "    - if only one subplot is constructed (nrows=ncols=1), the\n",
       "      resulting single Axis object is returned as a scalar.\n",
       "\n",
       "    - for Nx1 or 1xN subplots, the returned object is a 1-d numpy\n",
       "      object array of Axis objects are returned as numpy 1-d\n",
       "      arrays.\n",
       "\n",
       "    - for NxM subplots with N>1 and M>1 are returned as a 2d\n",
       "      array.\n",
       "\n",
       "    If *False*, no squeezing at all is done: the returned axis\n",
       "    object is always a 2-d array containing Axis instances, even if it\n",
       "    ends up being 1x1.\n",
       "\n",
       "  *subplot_kw* : dict\n",
       "    Dict with keywords passed to the\n",
       "    :meth:`~matplotlib.figure.Figure.add_subplot` call used to\n",
       "    create each subplots.\n",
       "\n",
       "  *fig_kw* : dict\n",
       "    Dict with keywords passed to the :func:`figure` call.  Note that all\n",
       "    keywords not recognized above will be automatically included here.\n",
       "\n",
       "Returns:\n",
       "\n",
       "fig, ax : tuple\n",
       "\n",
       "  - *fig* is the :class:`matplotlib.figure.Figure` object\n",
       "\n",
       "  - *ax* can be either a single axis object or an array of axis\n",
       "    objects if more than one subplot was created.  The dimensions\n",
       "    of the resulting array can be controlled with the squeeze\n",
       "    keyword, see above.\n",
       "\n",
       "Examples::\n",
       "\n",
       "    x = np.linspace(0, 2*np.pi, 400)\n",
       "    y = np.sin(x**2)\n",
       "\n",
       "    # Just a figure and one subplot\n",
       "    f, ax = plt.subplots()\n",
       "    ax.plot(x, y)\n",
       "    ax.set_title('Simple plot')\n",
       "\n",
       "    # Two subplots, unpack the output array immediately\n",
       "    f, (ax1, ax2) = plt.subplots(1, 2, sharey=True)\n",
       "    ax1.plot(x, y)\n",
       "    ax1.set_title('Sharing Y axis')\n",
       "    ax2.scatter(x, y)\n",
       "\n",
       "    # Four polar axes\n",
       "    plt.subplots(2, 2, subplot_kw=dict(polar=True))\n",
       "\n",
       "    # Share a X axis with each column of subplots\n",
       "    plt.subplots(2, 2, sharex='col')\n",
       "\n",
       "    # Share a Y axis with each row of subplots\n",
       "    plt.subplots(2, 2, sharey='row')\n",
       "\n",
       "    # Share a X and Y axis with all subplots\n",
       "    plt.subplots(2, 2, sharex='all', sharey='all')\n",
       "    # same as\n",
       "    plt.subplots(2, 2, sharex=True, sharey=True)\n",
       "\u001b[0;31mFile:\u001b[0m      /usr/lib/pymodules/python2.7/matplotlib/pyplot.py\n",
       "\u001b[0;31mType:\u001b[0m      function\n"
      ]
     },
     "metadata": {},
     "output_type": "display_data"
    }
   ],
   "source": [
    "?plt.subplots()"
   ]
  }
 ],
 "metadata": {
  "kernelspec": {
   "display_name": "Python 2",
   "language": "python",
   "name": "python2"
  },
  "language_info": {
   "codemirror_mode": {
    "name": "ipython",
    "version": 2
   },
   "file_extension": ".py",
   "mimetype": "text/x-python",
   "name": "python",
   "nbconvert_exporter": "python",
   "pygments_lexer": "ipython2",
   "version": "2.7.6"
  }
 },
 "nbformat": 4,
 "nbformat_minor": 1
}

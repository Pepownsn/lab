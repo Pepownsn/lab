{
 "cells": [
  {
   "cell_type": "code",
   "execution_count": 2,
   "metadata": {},
   "outputs": [],
   "source": [
    "import matplotlib.pyplot as plt\n",
    "import pandas\n",
    "import MySQLdb"
   ]
  },
  {
   "cell_type": "code",
   "execution_count": 3,
   "metadata": {},
   "outputs": [],
   "source": [
    "#---- For matplotlib plot in web -----\n",
    "%matplotlib inline  "
   ]
  },
  {
   "cell_type": "code",
   "execution_count": null,
   "metadata": {},
   "outputs": [],
   "source": [
    "# connect to MySQL database\n",
    "conn = MySQLdb.connect(\"52.220.88.45\",\"read\",\"hems\",\"power\")\n",
    "\n",
    "\n",
    "query = \"\"\"\n",
    "SELECT TimeStamp, s11\n",
    "FROM power.enegate_bkk\n",
    "WHERE TimeStamp >= \"2016-08-14 00:00:00\"\n",
    "  AND TimeStamp < \"2016-08-14 01:001:00\";\n",
    "\"\"\"\n",
    "\n",
    "df = pandas.read_sql(query, conn, index_col=['TimeStamp'])\n",
    "\n",
    "df = df[df.s11 != \"----\"]\n",
    "\n",
    "print df\n",
    "\n",
    "# char --> int\n",
    "df['s11'] = df['s11'].astype(int)\n",
    "\n",
    "fig, ax = plt.subplots()\n",
    "ax.set_title('07-14 Aug 2016')\n",
    "df.plot(ax=ax)\n",
    "plt.show()\n",
    "conn.close()"
   ]
  },
  {
   "cell_type": "code",
   "execution_count": null,
   "metadata": {},
   "outputs": [],
   "source": []
  }
 ],
 "metadata": {
  "kernelspec": {
   "display_name": "Python 2",
   "language": "python",
   "name": "python2"
  },
  "language_info": {
   "codemirror_mode": {
    "name": "ipython",
    "version": 2
   },
   "file_extension": ".py",
   "mimetype": "text/x-python",
   "name": "python",
   "nbconvert_exporter": "python",
   "pygments_lexer": "ipython2",
   "version": "2.7.6"
  }
 },
 "nbformat": 4,
 "nbformat_minor": 1
}

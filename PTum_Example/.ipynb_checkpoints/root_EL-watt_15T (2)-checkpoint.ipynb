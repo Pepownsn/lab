{
 "cells": [
  {
   "cell_type": "code",
   "execution_count": 1,
   "metadata": {},
   "outputs": [],
   "source": [
    "import pandas as pd\n",
    "import MySQLdb\n",
    "import numpy as np\n",
    "import time\n",
    "import sys"
   ]
  },
  {
   "cell_type": "code",
   "execution_count": 12,
   "metadata": {},
   "outputs": [
    {
     "name": "stdout",
     "output_type": "stream",
     "text": [
      "<class 'pandas.tseries.index.DatetimeIndex'>\n",
      "[2016-10-01 00:00:00, ..., 2016-10-01 23:45:00]\n",
      "Length: 96, Freq: 15T, Timezone: None\n",
      "2016-10-01 02:30:00\n"
     ]
    }
   ],
   "source": [
    "min_p = 0\n",
    "j = 0\n",
    "d = 1 #Day\n",
    "\n",
    "# Print iterations progress\n",
    "# def printProgress (iteration, total, prefix = '', suffix = '', decimals = 1, barLength = 100):\n",
    "#     \"\"\"\n",
    "#     Call in a loop to create terminal progress bar\n",
    "#     @params:\n",
    "#         iteration   - Required  : current iteration (Int)\n",
    "#         total       - Required  : total iterations (Int)\n",
    "#         prefix      - Optional  : prefix string (Str)\n",
    "#         suffix      - Optional  : suffix string (Str)\n",
    "#         decimals    - Optional  : positive number of decimals in percent complete (Int)\n",
    "#         barLength   - Optional  : character length of bar (Int)\n",
    "#     \"\"\"\n",
    "#     formatStr       = \"{0:.\" + str(decimals) + \"f}\"\n",
    "#     percents        = formatStr.format(100 * (iteration / float(total)))\n",
    "#     filledLength    = int(round(barLength * iteration / float(total)))\n",
    "#     bar             = '|' * filledLength + '-' * (barLength - filledLength)\n",
    "#     sys.stdout.write('\\r%s |%s| %s%s %s' % (prefix, bar, percents, '%', suffix)),\n",
    "#     if iteration == total:\n",
    "#         sys.stdout.write('\\n')\n",
    "#     sys.stdout.flush()\n",
    "\n",
    "time_a = pd.date_range('2016-10-01', periods=96*d, freq='15T')  #change ex. 2016-10-05\n",
    "time_b = pd.date_range('2016-10-01 00:14:59', periods=96*d, freq='15T')\n",
    "# print time_b\n",
    "\n",
    "pd.set_option('display.max_columns', 20)\n",
    "pd.set_option('display.max_rows', 20)\n",
    "print time_a \n",
    "print time_a[10]"
   ]
  },
  {
   "cell_type": "code",
   "execution_count": null,
   "metadata": {},
   "outputs": [],
   "source": [
    "#  conn= MySQLdb.connect(\"127.0.0.1\",\"conn\",\"hems\",\"power\") # One Pi 1 @192.168.1.25 namal localhost\n",
    "# c = conn.cursor()\n",
    "\n",
    "# # set databases to empty \n",
    "# query_empty = \"\"\"truncate table watt_15T\"\"\" \n",
    "# c.execute(query_empty)\n",
    "# print \"watt_15T are Empty!!! \\n\"\n",
    "# print \"Progress:\",\n",
    "# while (j <= (96*d)-1) :\n",
    "    \n",
    "#     query = \"SELECT Timestamp, s11 FROM power.enegate_bkk WHERE Timestamp >= '%s'   AND TimeStamp <= '%s'; \"% (time_a[j],time_b[j])\n",
    "#     df = pd.read_sql(query, conn)\n",
    "#     df = df[df.s11 != \"----\"]\n",
    "#     df = df.reset_index(drop=True)\n",
    "#     df['s11'] = df['s11'].astype(float)\n",
    "    \n",
    "#     df.cTime =  pd.Series(pd.to_datetime(df.Timestamp))\n",
    "    \n",
    "#     if len(df) == 0 :\n",
    "#         min_p = 0\n",
    "#     else :\n",
    "#         for i in range(len(df.cTime.dt.minute)):              \n",
    "#             min_p += df.s11[i]\n",
    "    \n",
    "        \n",
    "#         min_p = min_p/len(df)/4   \n",
    "#         #df.to_csv('out.csv')\n",
    "#     c.execute(\"INSERT INTO power.watt_15T (Timestamp, watt) VALUES ( %s, %s)\",(time_a[j],min_p))\n",
    "#     #print time_a[j] , \"-->\" ,min_p ,\" W/15min\"\n",
    "#     #print \"|\",\n",
    "#     conn.commit()\n",
    "#     min_p = 0\n",
    "#     j += 1\n",
    "    \n",
    "#     #printProgress(j, 96*d, prefix = 'Progress:', suffix = 'Complete', barLength = 50)\n",
    "#     #sys.stdout.write('.')\n",
    "#     #sys.stdout.flush()\n",
    "    \n",
    "#     print \".\",\n",
    "# print(\".DONE!\")"
   ]
  }
 ],
 "metadata": {
  "kernelspec": {
   "display_name": "Python 2",
   "language": "python",
   "name": "python2"
  },
  "language_info": {
   "codemirror_mode": {
    "name": "ipython",
    "version": 2
   },
   "file_extension": ".py",
   "mimetype": "text/x-python",
   "name": "python",
   "nbconvert_exporter": "python",
   "pygments_lexer": "ipython2",
   "version": "2.7.6"
  }
 },
 "nbformat": 4,
 "nbformat_minor": 1
}

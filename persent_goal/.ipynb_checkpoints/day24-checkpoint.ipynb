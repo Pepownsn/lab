{
 "cells": [
  {
   "cell_type": "markdown",
   "metadata": {},
   "source": [
    "## DAY24\n"
   ]
  },
  {
   "cell_type": "code",
   "execution_count": null,
   "metadata": {},
   "outputs": [],
   "source": [
    "import pandas as pd\n",
    "import MySQLdb\n",
    "import time\n",
    "import sys\n",
    "import numpy as np\n",
    "import time\n",
    "import datetime \n",
    "import random\n",
    "import matplotlib.pyplot as plt\n",
    "\n",
    "from sympy import *\n",
    "from sympy.solvers import solve\n",
    "from sympy.parsing.sympy_parser import parse_expr"
   ]
  },
  {
   "cell_type": "code",
   "execution_count": null,
   "metadata": {},
   "outputs": [
    {
     "name": "stdout",
     "output_type": "stream",
     "text": [
      "check_event.day24 are Empty!!! \n",
      "\n"
     ]
    }
   ],
   "source": [
    "d = 1  #run each day\n",
    "j = 0\n",
    "\n",
    "time_a = pd.date_range('2016-10-24 00:00:00', periods=5760*d, freq='15S')\n",
    "# print time_a\n",
    "time_b = pd.date_range('2016-10-24 00:00:14', periods=5760*d, freq='15S')\n",
    "# print time_b\n",
    "(timea,timeb)= ('2016-09-26 00:00:00','2016-09-26 23:59:59')\n",
    "\n",
    "conn = MySQLdb.connect(\"localhost\",\"conn\",\"hems\")\n",
    "c = conn.cursor()\n",
    "\n",
    "query_empty = \"\"\"truncate table check_event.day24\"\"\" \n",
    "c.execute(query_empty)\n",
    "print \"check_event.day24 are Empty!!! \\n\"\n",
    "\n",
    "query0 = \"SELECT Timestamp,watt FROM data_timeline.refrigurator WHERE Timestamp >= '%s'   AND Timestamp <= '%s'; \"% (time_a[0],time_b[(5760*d)-1])\n",
    "df0 = pd.read_sql(query0,conn)\n",
    "\n",
    "query1 = \"SELECT Timestamp,watt FROM data_timeline.wireless_router WHERE Timestamp >= '%s'   AND Timestamp <= '%s'; \"% (time_a[0],time_b[(5760*d)-1])\n",
    "df1 = pd.read_sql(query1,conn)\n",
    "\n",
    "query2 = \"SELECT Timestamp,watt FROM data_timeline.aircont WHERE Timestamp >= '%s'   AND Timestamp <= '%s'; \"% (time_a[0],time_b[(5760*d)-1])\n",
    "df2 = pd.read_sql(query2,conn)\n",
    "\n",
    "query3 = \"SELECT Timestamp,watt FROM data_timeline.Computer WHERE Timestamp >= '%s'   AND Timestamp <= '%s'; \"% (time_a[0],time_b[(5760*d)-1])\n",
    "df3 = pd.read_sql(query3,conn)\n",
    "\n",
    "query4 = \"SELECT Timestamp,watt FROM data_timeline.elec_thermos WHERE Timestamp >= '%s'   AND Timestamp <= '%s'; \"% (time_a[0],time_b[(5760*d)-1])\n",
    "df4 = pd.read_sql(query4,conn)\n",
    "\n",
    "query5 = \"SELECT Timestamp,watt FROM data_timeline.hair_dryer WHERE Timestamp >= '%s'   AND Timestamp <= '%s'; \"% (time_a[0],time_b[(5760*d)-1])\n",
    "df5 = pd.read_sql(query5,conn)\n",
    "\n",
    "query6 = \"SELECT Timestamp,watt FROM data_timeline.Microwave WHERE Timestamp >= '%s'   AND Timestamp <= '%s'; \"% (time_a[0],time_b[(5760*d)-1])\n",
    "df6 = pd.read_sql(query6,conn)\n",
    "\n",
    "query7 = \"SELECT Timestamp,watt FROM data_timeline.iphonecharger WHERE Timestamp >= '%s'   AND Timestamp <= '%s'; \"% (time_a[0],time_b[(5760*d)-1])\n",
    "df7 = pd.read_sql(query7,conn)\n",
    "\n",
    "query8 = \"SELECT Timestamp,watt FROM data_timeline.fan WHERE Timestamp >= '%s'   AND Timestamp <= '%s'; \"% (time_a[0],time_b[(5760*d)-1])\n",
    "df8 = pd.read_sql(query8,conn)\n",
    "\n",
    "query9 = \"SELECT Timestamp,watt FROM data_timeline.TV WHERE Timestamp >= '%s'   AND Timestamp <= '%s'; \"% (time_a[0],time_b[(5760*d)-1])\n",
    "df9 = pd.read_sql(query9,conn)\n",
    "\n",
    "query10 = \"SELECT Timestamp,watt FROM data_timeline.washing_meachine WHERE Timestamp >= '%s'   AND Timestamp <= '%s'; \"% (time_a[0],time_b[(5760*d)-1])\n",
    "df10 = pd.read_sql(query10,conn)\n",
    "\n",
    "query11 = \"SELECT Timestamp,watt FROM data_timeline.IRON WHERE Timestamp >= '%s'   AND Timestamp <= '%s'; \"% (time_a[0],time_b[(5760*d)-1])\n",
    "df11 = pd.read_sql(query11,conn)\n",
    "\n",
    "query12 = \"SELECT Timestamp,watt FROM data_timeline.rice_cooker WHERE Timestamp >= '%s'   AND Timestamp <= '%s'; \"% (time_a[0],time_b[(5760*d)-1])\n",
    "df12 = pd.read_sql(query12,conn)\n",
    "\n",
    "query13 = \"SELECT Timestamp,watt FROM data_timeline.water_heater WHERE Timestamp >= '%s'   AND Timestamp <= '%s'; \"% (time_a[0],time_b[(5760*d)-1])\n",
    "df13 = pd.read_sql(query13,conn)\n",
    "\n",
    "query14 = \"SELECT Timestamp,watt FROM data_timeline.light_system WHERE Timestamp >= '%s'   AND Timestamp <= '%s'; \"% (time_a[0],time_b[(5760*d)-1])\n",
    "df14 = pd.read_sql(query14,conn)\n",
    "\n",
    "query16 = \"SELECT Timestamp,watt FROM device.load_MONTH WHERE Timestamp >= '%s'   AND Timestamp <= '%s'; \"% (timea,timeb)\n",
    "df16 = pd.read_sql(query16,conn)\n",
    "df16['watt'] = df16['watt'].astype(float)\n",
    "\n",
    "df0['watt'] = df0['watt'].astype(float)\n",
    "df1['watt'] = df1['watt'].astype(float)\n",
    "df2['watt'] = df2['watt'].astype(float)\n",
    "df3['watt'] = df3['watt'].astype(float)\n",
    "df4['watt'] = df4['watt'].astype(float)\n",
    "df5['watt'] = df5['watt'].astype(float)\n",
    "df6['watt'] = df6['watt'].astype(float)\n",
    "df7['watt'] = df7['watt'].astype(float)\n",
    "df8['watt'] = df8['watt'].astype(float)\n",
    "df9['watt'] = df9['watt'].astype(float)\n",
    "df10['watt'] = df10['watt'].astype(float)\n",
    "df11['watt'] = df11['watt'].astype(float)\n",
    "df12['watt'] = df12['watt'].astype(float)\n",
    "df13['watt'] = df13['watt'].astype(float)\n",
    "df14['watt'] = df14['watt'].astype(float)\n",
    "\n",
    "j = 0\n",
    "cumulawatt = 0\n",
    "\n",
    "contcumulawatt = 0\n",
    "i20cumulawatt = 0\n",
    "i14cumulawatt = 0\n",
    "i8cumulawatt = 0\n",
    "while (j<= len(df0)-1): \n",
    "                \n",
    "    contsum15sec = (float((df16.watt[j]))/240)\n",
    "    contcumulawatt += contsum15sec\n",
    "       \n",
    "    i20sum15sec = (float((df16.watt[j]))/240)*0.79688399449\n",
    "    i20cumulawatt += i20sum15sec\n",
    "    \n",
    "    i14sum15sec = (float((df16.watt[j]))/240)*0.856312631368\n",
    "    i14cumulawatt += i14sum15sec \n",
    "    \n",
    "    i8sum15sec = (float((df16.watt[j]))/240)*0.9157412682449\n",
    "    i8cumulawatt += i8sum15sec      \n",
    "    \n",
    "    sum15sec = float((df0.watt[j]+df1.watt[j]+df2.watt[j]+df3.watt[j]+df4.watt[j]+df5.watt[j]+df6.watt[j]+df7.watt[j]+df8.watt[j]+df9.watt[j]+df10.watt[j]+df11.watt[j]+df12.watt[j]+df13.watt[j]+df14.watt[j])/240)\n",
    "    cumulawatt += sum15sec\n",
    "    c.execute(\"INSERT INTO check_event.day24 (Timestamp,refrigerator,wireless,aircont,computer,electhermo,hairdryer,microwave,iphonecharger,fan,tv,washingmechine,iron,ricecooker,waterheater,lightsystem,sum15secs,cumulawatt,contsum15sec,contcumulawatt,20sum15sec,20cumulawatt,14sum15sec,14cumulawatt,8sum15sec,8cumulawatt) VALUES (%s, %s, %s, %s, %s, %s, %s, %s, %s, %s, %s, %s, %s, %s, %s, %s, %s, %s, %s, %s, %s, %s, %s, %s, %s, %s)\",\n",
    "              (time_b[j],df0.watt[j],df1.watt[j],df2.watt[j],df3.watt[j],df4.watt[j],df5.watt[j],df6.watt[j],df7.watt[j],df8.watt[j],df9.watt[j],df10.watt[j],df11.watt[j],df12.watt[j],df13.watt[j],df14.watt[j],sum15sec,cumulawatt,contsum15sec,contcumulawatt,i20sum15sec,i20cumulawatt,i14sum15sec,i14cumulawatt,i8sum15sec,i8cumulawatt))\n",
    "    conn.commit()\n",
    "    j+=1\n",
    "print \"\\nDONE !!!!!!\"\n"
   ]
  },
  {
   "cell_type": "code",
   "execution_count": null,
   "metadata": {},
   "outputs": [],
   "source": [
    "import matplotlib.pyplot as plt\n",
    "%matplotlib inline  \n",
    "\n",
    "query15 = \"SELECT  Timestamp,cumulawatt,contcumulawatt,20cumulawatt,14cumulawatt,8cumulawatt FROM check_event.day24 WHERE Timestamp >= '%s'   AND Timestamp <= '%s'; \"% (time_a[0],time_b[(5760*d)-1])\n",
    "df15 = pd.read_sql(query15, conn, index_col=['Timestamp'])  \n",
    "fig, ax = plt.subplots()\n",
    "ax.set_title('check_event.day24')\n",
    "df15.plot(ax=ax )\n",
    "plt.show()\n",
    "\n"
   ]
  },
  {
   "cell_type": "code",
   "execution_count": null,
   "metadata": {},
   "outputs": [],
   "source": [
    "df15\n"
   ]
  },
  {
   "cell_type": "code",
   "execution_count": null,
   "metadata": {},
   "outputs": [],
   "source": []
  },
  {
   "cell_type": "code",
   "execution_count": null,
   "metadata": {},
   "outputs": [],
   "source": []
  },
  {
   "cell_type": "code",
   "execution_count": null,
   "metadata": {},
   "outputs": [],
   "source": []
  }
 ],
 "metadata": {
  "kernelspec": {
   "display_name": "Python 2",
   "language": "python",
   "name": "python2"
  },
  "language_info": {
   "codemirror_mode": {
    "name": "ipython",
    "version": 2
   },
   "file_extension": ".py",
   "mimetype": "text/x-python",
   "name": "python",
   "nbconvert_exporter": "python",
   "pygments_lexer": "ipython2",
   "version": "2.7.6"
  }
 },
 "nbformat": 4,
 "nbformat_minor": 1
}

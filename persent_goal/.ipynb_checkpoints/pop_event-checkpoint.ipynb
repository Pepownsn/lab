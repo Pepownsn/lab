{
 "cells": [
  {
   "cell_type": "code",
   "execution_count": null,
   "metadata": {},
   "outputs": [],
   "source": [
    "j = 1\n",
    "y= []\n",
    "z= []\n",
    "while (j<=100):\n",
    "    x = round(random.uniform(1,100))\n",
    "    if x <= 14:\n",
    "        y.append(j)\n",
    "        j+=1\n",
    "    else:\n",
    "        z.append(j)\n",
    "        j+=1\n",
    "print y\n",
    "print z\n",
    "        "
   ]
  }
 ],
 "metadata": {
  "kernelspec": {
   "display_name": "Python 2",
   "language": "python",
   "name": "python2"
  },
  "language_info": {
   "codemirror_mode": {
    "name": "ipython",
    "version": 2
   },
   "file_extension": ".py",
   "mimetype": "text/x-python",
   "name": "python",
   "nbconvert_exporter": "python",
   "pygments_lexer": "ipython2",
   "version": "2.7.6"
  }
 },
 "nbformat": 4,
 "nbformat_minor": 1
}

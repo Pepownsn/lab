{
 "cells": [
  {
   "cell_type": "markdown",
   "metadata": {},
   "source": [
    "## sum_cumulative_power all day 30 days"
   ]
  },
  {
   "cell_type": "code",
   "execution_count": 20,
   "metadata": {},
   "outputs": [],
   "source": [
    "import pandas as pd\n",
    "import MySQLdb\n",
    "import time\n",
    "import sys\n",
    "import numpy as np\n",
    "import time\n",
    "import datetime \n",
    "import random\n",
    "import matplotlib.pyplot as plt\n",
    "\n",
    "from sympy import *\n",
    "from sympy.solvers import solve\n",
    "from sympy.parsing.sympy_parser import parse_expr"
   ]
  },
  {
   "cell_type": "code",
   "execution_count": 25,
   "metadata": {},
   "outputs": [
    {
     "name": "stdout",
     "output_type": "stream",
     "text": [
      "the cumulative watt in the tested month(1) is 368613.26 watt\n",
      "the cumulative watt in the controlled month(0) is 372597.0 watt\n",
      "the 20% averaged-cut and cumulative watt from the controlled month(0) is 296916.68 watt\n",
      "the 14% averaged-cut and cumulative watt from the controlled month(0) is 319059.55 watt\n",
      "the 8% averaged-cut and cumulative watt from the controlled month(0) is 341202.49 watt\n"
     ]
    }
   ],
   "source": [
    "d = 1\n",
    "j = 0\n",
    "\n",
    "conn = MySQLdb.connect(\"localhost\",\"conn\",\"hems\")\n",
    "c = conn.cursor()\n",
    "\n",
    "b = 1\n",
    "sum_cumulawatt = 0\n",
    "sum_contcumulative =  0\n",
    "sum_i20contcumulative = 0\n",
    "sum_i14contcumulative = 0\n",
    "sum_i8contcumulative = 0\n",
    "while(b <=30 ):\n",
    "    query = \"SELECT Timestamp,cumulawatt,contcumulawatt,i20cumulawatt,i14cumulawatt,i8cumulawatt  FROM check_event.day%s WHERE Timestamp = '2016-10-%s 23:59:59' ; \"% (b,b)\n",
    "    df = pd.read_sql(query,conn)\n",
    "\n",
    "    sum_cumulawatt += df.cumulawatt[0]\n",
    "    sum_contcumulative += df.contcumulawatt[0]\n",
    "    sum_i20contcumulative += df.i20cumulawatt[0]\n",
    "    sum_i14contcumulative += df.i14cumulawatt[0]\n",
    "    sum_i8contcumulative += df.i8cumulawatt[0]\n",
    "    b+=1\n",
    "    \n",
    "print \"the cumulative watt in the tested month(1) is\", sum_cumulawatt ,\"watt\"\n",
    "print \"the cumulative watt in the controlled month(0) is\",sum_contcumulative,\"watt\"\n",
    "print \"the 20% averaged-cut and cumulative watt from the controlled month(0) is\",sum_i20contcumulative,\"watt\"\n",
    "print \"the 14% averaged-cut and cumulative watt from the controlled month(0) is\",sum_i14contcumulative,\"watt\"\n",
    "print \"the 8% averaged-cut and cumulative watt from the controlled month(0) is\",sum_i8contcumulative,\"watt\" \n"
   ]
  }
 ],
 "metadata": {
  "kernelspec": {
   "display_name": "Python 2",
   "language": "python",
   "name": "python2"
  },
  "language_info": {
   "codemirror_mode": {
    "name": "ipython",
    "version": 2
   },
   "file_extension": ".py",
   "mimetype": "text/x-python",
   "name": "python",
   "nbconvert_exporter": "python",
   "pygments_lexer": "ipython2",
   "version": "2.7.6"
  }
 },
 "nbformat": 4,
 "nbformat_minor": 1
}

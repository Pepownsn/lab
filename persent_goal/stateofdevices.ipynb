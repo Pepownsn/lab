{
 "cells": [
  {
   "cell_type": "code",
   "execution_count": 2,
   "metadata": {},
   "outputs": [],
   "source": [
    "import pandas as pd\n",
    "import MySQLdb\n",
    "import time\n",
    "import sys\n",
    "import numpy as np\n",
    "import time\n",
    "import datetime \n",
    "import random\n",
    "import matplotlib.pyplot as plt\n",
    "\n",
    "from sympy import *\n",
    "from sympy.solvers import solve\n",
    "from sympy.parsing.sympy_parser import parse_expr"
   ]
  },
  {
   "cell_type": "code",
   "execution_count": 3,
   "metadata": {},
   "outputs": [
    {
     "name": "stdout",
     "output_type": "stream",
     "text": [
      "check_event.redundant_consuming are Empty!!! \n",
      "\n",
      "SELECT Timestamp,watt FROM data_timeline.Computer WHERE Timestamp >= '2016-10-01 00:00:00'   AND Timestamp <= '2016-10-30 23:59:45'; \n"
     ]
    },
    {
     "name": "stderr",
     "output_type": "stream",
     "text": [
      "/usr/local/lib/python2.7/dist-packages/ipykernel/__main__.py:76: Warning: Field 'event_1' doesn't have a default value\n"
     ]
    },
    {
     "name": "stdout",
     "output_type": "stream",
     "text": [
      "DONE\n"
     ]
    }
   ],
   "source": [
    "conn = MySQLdb.connect(\"localhost\",\"conn\",\"hems\")\n",
    "c = conn.cursor()\n",
    "\n",
    "d = 30\n",
    "i = 0\n",
    "time_a = pd.date_range('2016-10-01 00:00:00', periods=5760*d, freq='15S')\n",
    "# print time_a\n",
    "time_b = pd.date_range('2016-10-01 00:00:14', periods=5760*d, freq='15S')\n",
    "# print time_b\n",
    "\n",
    "\n",
    "####### set databases to empty #########\n",
    "query_empty = \"\"\"truncate table check_event.redundant_consuming\"\"\" \n",
    "c.execute(query_empty)\n",
    "print \"check_event.redundant_consuming are Empty!!! \\n\"\n",
    "\n",
    "\n",
    "\n",
    "query = \"SELECT Timestamp,watt FROM data_timeline.Computer WHERE Timestamp >= '%s'   AND Timestamp <= '%s'; \"% (time_a[0],time_a[(5760*d)-1])\n",
    "df = pd.read_sql(query,conn)\n",
    "print query\n",
    "\n",
    "query1 = \"SELECT Timestamp,watt FROM data_timeline.TV WHERE Timestamp >= '%s'   AND Timestamp <= '%s'; \"% (time_a[0],time_a[(5760*d)-1])\n",
    "df1 = pd.read_sql(query1,conn)\n",
    "\n",
    "query2 = \"SELECT Timestamp,watt FROM data_timeline.aircont WHERE Timestamp >= '%s'   AND Timestamp <= '%s'; \"% (time_a[0],time_a[(5760*d)-1])\n",
    "df2 = pd.read_sql(query2,conn)\n",
    "\n",
    "query3 = \"SELECT Timestamp,watt FROM data_timeline.fan WHERE Timestamp >= '%s'   AND Timestamp <= '%s'; \"% (time_a[0],time_a[(5760*d)-1])\n",
    "df3 = pd.read_sql(query3,conn)\n",
    "\n",
    "query4 = \"SELECT Timestamp,watt_bed,watt_kitc FROM data_timeline.light_sys1 WHERE Timestamp >= '%s'   AND Timestamp <= '%s'; \"% (time_a[0],time_a[(5760*d)-1])\n",
    "df4 = pd.read_sql(query4,conn)\n",
    "\n",
    "com = []\n",
    "tv = []\n",
    "aircont = []\n",
    "fan = []\n",
    "bed = []\n",
    "kitc = []\n",
    "\n",
    "while (i<= len(df)-1):\n",
    "    if (df.watt[i] != 0 ):\n",
    "        com.append(1)\n",
    "    else:\n",
    "        com.append(0)\n",
    "        \n",
    "        \n",
    "    if (df1.watt[i] != 0):\n",
    "        tv.append(1)\n",
    "    else:\n",
    "        tv.append(0)\n",
    "           \n",
    "        \n",
    "    if (df2.watt[i] != 0):\n",
    "        aircont.append(1)\n",
    "    else:\n",
    "        aircont.append(0)         \n",
    "    \n",
    "\n",
    "    if (df3.watt[i] != 0):\n",
    "        fan.append(1)\n",
    "    else:\n",
    "        fan.append(0)       \n",
    "        \n",
    "    if (df4.watt_bed[i] != 0):\n",
    "        bed.append(1)\n",
    "    else:\n",
    "        bed.append(0)   \n",
    "        \n",
    "    if (df4.watt_kitc[i] != 0):\n",
    "        kitc.append(1)\n",
    "    else:\n",
    "        kitc.append(0)     \n",
    "        \n",
    "    c.execute(\"INSERT INTO check_event.redundant_consuming (Timestamp, Computer,TV,aircont,Fan,kitchen_light,bedroom_light) VALUES (%s, %s, %s, %s, %s, %s, %s)\",(time_b[i],com[i],tv[i],aircont[i],fan[i],bed[i],kitc[i]))\n",
    "    conn.commit()\n",
    "    i += 1 \n",
    "print \"DONE\"\n",
    "    "
   ]
  },
  {
   "cell_type": "code",
   "execution_count": null,
   "metadata": {},
   "outputs": [],
   "source": [
    "import pandas as pd\n",
    "import MySQLdb\n",
    "import numpy as np\n",
    "import time\n",
    "import datetime \n",
    "import random\n",
    "import matplotlib.pyplot as plt\n",
    "%matplotlib inline  \n",
    "\n",
    "\n",
    "\n",
    "d = 1\n",
    "time_a = pd.date_range('2016-10-01 00:00:00', periods=5760*d, freq='15S')\n",
    "# print time_a\n",
    "time_b = pd.date_range('2016-10-01 00:00:14', periods=5760*d, freq='15S')\n",
    "# print time_b\n",
    "# query = \"SELECT watt FROM device.aircont WHERE Timestamp >= '%s'   AND Timestamp <= '%s'; \"% (time_a[0],time_b[j-1])\n",
    "query = \"SELECT Timestamp, Computer,TV,aircont,Fan,kitchen_light,bedroom_light FROM check_event.redundant_consuming WHERE Timestamp >= '%s'   AND Timestamp <= '%s'; \"% (time_a[0],time_b[(5760*d)-1])\n",
    "df = pd.read_sql(query, conn, index_col=['Timestamp'])\n",
    "fig, ax = plt.subplots()\n",
    "ax.set_title('check_event.redundant_consuming')\n",
    "ax.set_ylim(-0.5,1.5);\n",
    "df.plot(ax=ax )\n",
    "plt.show()"
   ]
  },
  {
   "cell_type": "code",
   "execution_count": null,
   "metadata": {},
   "outputs": [],
   "source": [
    "import matplotlib.pyplot as plt\n",
    "%matplotlib inline  \n",
    "\n",
    "\n",
    "# query = \"SELECT watt FROM device.aircont WHERE Timestamp >= '%s'   AND Timestamp <= '%s'; \"% (time_a[0],time_b[j-1])\n",
    "query = \"SELECT Timestamp,watt FROM data_timeline.fan WHERE Timestamp >= '%s'   AND Timestamp <= '%s'; \"% (time_a[0],time_b[5759])\n",
    "df = pd.read_sql(query, conn, index_col=['Timestamp'])\n",
    "\n",
    "fig, ax = plt.subplots()\n",
    "ax.set_title('data_timeline.fan')\n",
    "df.plot(ax=ax )\n",
    "plt.show()\n",
    "# df.to_csv('file.csv')\n",
    "# len(time_b)"
   ]
  }
 ],
 "metadata": {
  "kernelspec": {
   "display_name": "Python 2",
   "language": "python",
   "name": "python2"
  },
  "language_info": {
   "codemirror_mode": {
    "name": "ipython",
    "version": 2
   },
   "file_extension": ".py",
   "mimetype": "text/x-python",
   "name": "python",
   "nbconvert_exporter": "python",
   "pygments_lexer": "ipython2",
   "version": "2.7.6"
  }
 },
 "nbformat": 4,
 "nbformat_minor": 1
}

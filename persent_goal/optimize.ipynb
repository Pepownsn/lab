{
 "cells": [
  {
   "cell_type": "code",
   "execution_count": 1,
   "metadata": {},
   "outputs": [],
   "source": [
    "import pandas as pd\n",
    "import MySQLdb\n",
    "import time\n",
    "import sys\n",
    "import numpy as np\n",
    "import time\n",
    "import datetime \n",
    "import random\n",
    "import matplotlib.pyplot as plt\n"
   ]
  },
  {
   "cell_type": "code",
   "execution_count": 4,
   "metadata": {},
   "outputs": [
    {
     "name": "stdout",
     "output_type": "stream",
     "text": [
      "check_event.discount15_optimize are Empty!!! \n",
      "\n",
      "DONE !!\n"
     ]
    }
   ],
   "source": [
    "d = 4\n",
    "\n",
    "time_a = pd.date_range('2016-10-01 00:00:00', periods=5760*d, freq='15S')\n",
    "# print time_a\n",
    "time_b = pd.date_range('2016-10-01 00:00:14', periods=5760*d, freq='15S')\n",
    "# print time_b\n",
    "\n",
    "conn = MySQLdb.connect(\"localhost\",\"conn\",\"hems\")\n",
    "c = conn.cursor()\n",
    "\n",
    "query_empty = \"\"\"truncate table check_event.discount15_optimize\"\"\" \n",
    "c.execute(query_empty)\n",
    "print \"check_event.discount15_optimize are Empty!!! \\n\"\n",
    "\n",
    "query0 = \"SELECT * FROM data_timeline.load_MONTH_1 WHERE  Timestamp >= '%s'   AND Timestamp <= '%s'; \"% (time_a[0],time_b[(291*60)+59])\n",
    "df0 = pd.read_sql(query0, conn)\n",
    "df0['watt'] = df0['watt'].astype(float)\n",
    "\n",
    "query = \"SELECT * FROM check_event.discount15 WHERE  Timestamp >= '%s'   AND Timestamp <= '%s'; \"% (time_a[0],time_b[(291*60)+59])\n",
    "df = pd.read_sql(query, conn)\n",
    "\n",
    "\n",
    "j =0\n",
    "while (j <= (291*60)+59):\n",
    "    c.execute(\"INSERT INTO check_event.discount15_optimize (Timestamp,target15watt,watt_now,sub_power,sub_power15sec,active5,active5sec,active10,active10sec,active15,active15sec) VALUES ( %s, %s,%s,%s,%s,%s,%s,%s,%s,%s,%s)\",\n",
    "              (time_b[j],df.target15watt[j],df.watt_now[j],df.sub_power[j],df.sub_power15sec[j],df.watt_now[j],df0.watt[j]/240,df.watt_now[j],df0.watt[j]/240,df.watt_now[j],df0.watt[j]/240))\n",
    "    conn.commit()\n",
    "    j+=1\n",
    "print \"DONE !!\"\n",
    "\n"
   ]
  },
  {
   "cell_type": "code",
   "execution_count": null,
   "metadata": {},
   "outputs": [],
   "source": []
  }
 ],
 "metadata": {
  "kernelspec": {
   "display_name": "Python 2",
   "language": "python",
   "name": "python2"
  },
  "language_info": {
   "codemirror_mode": {
    "name": "ipython",
    "version": 2
   },
   "file_extension": ".py",
   "mimetype": "text/x-python",
   "name": "python",
   "nbconvert_exporter": "python",
   "pygments_lexer": "ipython2",
   "version": "2.7.6"
  }
 },
 "nbformat": 4,
 "nbformat_minor": 1
}
